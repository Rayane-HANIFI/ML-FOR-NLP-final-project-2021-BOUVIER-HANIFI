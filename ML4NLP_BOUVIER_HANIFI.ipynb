{
  "nbformat": 4,
  "nbformat_minor": 0,
  "metadata": {
    "accelerator": "GPU",
    "colab": {
      "name": "ML4NLP_BOUVIER_HANIFI.ipynb",
      "provenance": [],
      "collapsed_sections": []
    },
    "kernelspec": {
      "display_name": "Python 3",
      "name": "python3"
    },
    "widgets": {
      "application/vnd.jupyter.widget-state+json": {
        "450e806ebbd74508b5215b5a96bb039c": {
          "model_module": "@jupyter-widgets/controls",
          "model_name": "HBoxModel",
          "state": {
            "_view_name": "HBoxView",
            "_dom_classes": [],
            "_model_name": "HBoxModel",
            "_view_module": "@jupyter-widgets/controls",
            "_model_module_version": "1.5.0",
            "_view_count": null,
            "_view_module_version": "1.5.0",
            "box_style": "",
            "layout": "IPY_MODEL_e7cdb391885d4909a7dde5bdc233d827",
            "_model_module": "@jupyter-widgets/controls",
            "children": [
              "IPY_MODEL_bd41e6b704d847bb82b7bf879cad9f87",
              "IPY_MODEL_5287013b5aaa46febed3f6bf88e9a574"
            ]
          }
        },
        "e7cdb391885d4909a7dde5bdc233d827": {
          "model_module": "@jupyter-widgets/base",
          "model_name": "LayoutModel",
          "state": {
            "_view_name": "LayoutView",
            "grid_template_rows": null,
            "right": null,
            "justify_content": null,
            "_view_module": "@jupyter-widgets/base",
            "overflow": null,
            "_model_module_version": "1.2.0",
            "_view_count": null,
            "flex_flow": null,
            "width": null,
            "min_width": null,
            "border": null,
            "align_items": null,
            "bottom": null,
            "_model_module": "@jupyter-widgets/base",
            "top": null,
            "grid_column": null,
            "overflow_y": null,
            "overflow_x": null,
            "grid_auto_flow": null,
            "grid_area": null,
            "grid_template_columns": null,
            "flex": null,
            "_model_name": "LayoutModel",
            "justify_items": null,
            "grid_row": null,
            "max_height": null,
            "align_content": null,
            "visibility": null,
            "align_self": null,
            "height": null,
            "min_height": null,
            "padding": null,
            "grid_auto_rows": null,
            "grid_gap": null,
            "max_width": null,
            "order": null,
            "_view_module_version": "1.2.0",
            "grid_template_areas": null,
            "object_position": null,
            "object_fit": null,
            "grid_auto_columns": null,
            "margin": null,
            "display": null,
            "left": null
          }
        },
        "bd41e6b704d847bb82b7bf879cad9f87": {
          "model_module": "@jupyter-widgets/controls",
          "model_name": "FloatProgressModel",
          "state": {
            "_view_name": "ProgressView",
            "style": "IPY_MODEL_5ee3e581823d4beebc5b1448ee545dda",
            "_dom_classes": [],
            "description": "Downloading: 100%",
            "_model_name": "FloatProgressModel",
            "bar_style": "success",
            "max": 570,
            "_view_module": "@jupyter-widgets/controls",
            "_model_module_version": "1.5.0",
            "value": 570,
            "_view_count": null,
            "_view_module_version": "1.5.0",
            "orientation": "horizontal",
            "min": 0,
            "description_tooltip": null,
            "_model_module": "@jupyter-widgets/controls",
            "layout": "IPY_MODEL_291b5733e3ca4ada9d5bb3386f9397a1"
          }
        },
        "5287013b5aaa46febed3f6bf88e9a574": {
          "model_module": "@jupyter-widgets/controls",
          "model_name": "HTMLModel",
          "state": {
            "_view_name": "HTMLView",
            "style": "IPY_MODEL_2ba7928112d14b93bf91840abe2fcdd5",
            "_dom_classes": [],
            "description": "",
            "_model_name": "HTMLModel",
            "placeholder": "​",
            "_view_module": "@jupyter-widgets/controls",
            "_model_module_version": "1.5.0",
            "value": " 570/570 [00:00&lt;00:00, 2.32kB/s]",
            "_view_count": null,
            "_view_module_version": "1.5.0",
            "description_tooltip": null,
            "_model_module": "@jupyter-widgets/controls",
            "layout": "IPY_MODEL_a3cd9b2e54f546d0864a768c7883bb67"
          }
        },
        "5ee3e581823d4beebc5b1448ee545dda": {
          "model_module": "@jupyter-widgets/controls",
          "model_name": "ProgressStyleModel",
          "state": {
            "_view_name": "StyleView",
            "_model_name": "ProgressStyleModel",
            "description_width": "initial",
            "_view_module": "@jupyter-widgets/base",
            "_model_module_version": "1.5.0",
            "_view_count": null,
            "_view_module_version": "1.2.0",
            "bar_color": null,
            "_model_module": "@jupyter-widgets/controls"
          }
        },
        "291b5733e3ca4ada9d5bb3386f9397a1": {
          "model_module": "@jupyter-widgets/base",
          "model_name": "LayoutModel",
          "state": {
            "_view_name": "LayoutView",
            "grid_template_rows": null,
            "right": null,
            "justify_content": null,
            "_view_module": "@jupyter-widgets/base",
            "overflow": null,
            "_model_module_version": "1.2.0",
            "_view_count": null,
            "flex_flow": null,
            "width": null,
            "min_width": null,
            "border": null,
            "align_items": null,
            "bottom": null,
            "_model_module": "@jupyter-widgets/base",
            "top": null,
            "grid_column": null,
            "overflow_y": null,
            "overflow_x": null,
            "grid_auto_flow": null,
            "grid_area": null,
            "grid_template_columns": null,
            "flex": null,
            "_model_name": "LayoutModel",
            "justify_items": null,
            "grid_row": null,
            "max_height": null,
            "align_content": null,
            "visibility": null,
            "align_self": null,
            "height": null,
            "min_height": null,
            "padding": null,
            "grid_auto_rows": null,
            "grid_gap": null,
            "max_width": null,
            "order": null,
            "_view_module_version": "1.2.0",
            "grid_template_areas": null,
            "object_position": null,
            "object_fit": null,
            "grid_auto_columns": null,
            "margin": null,
            "display": null,
            "left": null
          }
        },
        "2ba7928112d14b93bf91840abe2fcdd5": {
          "model_module": "@jupyter-widgets/controls",
          "model_name": "DescriptionStyleModel",
          "state": {
            "_view_name": "StyleView",
            "_model_name": "DescriptionStyleModel",
            "description_width": "",
            "_view_module": "@jupyter-widgets/base",
            "_model_module_version": "1.5.0",
            "_view_count": null,
            "_view_module_version": "1.2.0",
            "_model_module": "@jupyter-widgets/controls"
          }
        },
        "a3cd9b2e54f546d0864a768c7883bb67": {
          "model_module": "@jupyter-widgets/base",
          "model_name": "LayoutModel",
          "state": {
            "_view_name": "LayoutView",
            "grid_template_rows": null,
            "right": null,
            "justify_content": null,
            "_view_module": "@jupyter-widgets/base",
            "overflow": null,
            "_model_module_version": "1.2.0",
            "_view_count": null,
            "flex_flow": null,
            "width": null,
            "min_width": null,
            "border": null,
            "align_items": null,
            "bottom": null,
            "_model_module": "@jupyter-widgets/base",
            "top": null,
            "grid_column": null,
            "overflow_y": null,
            "overflow_x": null,
            "grid_auto_flow": null,
            "grid_area": null,
            "grid_template_columns": null,
            "flex": null,
            "_model_name": "LayoutModel",
            "justify_items": null,
            "grid_row": null,
            "max_height": null,
            "align_content": null,
            "visibility": null,
            "align_self": null,
            "height": null,
            "min_height": null,
            "padding": null,
            "grid_auto_rows": null,
            "grid_gap": null,
            "max_width": null,
            "order": null,
            "_view_module_version": "1.2.0",
            "grid_template_areas": null,
            "object_position": null,
            "object_fit": null,
            "grid_auto_columns": null,
            "margin": null,
            "display": null,
            "left": null
          }
        },
        "75f0fc87d2e64b86973e49e9b29a5470": {
          "model_module": "@jupyter-widgets/controls",
          "model_name": "HBoxModel",
          "state": {
            "_view_name": "HBoxView",
            "_dom_classes": [],
            "_model_name": "HBoxModel",
            "_view_module": "@jupyter-widgets/controls",
            "_model_module_version": "1.5.0",
            "_view_count": null,
            "_view_module_version": "1.5.0",
            "box_style": "",
            "layout": "IPY_MODEL_e92aef4be00d430aa857f7554d291be7",
            "_model_module": "@jupyter-widgets/controls",
            "children": [
              "IPY_MODEL_fb41728fcec041599e0f6a2801de9561",
              "IPY_MODEL_dc64edab53b54ab2ab2b1b18162dbab6"
            ]
          }
        },
        "e92aef4be00d430aa857f7554d291be7": {
          "model_module": "@jupyter-widgets/base",
          "model_name": "LayoutModel",
          "state": {
            "_view_name": "LayoutView",
            "grid_template_rows": null,
            "right": null,
            "justify_content": null,
            "_view_module": "@jupyter-widgets/base",
            "overflow": null,
            "_model_module_version": "1.2.0",
            "_view_count": null,
            "flex_flow": null,
            "width": null,
            "min_width": null,
            "border": null,
            "align_items": null,
            "bottom": null,
            "_model_module": "@jupyter-widgets/base",
            "top": null,
            "grid_column": null,
            "overflow_y": null,
            "overflow_x": null,
            "grid_auto_flow": null,
            "grid_area": null,
            "grid_template_columns": null,
            "flex": null,
            "_model_name": "LayoutModel",
            "justify_items": null,
            "grid_row": null,
            "max_height": null,
            "align_content": null,
            "visibility": null,
            "align_self": null,
            "height": null,
            "min_height": null,
            "padding": null,
            "grid_auto_rows": null,
            "grid_gap": null,
            "max_width": null,
            "order": null,
            "_view_module_version": "1.2.0",
            "grid_template_areas": null,
            "object_position": null,
            "object_fit": null,
            "grid_auto_columns": null,
            "margin": null,
            "display": null,
            "left": null
          }
        },
        "fb41728fcec041599e0f6a2801de9561": {
          "model_module": "@jupyter-widgets/controls",
          "model_name": "FloatProgressModel",
          "state": {
            "_view_name": "ProgressView",
            "style": "IPY_MODEL_f33ea3ec6ece49a8bb3ba4ae2332593b",
            "_dom_classes": [],
            "description": "Downloading: 100%",
            "_model_name": "FloatProgressModel",
            "bar_style": "success",
            "max": 440473133,
            "_view_module": "@jupyter-widgets/controls",
            "_model_module_version": "1.5.0",
            "value": 440473133,
            "_view_count": null,
            "_view_module_version": "1.5.0",
            "orientation": "horizontal",
            "min": 0,
            "description_tooltip": null,
            "_model_module": "@jupyter-widgets/controls",
            "layout": "IPY_MODEL_64e964231d8646449e9a7618a04694b4"
          }
        },
        "dc64edab53b54ab2ab2b1b18162dbab6": {
          "model_module": "@jupyter-widgets/controls",
          "model_name": "HTMLModel",
          "state": {
            "_view_name": "HTMLView",
            "style": "IPY_MODEL_9c85ba28eb20452397150f62e3971625",
            "_dom_classes": [],
            "description": "",
            "_model_name": "HTMLModel",
            "placeholder": "​",
            "_view_module": "@jupyter-widgets/controls",
            "_model_module_version": "1.5.0",
            "value": " 440M/440M [00:07&lt;00:00, 56.6MB/s]",
            "_view_count": null,
            "_view_module_version": "1.5.0",
            "description_tooltip": null,
            "_model_module": "@jupyter-widgets/controls",
            "layout": "IPY_MODEL_8629947d3333427ba89b6ce996945c96"
          }
        },
        "f33ea3ec6ece49a8bb3ba4ae2332593b": {
          "model_module": "@jupyter-widgets/controls",
          "model_name": "ProgressStyleModel",
          "state": {
            "_view_name": "StyleView",
            "_model_name": "ProgressStyleModel",
            "description_width": "initial",
            "_view_module": "@jupyter-widgets/base",
            "_model_module_version": "1.5.0",
            "_view_count": null,
            "_view_module_version": "1.2.0",
            "bar_color": null,
            "_model_module": "@jupyter-widgets/controls"
          }
        },
        "64e964231d8646449e9a7618a04694b4": {
          "model_module": "@jupyter-widgets/base",
          "model_name": "LayoutModel",
          "state": {
            "_view_name": "LayoutView",
            "grid_template_rows": null,
            "right": null,
            "justify_content": null,
            "_view_module": "@jupyter-widgets/base",
            "overflow": null,
            "_model_module_version": "1.2.0",
            "_view_count": null,
            "flex_flow": null,
            "width": null,
            "min_width": null,
            "border": null,
            "align_items": null,
            "bottom": null,
            "_model_module": "@jupyter-widgets/base",
            "top": null,
            "grid_column": null,
            "overflow_y": null,
            "overflow_x": null,
            "grid_auto_flow": null,
            "grid_area": null,
            "grid_template_columns": null,
            "flex": null,
            "_model_name": "LayoutModel",
            "justify_items": null,
            "grid_row": null,
            "max_height": null,
            "align_content": null,
            "visibility": null,
            "align_self": null,
            "height": null,
            "min_height": null,
            "padding": null,
            "grid_auto_rows": null,
            "grid_gap": null,
            "max_width": null,
            "order": null,
            "_view_module_version": "1.2.0",
            "grid_template_areas": null,
            "object_position": null,
            "object_fit": null,
            "grid_auto_columns": null,
            "margin": null,
            "display": null,
            "left": null
          }
        },
        "9c85ba28eb20452397150f62e3971625": {
          "model_module": "@jupyter-widgets/controls",
          "model_name": "DescriptionStyleModel",
          "state": {
            "_view_name": "StyleView",
            "_model_name": "DescriptionStyleModel",
            "description_width": "",
            "_view_module": "@jupyter-widgets/base",
            "_model_module_version": "1.5.0",
            "_view_count": null,
            "_view_module_version": "1.2.0",
            "_model_module": "@jupyter-widgets/controls"
          }
        },
        "8629947d3333427ba89b6ce996945c96": {
          "model_module": "@jupyter-widgets/base",
          "model_name": "LayoutModel",
          "state": {
            "_view_name": "LayoutView",
            "grid_template_rows": null,
            "right": null,
            "justify_content": null,
            "_view_module": "@jupyter-widgets/base",
            "overflow": null,
            "_model_module_version": "1.2.0",
            "_view_count": null,
            "flex_flow": null,
            "width": null,
            "min_width": null,
            "border": null,
            "align_items": null,
            "bottom": null,
            "_model_module": "@jupyter-widgets/base",
            "top": null,
            "grid_column": null,
            "overflow_y": null,
            "overflow_x": null,
            "grid_auto_flow": null,
            "grid_area": null,
            "grid_template_columns": null,
            "flex": null,
            "_model_name": "LayoutModel",
            "justify_items": null,
            "grid_row": null,
            "max_height": null,
            "align_content": null,
            "visibility": null,
            "align_self": null,
            "height": null,
            "min_height": null,
            "padding": null,
            "grid_auto_rows": null,
            "grid_gap": null,
            "max_width": null,
            "order": null,
            "_view_module_version": "1.2.0",
            "grid_template_areas": null,
            "object_position": null,
            "object_fit": null,
            "grid_auto_columns": null,
            "margin": null,
            "display": null,
            "left": null
          }
        },
        "0b96345d2a9c4912b701739278b3178b": {
          "model_module": "@jupyter-widgets/controls",
          "model_name": "HBoxModel",
          "state": {
            "_view_name": "HBoxView",
            "_dom_classes": [],
            "_model_name": "HBoxModel",
            "_view_module": "@jupyter-widgets/controls",
            "_model_module_version": "1.5.0",
            "_view_count": null,
            "_view_module_version": "1.5.0",
            "box_style": "",
            "layout": "IPY_MODEL_71019e1c89514a0ba7c3f993a75bf14b",
            "_model_module": "@jupyter-widgets/controls",
            "children": [
              "IPY_MODEL_b10604c481ef4009a8faa7901a7ef993",
              "IPY_MODEL_af7f569ab646495a9b50ee76ef125234"
            ]
          }
        },
        "71019e1c89514a0ba7c3f993a75bf14b": {
          "model_module": "@jupyter-widgets/base",
          "model_name": "LayoutModel",
          "state": {
            "_view_name": "LayoutView",
            "grid_template_rows": null,
            "right": null,
            "justify_content": null,
            "_view_module": "@jupyter-widgets/base",
            "overflow": null,
            "_model_module_version": "1.2.0",
            "_view_count": null,
            "flex_flow": null,
            "width": null,
            "min_width": null,
            "border": null,
            "align_items": null,
            "bottom": null,
            "_model_module": "@jupyter-widgets/base",
            "top": null,
            "grid_column": null,
            "overflow_y": null,
            "overflow_x": null,
            "grid_auto_flow": null,
            "grid_area": null,
            "grid_template_columns": null,
            "flex": null,
            "_model_name": "LayoutModel",
            "justify_items": null,
            "grid_row": null,
            "max_height": null,
            "align_content": null,
            "visibility": null,
            "align_self": null,
            "height": null,
            "min_height": null,
            "padding": null,
            "grid_auto_rows": null,
            "grid_gap": null,
            "max_width": null,
            "order": null,
            "_view_module_version": "1.2.0",
            "grid_template_areas": null,
            "object_position": null,
            "object_fit": null,
            "grid_auto_columns": null,
            "margin": null,
            "display": null,
            "left": null
          }
        },
        "b10604c481ef4009a8faa7901a7ef993": {
          "model_module": "@jupyter-widgets/controls",
          "model_name": "FloatProgressModel",
          "state": {
            "_view_name": "ProgressView",
            "style": "IPY_MODEL_58f1ce46c08f4ef0b9871e357835cc0a",
            "_dom_classes": [],
            "description": "Downloading: 100%",
            "_model_name": "FloatProgressModel",
            "bar_style": "success",
            "max": 231508,
            "_view_module": "@jupyter-widgets/controls",
            "_model_module_version": "1.5.0",
            "value": 231508,
            "_view_count": null,
            "_view_module_version": "1.5.0",
            "orientation": "horizontal",
            "min": 0,
            "description_tooltip": null,
            "_model_module": "@jupyter-widgets/controls",
            "layout": "IPY_MODEL_361ae30a26e249c2bd8a7ab23306dc13"
          }
        },
        "af7f569ab646495a9b50ee76ef125234": {
          "model_module": "@jupyter-widgets/controls",
          "model_name": "HTMLModel",
          "state": {
            "_view_name": "HTMLView",
            "style": "IPY_MODEL_012d56f714d8471bb37528797c049685",
            "_dom_classes": [],
            "description": "",
            "_model_name": "HTMLModel",
            "placeholder": "​",
            "_view_module": "@jupyter-widgets/controls",
            "_model_module_version": "1.5.0",
            "value": " 232k/232k [00:01&lt;00:00, 124kB/s]",
            "_view_count": null,
            "_view_module_version": "1.5.0",
            "description_tooltip": null,
            "_model_module": "@jupyter-widgets/controls",
            "layout": "IPY_MODEL_8eed78cee0944a47aecbf16579156645"
          }
        },
        "58f1ce46c08f4ef0b9871e357835cc0a": {
          "model_module": "@jupyter-widgets/controls",
          "model_name": "ProgressStyleModel",
          "state": {
            "_view_name": "StyleView",
            "_model_name": "ProgressStyleModel",
            "description_width": "initial",
            "_view_module": "@jupyter-widgets/base",
            "_model_module_version": "1.5.0",
            "_view_count": null,
            "_view_module_version": "1.2.0",
            "bar_color": null,
            "_model_module": "@jupyter-widgets/controls"
          }
        },
        "361ae30a26e249c2bd8a7ab23306dc13": {
          "model_module": "@jupyter-widgets/base",
          "model_name": "LayoutModel",
          "state": {
            "_view_name": "LayoutView",
            "grid_template_rows": null,
            "right": null,
            "justify_content": null,
            "_view_module": "@jupyter-widgets/base",
            "overflow": null,
            "_model_module_version": "1.2.0",
            "_view_count": null,
            "flex_flow": null,
            "width": null,
            "min_width": null,
            "border": null,
            "align_items": null,
            "bottom": null,
            "_model_module": "@jupyter-widgets/base",
            "top": null,
            "grid_column": null,
            "overflow_y": null,
            "overflow_x": null,
            "grid_auto_flow": null,
            "grid_area": null,
            "grid_template_columns": null,
            "flex": null,
            "_model_name": "LayoutModel",
            "justify_items": null,
            "grid_row": null,
            "max_height": null,
            "align_content": null,
            "visibility": null,
            "align_self": null,
            "height": null,
            "min_height": null,
            "padding": null,
            "grid_auto_rows": null,
            "grid_gap": null,
            "max_width": null,
            "order": null,
            "_view_module_version": "1.2.0",
            "grid_template_areas": null,
            "object_position": null,
            "object_fit": null,
            "grid_auto_columns": null,
            "margin": null,
            "display": null,
            "left": null
          }
        },
        "012d56f714d8471bb37528797c049685": {
          "model_module": "@jupyter-widgets/controls",
          "model_name": "DescriptionStyleModel",
          "state": {
            "_view_name": "StyleView",
            "_model_name": "DescriptionStyleModel",
            "description_width": "",
            "_view_module": "@jupyter-widgets/base",
            "_model_module_version": "1.5.0",
            "_view_count": null,
            "_view_module_version": "1.2.0",
            "_model_module": "@jupyter-widgets/controls"
          }
        },
        "8eed78cee0944a47aecbf16579156645": {
          "model_module": "@jupyter-widgets/base",
          "model_name": "LayoutModel",
          "state": {
            "_view_name": "LayoutView",
            "grid_template_rows": null,
            "right": null,
            "justify_content": null,
            "_view_module": "@jupyter-widgets/base",
            "overflow": null,
            "_model_module_version": "1.2.0",
            "_view_count": null,
            "flex_flow": null,
            "width": null,
            "min_width": null,
            "border": null,
            "align_items": null,
            "bottom": null,
            "_model_module": "@jupyter-widgets/base",
            "top": null,
            "grid_column": null,
            "overflow_y": null,
            "overflow_x": null,
            "grid_auto_flow": null,
            "grid_area": null,
            "grid_template_columns": null,
            "flex": null,
            "_model_name": "LayoutModel",
            "justify_items": null,
            "grid_row": null,
            "max_height": null,
            "align_content": null,
            "visibility": null,
            "align_self": null,
            "height": null,
            "min_height": null,
            "padding": null,
            "grid_auto_rows": null,
            "grid_gap": null,
            "max_width": null,
            "order": null,
            "_view_module_version": "1.2.0",
            "grid_template_areas": null,
            "object_position": null,
            "object_fit": null,
            "grid_auto_columns": null,
            "margin": null,
            "display": null,
            "left": null
          }
        },
        "a704f36ab9c5412eb4adfe8b906cad7d": {
          "model_module": "@jupyter-widgets/controls",
          "model_name": "HBoxModel",
          "state": {
            "_view_name": "HBoxView",
            "_dom_classes": [],
            "_model_name": "HBoxModel",
            "_view_module": "@jupyter-widgets/controls",
            "_model_module_version": "1.5.0",
            "_view_count": null,
            "_view_module_version": "1.5.0",
            "box_style": "",
            "layout": "IPY_MODEL_dd037fccce9941da96687b3240c4db1b",
            "_model_module": "@jupyter-widgets/controls",
            "children": [
              "IPY_MODEL_a5120d3fa4b04ac184c888330c3efcfb",
              "IPY_MODEL_8ba9040b7b5c4646aa14f39c5d559b61"
            ]
          }
        },
        "dd037fccce9941da96687b3240c4db1b": {
          "model_module": "@jupyter-widgets/base",
          "model_name": "LayoutModel",
          "state": {
            "_view_name": "LayoutView",
            "grid_template_rows": null,
            "right": null,
            "justify_content": null,
            "_view_module": "@jupyter-widgets/base",
            "overflow": null,
            "_model_module_version": "1.2.0",
            "_view_count": null,
            "flex_flow": null,
            "width": null,
            "min_width": null,
            "border": null,
            "align_items": null,
            "bottom": null,
            "_model_module": "@jupyter-widgets/base",
            "top": null,
            "grid_column": null,
            "overflow_y": null,
            "overflow_x": null,
            "grid_auto_flow": null,
            "grid_area": null,
            "grid_template_columns": null,
            "flex": null,
            "_model_name": "LayoutModel",
            "justify_items": null,
            "grid_row": null,
            "max_height": null,
            "align_content": null,
            "visibility": null,
            "align_self": null,
            "height": null,
            "min_height": null,
            "padding": null,
            "grid_auto_rows": null,
            "grid_gap": null,
            "max_width": null,
            "order": null,
            "_view_module_version": "1.2.0",
            "grid_template_areas": null,
            "object_position": null,
            "object_fit": null,
            "grid_auto_columns": null,
            "margin": null,
            "display": null,
            "left": null
          }
        },
        "a5120d3fa4b04ac184c888330c3efcfb": {
          "model_module": "@jupyter-widgets/controls",
          "model_name": "FloatProgressModel",
          "state": {
            "_view_name": "ProgressView",
            "style": "IPY_MODEL_c5fa49769bec4bbfa87912da24295ee9",
            "_dom_classes": [],
            "description": "Downloading: 100%",
            "_model_name": "FloatProgressModel",
            "bar_style": "success",
            "max": 28,
            "_view_module": "@jupyter-widgets/controls",
            "_model_module_version": "1.5.0",
            "value": 28,
            "_view_count": null,
            "_view_module_version": "1.5.0",
            "orientation": "horizontal",
            "min": 0,
            "description_tooltip": null,
            "_model_module": "@jupyter-widgets/controls",
            "layout": "IPY_MODEL_087a99d57d6f45e39c364d40e5c15a23"
          }
        },
        "8ba9040b7b5c4646aa14f39c5d559b61": {
          "model_module": "@jupyter-widgets/controls",
          "model_name": "HTMLModel",
          "state": {
            "_view_name": "HTMLView",
            "style": "IPY_MODEL_cebb9e74b2b54d1b89e00130003b8cf0",
            "_dom_classes": [],
            "description": "",
            "_model_name": "HTMLModel",
            "placeholder": "​",
            "_view_module": "@jupyter-widgets/controls",
            "_model_module_version": "1.5.0",
            "value": " 28.0/28.0 [00:00&lt;00:00, 35.2B/s]",
            "_view_count": null,
            "_view_module_version": "1.5.0",
            "description_tooltip": null,
            "_model_module": "@jupyter-widgets/controls",
            "layout": "IPY_MODEL_c0bfd3553ae1415f92ec889723da6381"
          }
        },
        "c5fa49769bec4bbfa87912da24295ee9": {
          "model_module": "@jupyter-widgets/controls",
          "model_name": "ProgressStyleModel",
          "state": {
            "_view_name": "StyleView",
            "_model_name": "ProgressStyleModel",
            "description_width": "initial",
            "_view_module": "@jupyter-widgets/base",
            "_model_module_version": "1.5.0",
            "_view_count": null,
            "_view_module_version": "1.2.0",
            "bar_color": null,
            "_model_module": "@jupyter-widgets/controls"
          }
        },
        "087a99d57d6f45e39c364d40e5c15a23": {
          "model_module": "@jupyter-widgets/base",
          "model_name": "LayoutModel",
          "state": {
            "_view_name": "LayoutView",
            "grid_template_rows": null,
            "right": null,
            "justify_content": null,
            "_view_module": "@jupyter-widgets/base",
            "overflow": null,
            "_model_module_version": "1.2.0",
            "_view_count": null,
            "flex_flow": null,
            "width": null,
            "min_width": null,
            "border": null,
            "align_items": null,
            "bottom": null,
            "_model_module": "@jupyter-widgets/base",
            "top": null,
            "grid_column": null,
            "overflow_y": null,
            "overflow_x": null,
            "grid_auto_flow": null,
            "grid_area": null,
            "grid_template_columns": null,
            "flex": null,
            "_model_name": "LayoutModel",
            "justify_items": null,
            "grid_row": null,
            "max_height": null,
            "align_content": null,
            "visibility": null,
            "align_self": null,
            "height": null,
            "min_height": null,
            "padding": null,
            "grid_auto_rows": null,
            "grid_gap": null,
            "max_width": null,
            "order": null,
            "_view_module_version": "1.2.0",
            "grid_template_areas": null,
            "object_position": null,
            "object_fit": null,
            "grid_auto_columns": null,
            "margin": null,
            "display": null,
            "left": null
          }
        },
        "cebb9e74b2b54d1b89e00130003b8cf0": {
          "model_module": "@jupyter-widgets/controls",
          "model_name": "DescriptionStyleModel",
          "state": {
            "_view_name": "StyleView",
            "_model_name": "DescriptionStyleModel",
            "description_width": "",
            "_view_module": "@jupyter-widgets/base",
            "_model_module_version": "1.5.0",
            "_view_count": null,
            "_view_module_version": "1.2.0",
            "_model_module": "@jupyter-widgets/controls"
          }
        },
        "c0bfd3553ae1415f92ec889723da6381": {
          "model_module": "@jupyter-widgets/base",
          "model_name": "LayoutModel",
          "state": {
            "_view_name": "LayoutView",
            "grid_template_rows": null,
            "right": null,
            "justify_content": null,
            "_view_module": "@jupyter-widgets/base",
            "overflow": null,
            "_model_module_version": "1.2.0",
            "_view_count": null,
            "flex_flow": null,
            "width": null,
            "min_width": null,
            "border": null,
            "align_items": null,
            "bottom": null,
            "_model_module": "@jupyter-widgets/base",
            "top": null,
            "grid_column": null,
            "overflow_y": null,
            "overflow_x": null,
            "grid_auto_flow": null,
            "grid_area": null,
            "grid_template_columns": null,
            "flex": null,
            "_model_name": "LayoutModel",
            "justify_items": null,
            "grid_row": null,
            "max_height": null,
            "align_content": null,
            "visibility": null,
            "align_self": null,
            "height": null,
            "min_height": null,
            "padding": null,
            "grid_auto_rows": null,
            "grid_gap": null,
            "max_width": null,
            "order": null,
            "_view_module_version": "1.2.0",
            "grid_template_areas": null,
            "object_position": null,
            "object_fit": null,
            "grid_auto_columns": null,
            "margin": null,
            "display": null,
            "left": null
          }
        },
        "362f7d9207f046eeb060362e027832d4": {
          "model_module": "@jupyter-widgets/controls",
          "model_name": "HBoxModel",
          "state": {
            "_view_name": "HBoxView",
            "_dom_classes": [],
            "_model_name": "HBoxModel",
            "_view_module": "@jupyter-widgets/controls",
            "_model_module_version": "1.5.0",
            "_view_count": null,
            "_view_module_version": "1.5.0",
            "box_style": "",
            "layout": "IPY_MODEL_a79374aabd174c3789e10835a6b9a669",
            "_model_module": "@jupyter-widgets/controls",
            "children": [
              "IPY_MODEL_f40d6eae9ef44fa9a9a6d348c3427add",
              "IPY_MODEL_badd8cee53d447658675459f5e1c4edb"
            ]
          }
        },
        "a79374aabd174c3789e10835a6b9a669": {
          "model_module": "@jupyter-widgets/base",
          "model_name": "LayoutModel",
          "state": {
            "_view_name": "LayoutView",
            "grid_template_rows": null,
            "right": null,
            "justify_content": null,
            "_view_module": "@jupyter-widgets/base",
            "overflow": null,
            "_model_module_version": "1.2.0",
            "_view_count": null,
            "flex_flow": null,
            "width": null,
            "min_width": null,
            "border": null,
            "align_items": null,
            "bottom": null,
            "_model_module": "@jupyter-widgets/base",
            "top": null,
            "grid_column": null,
            "overflow_y": null,
            "overflow_x": null,
            "grid_auto_flow": null,
            "grid_area": null,
            "grid_template_columns": null,
            "flex": null,
            "_model_name": "LayoutModel",
            "justify_items": null,
            "grid_row": null,
            "max_height": null,
            "align_content": null,
            "visibility": null,
            "align_self": null,
            "height": null,
            "min_height": null,
            "padding": null,
            "grid_auto_rows": null,
            "grid_gap": null,
            "max_width": null,
            "order": null,
            "_view_module_version": "1.2.0",
            "grid_template_areas": null,
            "object_position": null,
            "object_fit": null,
            "grid_auto_columns": null,
            "margin": null,
            "display": null,
            "left": null
          }
        },
        "f40d6eae9ef44fa9a9a6d348c3427add": {
          "model_module": "@jupyter-widgets/controls",
          "model_name": "FloatProgressModel",
          "state": {
            "_view_name": "ProgressView",
            "style": "IPY_MODEL_0b58d6436d06441a9cb0147b341f7eb0",
            "_dom_classes": [],
            "description": "Downloading: 100%",
            "_model_name": "FloatProgressModel",
            "bar_style": "success",
            "max": 466062,
            "_view_module": "@jupyter-widgets/controls",
            "_model_module_version": "1.5.0",
            "value": 466062,
            "_view_count": null,
            "_view_module_version": "1.5.0",
            "orientation": "horizontal",
            "min": 0,
            "description_tooltip": null,
            "_model_module": "@jupyter-widgets/controls",
            "layout": "IPY_MODEL_f3cfebfca11d4ccab3381b41aeea418d"
          }
        },
        "badd8cee53d447658675459f5e1c4edb": {
          "model_module": "@jupyter-widgets/controls",
          "model_name": "HTMLModel",
          "state": {
            "_view_name": "HTMLView",
            "style": "IPY_MODEL_e51337a9a7534b78ac02c8595e23b107",
            "_dom_classes": [],
            "description": "",
            "_model_name": "HTMLModel",
            "placeholder": "​",
            "_view_module": "@jupyter-widgets/controls",
            "_model_module_version": "1.5.0",
            "value": " 466k/466k [00:00&lt;00:00, 1.37MB/s]",
            "_view_count": null,
            "_view_module_version": "1.5.0",
            "description_tooltip": null,
            "_model_module": "@jupyter-widgets/controls",
            "layout": "IPY_MODEL_ec7ad16f0e5a4728ae2c6f9fe4fdc7ac"
          }
        },
        "0b58d6436d06441a9cb0147b341f7eb0": {
          "model_module": "@jupyter-widgets/controls",
          "model_name": "ProgressStyleModel",
          "state": {
            "_view_name": "StyleView",
            "_model_name": "ProgressStyleModel",
            "description_width": "initial",
            "_view_module": "@jupyter-widgets/base",
            "_model_module_version": "1.5.0",
            "_view_count": null,
            "_view_module_version": "1.2.0",
            "bar_color": null,
            "_model_module": "@jupyter-widgets/controls"
          }
        },
        "f3cfebfca11d4ccab3381b41aeea418d": {
          "model_module": "@jupyter-widgets/base",
          "model_name": "LayoutModel",
          "state": {
            "_view_name": "LayoutView",
            "grid_template_rows": null,
            "right": null,
            "justify_content": null,
            "_view_module": "@jupyter-widgets/base",
            "overflow": null,
            "_model_module_version": "1.2.0",
            "_view_count": null,
            "flex_flow": null,
            "width": null,
            "min_width": null,
            "border": null,
            "align_items": null,
            "bottom": null,
            "_model_module": "@jupyter-widgets/base",
            "top": null,
            "grid_column": null,
            "overflow_y": null,
            "overflow_x": null,
            "grid_auto_flow": null,
            "grid_area": null,
            "grid_template_columns": null,
            "flex": null,
            "_model_name": "LayoutModel",
            "justify_items": null,
            "grid_row": null,
            "max_height": null,
            "align_content": null,
            "visibility": null,
            "align_self": null,
            "height": null,
            "min_height": null,
            "padding": null,
            "grid_auto_rows": null,
            "grid_gap": null,
            "max_width": null,
            "order": null,
            "_view_module_version": "1.2.0",
            "grid_template_areas": null,
            "object_position": null,
            "object_fit": null,
            "grid_auto_columns": null,
            "margin": null,
            "display": null,
            "left": null
          }
        },
        "e51337a9a7534b78ac02c8595e23b107": {
          "model_module": "@jupyter-widgets/controls",
          "model_name": "DescriptionStyleModel",
          "state": {
            "_view_name": "StyleView",
            "_model_name": "DescriptionStyleModel",
            "description_width": "",
            "_view_module": "@jupyter-widgets/base",
            "_model_module_version": "1.5.0",
            "_view_count": null,
            "_view_module_version": "1.2.0",
            "_model_module": "@jupyter-widgets/controls"
          }
        },
        "ec7ad16f0e5a4728ae2c6f9fe4fdc7ac": {
          "model_module": "@jupyter-widgets/base",
          "model_name": "LayoutModel",
          "state": {
            "_view_name": "LayoutView",
            "grid_template_rows": null,
            "right": null,
            "justify_content": null,
            "_view_module": "@jupyter-widgets/base",
            "overflow": null,
            "_model_module_version": "1.2.0",
            "_view_count": null,
            "flex_flow": null,
            "width": null,
            "min_width": null,
            "border": null,
            "align_items": null,
            "bottom": null,
            "_model_module": "@jupyter-widgets/base",
            "top": null,
            "grid_column": null,
            "overflow_y": null,
            "overflow_x": null,
            "grid_auto_flow": null,
            "grid_area": null,
            "grid_template_columns": null,
            "flex": null,
            "_model_name": "LayoutModel",
            "justify_items": null,
            "grid_row": null,
            "max_height": null,
            "align_content": null,
            "visibility": null,
            "align_self": null,
            "height": null,
            "min_height": null,
            "padding": null,
            "grid_auto_rows": null,
            "grid_gap": null,
            "max_width": null,
            "order": null,
            "_view_module_version": "1.2.0",
            "grid_template_areas": null,
            "object_position": null,
            "object_fit": null,
            "grid_auto_columns": null,
            "margin": null,
            "display": null,
            "left": null
          }
        }
      }
    }
  },
  "cells": [
    {
      "cell_type": "markdown",
      "metadata": {
        "id": "GKA2YslJetbS"
      },
      "source": [
        "#Sequence classification models for English Linguistic Acceptability\n",
        "\n",
        "In  this  project,  we  evaluate  performances  of various deep learning architectures on a hardSequence  Classification  problem,   which  isidentifying  grammatical  acceptability  of  English sentences.\n",
        "\n",
        "\n",
        "**Authors : Oscar Bouvier, Rayane Hanifi**"
      ]
    },
    {
      "cell_type": "markdown",
      "metadata": {
        "id": "0K5GdmnaST-v"
      },
      "source": [
        "# Installing packages"
      ]
    },
    {
      "cell_type": "code",
      "metadata": {
        "colab": {
          "base_uri": "https://localhost:8080/"
        },
        "id": "Q79zNOKkecrX",
        "outputId": "575734e2-1824-47c3-c112-ea7ac8ad246e"
      },
      "source": [
        "!pip install allennlp\n",
        "!pip install transformers\n",
        "!pip install wget"
      ],
      "execution_count": null,
      "outputs": [
        {
          "output_type": "stream",
          "text": [
            "Collecting allennlp\n",
            "\u001b[?25l  Downloading https://files.pythonhosted.org/packages/ed/eb/0c7ce6af0dfbc9c168a263a534e258447eff707c76df26356d4080900dd0/allennlp-2.4.0-py3-none-any.whl (625kB)\n",
            "\u001b[K     |████████████████████████████████| 634kB 7.5MB/s \n",
            "\u001b[?25hCollecting wandb<0.11.0,>=0.10.0\n",
            "\u001b[?25l  Downloading https://files.pythonhosted.org/packages/f6/28/4aefc543967839bdb4e139831b82004279f1c435cede2a9557ccf8369875/wandb-0.10.27-py2.py3-none-any.whl (2.1MB)\n",
            "\u001b[K     |████████████████████████████████| 2.1MB 14.7MB/s \n",
            "\u001b[?25hRequirement already satisfied: spacy<3.1,>=2.1.0 in /usr/local/lib/python3.7/dist-packages (from allennlp) (2.2.4)\n",
            "Collecting jsonnet>=0.10.0; sys_platform != \"win32\"\n",
            "\u001b[?25l  Downloading https://files.pythonhosted.org/packages/42/40/6f16e5ac994b16fa71c24310f97174ce07d3a97b433275589265c6b94d2b/jsonnet-0.17.0.tar.gz (259kB)\n",
            "\u001b[K     |████████████████████████████████| 266kB 34.5MB/s \n",
            "\u001b[?25hRequirement already satisfied: lmdb in /usr/local/lib/python3.7/dist-packages (from allennlp) (0.99)\n",
            "Requirement already satisfied: more-itertools in /usr/local/lib/python3.7/dist-packages (from allennlp) (8.7.0)\n",
            "Requirement already satisfied: nltk in /usr/local/lib/python3.7/dist-packages (from allennlp) (3.2.5)\n",
            "Requirement already satisfied: numpy in /usr/local/lib/python3.7/dist-packages (from allennlp) (1.19.5)\n",
            "Requirement already satisfied: torch<1.9.0,>=1.6.0 in /usr/local/lib/python3.7/dist-packages (from allennlp) (1.8.1+cu101)\n",
            "Requirement already satisfied: scikit-learn in /usr/local/lib/python3.7/dist-packages (from allennlp) (0.22.2.post1)\n",
            "Collecting transformers<4.6,>=4.1\n",
            "\u001b[?25l  Downloading https://files.pythonhosted.org/packages/d8/b2/57495b5309f09fa501866e225c84532d1fd89536ea62406b2181933fb418/transformers-4.5.1-py3-none-any.whl (2.1MB)\n",
            "\u001b[K     |████████████████████████████████| 2.1MB 43.6MB/s \n",
            "\u001b[?25hCollecting huggingface-hub>=0.0.8\n",
            "  Downloading https://files.pythonhosted.org/packages/a1/88/7b1e45720ecf59c6c6737ff332f41c955963090a18e72acbcbeac6b25e86/huggingface_hub-0.0.8-py3-none-any.whl\n",
            "Requirement already satisfied: tqdm>=4.19 in /usr/local/lib/python3.7/dist-packages (from allennlp) (4.41.1)\n",
            "Requirement already satisfied: requests>=2.18 in /usr/local/lib/python3.7/dist-packages (from allennlp) (2.23.0)\n",
            "Requirement already satisfied: filelock<3.1,>=3.0 in /usr/local/lib/python3.7/dist-packages (from allennlp) (3.0.12)\n",
            "Collecting sentencepiece\n",
            "\u001b[?25l  Downloading https://files.pythonhosted.org/packages/f5/99/e0808cb947ba10f575839c43e8fafc9cc44e4a7a2c8f79c60db48220a577/sentencepiece-0.1.95-cp37-cp37m-manylinux2014_x86_64.whl (1.2MB)\n",
            "\u001b[K     |████████████████████████████████| 1.2MB 53.1MB/s \n",
            "\u001b[?25hRequirement already satisfied: torchvision<0.10.0,>=0.8.1 in /usr/local/lib/python3.7/dist-packages (from allennlp) (0.9.1+cu101)\n",
            "Requirement already satisfied: pytest in /usr/local/lib/python3.7/dist-packages (from allennlp) (3.6.4)\n",
            "Collecting boto3<2.0,>=1.14\n",
            "\u001b[?25l  Downloading https://files.pythonhosted.org/packages/68/0b/d416af30ad98b57cfe999541ddcb71b7b4e6369d73d1f731cc5678908c6f/boto3-1.17.56.tar.gz (99kB)\n",
            "\u001b[K     |████████████████████████████████| 102kB 12.3MB/s \n",
            "\u001b[?25hCollecting tensorboardX>=1.2\n",
            "\u001b[?25l  Downloading https://files.pythonhosted.org/packages/07/84/46421bd3e0e89a92682b1a38b40efc22dafb6d8e3d947e4ceefd4a5fabc7/tensorboardX-2.2-py2.py3-none-any.whl (120kB)\n",
            "\u001b[K     |████████████████████████████████| 122kB 53.2MB/s \n",
            "\u001b[?25hCollecting overrides==3.1.0\n",
            "  Downloading https://files.pythonhosted.org/packages/ff/b1/10f69c00947518e6676bbd43e739733048de64b8dd998e9c2d5a71f44c5d/overrides-3.1.0.tar.gz\n",
            "Requirement already satisfied: h5py in /usr/local/lib/python3.7/dist-packages (from allennlp) (2.10.0)\n",
            "Requirement already satisfied: scipy in /usr/local/lib/python3.7/dist-packages (from allennlp) (1.4.1)\n",
            "Requirement already satisfied: python-dateutil>=2.6.1 in /usr/local/lib/python3.7/dist-packages (from wandb<0.11.0,>=0.10.0->allennlp) (2.8.1)\n",
            "Collecting docker-pycreds>=0.4.0\n",
            "  Downloading https://files.pythonhosted.org/packages/f5/e8/f6bd1eee09314e7e6dee49cbe2c5e22314ccdb38db16c9fc72d2fa80d054/docker_pycreds-0.4.0-py2.py3-none-any.whl\n",
            "Collecting configparser>=3.8.1\n",
            "  Downloading https://files.pythonhosted.org/packages/fd/01/ff260a18caaf4457eb028c96eeb405c4a230ca06c8ec9c1379f813caa52e/configparser-5.0.2-py3-none-any.whl\n",
            "Requirement already satisfied: Click>=7.0 in /usr/local/lib/python3.7/dist-packages (from wandb<0.11.0,>=0.10.0->allennlp) (7.1.2)\n",
            "Collecting pathtools\n",
            "  Downloading https://files.pythonhosted.org/packages/e7/7f/470d6fcdf23f9f3518f6b0b76be9df16dcc8630ad409947f8be2eb0ed13a/pathtools-0.1.2.tar.gz\n",
            "Requirement already satisfied: PyYAML in /usr/local/lib/python3.7/dist-packages (from wandb<0.11.0,>=0.10.0->allennlp) (3.13)\n",
            "Collecting GitPython>=1.0.0\n",
            "\u001b[?25l  Downloading https://files.pythonhosted.org/packages/a6/99/98019716955ba243657daedd1de8f3a88ca1f5b75057c38e959db22fb87b/GitPython-3.1.14-py3-none-any.whl (159kB)\n",
            "\u001b[K     |████████████████████████████████| 163kB 52.5MB/s \n",
            "\u001b[?25hCollecting subprocess32>=3.5.3\n",
            "\u001b[?25l  Downloading https://files.pythonhosted.org/packages/32/c8/564be4d12629b912ea431f1a50eb8b3b9d00f1a0b1ceff17f266be190007/subprocess32-3.5.4.tar.gz (97kB)\n",
            "\u001b[K     |████████████████████████████████| 102kB 13.8MB/s \n",
            "\u001b[?25hCollecting sentry-sdk>=0.4.0\n",
            "\u001b[?25l  Downloading https://files.pythonhosted.org/packages/f3/92/5a33be64990ba815364a8f2dd9e6f51de60d23dfddafb4f1fc5577d4dc64/sentry_sdk-1.0.0-py2.py3-none-any.whl (131kB)\n",
            "\u001b[K     |████████████████████████████████| 133kB 52.6MB/s \n",
            "\u001b[?25hRequirement already satisfied: protobuf>=3.12.0 in /usr/local/lib/python3.7/dist-packages (from wandb<0.11.0,>=0.10.0->allennlp) (3.12.4)\n",
            "Requirement already satisfied: promise<3,>=2.0 in /usr/local/lib/python3.7/dist-packages (from wandb<0.11.0,>=0.10.0->allennlp) (2.3)\n",
            "Collecting shortuuid>=0.5.0\n",
            "  Downloading https://files.pythonhosted.org/packages/25/a6/2ecc1daa6a304e7f1b216f0896b26156b78e7c38e1211e9b798b4716c53d/shortuuid-1.0.1-py3-none-any.whl\n",
            "Requirement already satisfied: psutil>=5.0.0 in /usr/local/lib/python3.7/dist-packages (from wandb<0.11.0,>=0.10.0->allennlp) (5.4.8)\n",
            "Requirement already satisfied: six>=1.13.0 in /usr/local/lib/python3.7/dist-packages (from wandb<0.11.0,>=0.10.0->allennlp) (1.15.0)\n",
            "Requirement already satisfied: catalogue<1.1.0,>=0.0.7 in /usr/local/lib/python3.7/dist-packages (from spacy<3.1,>=2.1.0->allennlp) (1.0.0)\n",
            "Requirement already satisfied: srsly<1.1.0,>=1.0.2 in /usr/local/lib/python3.7/dist-packages (from spacy<3.1,>=2.1.0->allennlp) (1.0.5)\n",
            "Requirement already satisfied: wasabi<1.1.0,>=0.4.0 in /usr/local/lib/python3.7/dist-packages (from spacy<3.1,>=2.1.0->allennlp) (0.8.2)\n",
            "Requirement already satisfied: setuptools in /usr/local/lib/python3.7/dist-packages (from spacy<3.1,>=2.1.0->allennlp) (56.0.0)\n",
            "Requirement already satisfied: plac<1.2.0,>=0.9.6 in /usr/local/lib/python3.7/dist-packages (from spacy<3.1,>=2.1.0->allennlp) (1.1.3)\n",
            "Requirement already satisfied: blis<0.5.0,>=0.4.0 in /usr/local/lib/python3.7/dist-packages (from spacy<3.1,>=2.1.0->allennlp) (0.4.1)\n",
            "Requirement already satisfied: thinc==7.4.0 in /usr/local/lib/python3.7/dist-packages (from spacy<3.1,>=2.1.0->allennlp) (7.4.0)\n",
            "Requirement already satisfied: murmurhash<1.1.0,>=0.28.0 in /usr/local/lib/python3.7/dist-packages (from spacy<3.1,>=2.1.0->allennlp) (1.0.5)\n",
            "Requirement already satisfied: preshed<3.1.0,>=3.0.2 in /usr/local/lib/python3.7/dist-packages (from spacy<3.1,>=2.1.0->allennlp) (3.0.5)\n",
            "Requirement already satisfied: cymem<2.1.0,>=2.0.2 in /usr/local/lib/python3.7/dist-packages (from spacy<3.1,>=2.1.0->allennlp) (2.0.5)\n",
            "Requirement already satisfied: typing-extensions in /usr/local/lib/python3.7/dist-packages (from torch<1.9.0,>=1.6.0->allennlp) (3.7.4.3)\n",
            "Requirement already satisfied: joblib>=0.11 in /usr/local/lib/python3.7/dist-packages (from scikit-learn->allennlp) (1.0.1)\n",
            "Requirement already satisfied: regex!=2019.12.17 in /usr/local/lib/python3.7/dist-packages (from transformers<4.6,>=4.1->allennlp) (2019.12.20)\n",
            "Collecting tokenizers<0.11,>=0.10.1\n",
            "\u001b[?25l  Downloading https://files.pythonhosted.org/packages/ae/04/5b870f26a858552025a62f1649c20d29d2672c02ff3c3fb4c688ca46467a/tokenizers-0.10.2-cp37-cp37m-manylinux2010_x86_64.whl (3.3MB)\n",
            "\u001b[K     |████████████████████████████████| 3.3MB 55.9MB/s \n",
            "\u001b[?25hRequirement already satisfied: importlib-metadata; python_version < \"3.8\" in /usr/local/lib/python3.7/dist-packages (from transformers<4.6,>=4.1->allennlp) (3.10.1)\n",
            "Requirement already satisfied: packaging in /usr/local/lib/python3.7/dist-packages (from transformers<4.6,>=4.1->allennlp) (20.9)\n",
            "Collecting sacremoses\n",
            "\u001b[?25l  Downloading https://files.pythonhosted.org/packages/75/ee/67241dc87f266093c533a2d4d3d69438e57d7a90abb216fa076e7d475d4a/sacremoses-0.0.45-py3-none-any.whl (895kB)\n",
            "\u001b[K     |████████████████████████████████| 901kB 55.8MB/s \n",
            "\u001b[?25hRequirement already satisfied: idna<3,>=2.5 in /usr/local/lib/python3.7/dist-packages (from requests>=2.18->allennlp) (2.10)\n",
            "Requirement already satisfied: chardet<4,>=3.0.2 in /usr/local/lib/python3.7/dist-packages (from requests>=2.18->allennlp) (3.0.4)\n",
            "Requirement already satisfied: urllib3!=1.25.0,!=1.25.1,<1.26,>=1.21.1 in /usr/local/lib/python3.7/dist-packages (from requests>=2.18->allennlp) (1.24.3)\n",
            "Requirement already satisfied: certifi>=2017.4.17 in /usr/local/lib/python3.7/dist-packages (from requests>=2.18->allennlp) (2020.12.5)\n",
            "Requirement already satisfied: pillow>=4.1.1 in /usr/local/lib/python3.7/dist-packages (from torchvision<0.10.0,>=0.8.1->allennlp) (7.1.2)\n",
            "Requirement already satisfied: py>=1.5.0 in /usr/local/lib/python3.7/dist-packages (from pytest->allennlp) (1.10.0)\n",
            "Requirement already satisfied: attrs>=17.4.0 in /usr/local/lib/python3.7/dist-packages (from pytest->allennlp) (20.3.0)\n",
            "Requirement already satisfied: pluggy<0.8,>=0.5 in /usr/local/lib/python3.7/dist-packages (from pytest->allennlp) (0.7.1)\n",
            "Requirement already satisfied: atomicwrites>=1.0 in /usr/local/lib/python3.7/dist-packages (from pytest->allennlp) (1.4.0)\n",
            "Collecting botocore<1.21.0,>=1.20.56\n",
            "\u001b[?25l  Downloading https://files.pythonhosted.org/packages/f8/27/b27bfccc1fac989501d137476cbead6801f5b007634d1fe8a75415ca76e9/botocore-1.20.56-py2.py3-none-any.whl (7.4MB)\n",
            "\u001b[K     |████████████████████████████████| 7.4MB 54.6MB/s \n",
            "\u001b[?25hCollecting jmespath<1.0.0,>=0.7.1\n",
            "  Downloading https://files.pythonhosted.org/packages/07/cb/5f001272b6faeb23c1c9e0acc04d48eaaf5c862c17709d20e3469c6e0139/jmespath-0.10.0-py2.py3-none-any.whl\n",
            "Collecting s3transfer<0.5.0,>=0.4.0\n",
            "\u001b[?25l  Downloading https://files.pythonhosted.org/packages/63/d0/693477c688348654ddc21dcdce0817653a294aa43f41771084c25e7ff9c7/s3transfer-0.4.2-py2.py3-none-any.whl (79kB)\n",
            "\u001b[K     |████████████████████████████████| 81kB 12.4MB/s \n",
            "\u001b[?25hCollecting gitdb<5,>=4.0.1\n",
            "\u001b[?25l  Downloading https://files.pythonhosted.org/packages/ea/e8/f414d1a4f0bbc668ed441f74f44c116d9816833a48bf81d22b697090dba8/gitdb-4.0.7-py3-none-any.whl (63kB)\n",
            "\u001b[K     |████████████████████████████████| 71kB 7.3MB/s \n",
            "\u001b[?25hRequirement already satisfied: zipp>=0.5 in /usr/local/lib/python3.7/dist-packages (from importlib-metadata; python_version < \"3.8\"->transformers<4.6,>=4.1->allennlp) (3.4.1)\n",
            "Requirement already satisfied: pyparsing>=2.0.2 in /usr/local/lib/python3.7/dist-packages (from packaging->transformers<4.6,>=4.1->allennlp) (2.4.7)\n",
            "Collecting smmap<5,>=3.0.1\n",
            "  Downloading https://files.pythonhosted.org/packages/68/ee/d540eb5e5996eb81c26ceffac6ee49041d473bc5125f2aa995cf51ec1cf1/smmap-4.0.0-py2.py3-none-any.whl\n",
            "Building wheels for collected packages: jsonnet, boto3, overrides, pathtools, subprocess32\n",
            "  Building wheel for jsonnet (setup.py) ... \u001b[?25l\u001b[?25hdone\n",
            "  Created wheel for jsonnet: filename=jsonnet-0.17.0-cp37-cp37m-linux_x86_64.whl size=3388870 sha256=8a82cab39cbba57ee94aec117488d9351f031ac34c9779f0fb93eac0b13efbd1\n",
            "  Stored in directory: /root/.cache/pip/wheels/26/7a/37/7dbcc30a6b4efd17b91ad1f0128b7bbf84813bd4e1cfb8c1e3\n",
            "  Building wheel for boto3 (setup.py) ... \u001b[?25l\u001b[?25hdone\n",
            "  Created wheel for boto3: filename=boto3-1.17.56-py2.py3-none-any.whl size=128920 sha256=36d06f1295f9eed64213061d87adc78a7d5e3b8f0895d5008a4230dbd98a92fc\n",
            "  Stored in directory: /root/.cache/pip/wheels/77/41/89/dd0e45e43a0a79971ee76752d9059b4c10b1edcd7b1fb14006\n",
            "  Building wheel for overrides (setup.py) ... \u001b[?25l\u001b[?25hdone\n",
            "  Created wheel for overrides: filename=overrides-3.1.0-cp37-none-any.whl size=10174 sha256=c24945ac85ef1ec944fc7cd1a6f4a677ac6627444962e8f596e2efd5cdfc5d8f\n",
            "  Stored in directory: /root/.cache/pip/wheels/5c/24/13/6ef8600e6f147c95e595f1289a86a3cc82ed65df57582c65a9\n",
            "  Building wheel for pathtools (setup.py) ... \u001b[?25l\u001b[?25hdone\n",
            "  Created wheel for pathtools: filename=pathtools-0.1.2-cp37-none-any.whl size=8786 sha256=c44d263f670b1cc172ef939d54dbc5d555025a7c0876f4e97028bae81174022f\n",
            "  Stored in directory: /root/.cache/pip/wheels/0b/04/79/c3b0c3a0266a3cb4376da31e5bfe8bba0c489246968a68e843\n",
            "  Building wheel for subprocess32 (setup.py) ... \u001b[?25l\u001b[?25hdone\n",
            "  Created wheel for subprocess32: filename=subprocess32-3.5.4-cp37-none-any.whl size=6489 sha256=0815b6cfffa44aff408d99dff3ba2bddf569f5ab06ad418a2e709950baaafc27\n",
            "  Stored in directory: /root/.cache/pip/wheels/68/39/1a/5e402bdfdf004af1786c8b853fd92f8c4a04f22aad179654d1\n",
            "Successfully built jsonnet boto3 overrides pathtools subprocess32\n",
            "\u001b[31mERROR: botocore 1.20.56 has requirement urllib3<1.27,>=1.25.4, but you'll have urllib3 1.24.3 which is incompatible.\u001b[0m\n",
            "Installing collected packages: docker-pycreds, configparser, pathtools, smmap, gitdb, GitPython, subprocess32, sentry-sdk, shortuuid, wandb, jsonnet, tokenizers, sacremoses, transformers, huggingface-hub, sentencepiece, jmespath, botocore, s3transfer, boto3, tensorboardX, overrides, allennlp\n",
            "Successfully installed GitPython-3.1.14 allennlp-2.4.0 boto3-1.17.56 botocore-1.20.56 configparser-5.0.2 docker-pycreds-0.4.0 gitdb-4.0.7 huggingface-hub-0.0.8 jmespath-0.10.0 jsonnet-0.17.0 overrides-3.1.0 pathtools-0.1.2 s3transfer-0.4.2 sacremoses-0.0.45 sentencepiece-0.1.95 sentry-sdk-1.0.0 shortuuid-1.0.1 smmap-4.0.0 subprocess32-3.5.4 tensorboardX-2.2 tokenizers-0.10.2 transformers-4.5.1 wandb-0.10.27\n",
            "Requirement already satisfied: transformers in /usr/local/lib/python3.7/dist-packages (4.5.1)\n",
            "Requirement already satisfied: importlib-metadata; python_version < \"3.8\" in /usr/local/lib/python3.7/dist-packages (from transformers) (3.10.1)\n",
            "Requirement already satisfied: packaging in /usr/local/lib/python3.7/dist-packages (from transformers) (20.9)\n",
            "Requirement already satisfied: requests in /usr/local/lib/python3.7/dist-packages (from transformers) (2.23.0)\n",
            "Requirement already satisfied: tqdm>=4.27 in /usr/local/lib/python3.7/dist-packages (from transformers) (4.41.1)\n",
            "Requirement already satisfied: filelock in /usr/local/lib/python3.7/dist-packages (from transformers) (3.0.12)\n",
            "Requirement already satisfied: numpy>=1.17 in /usr/local/lib/python3.7/dist-packages (from transformers) (1.19.5)\n",
            "Requirement already satisfied: tokenizers<0.11,>=0.10.1 in /usr/local/lib/python3.7/dist-packages (from transformers) (0.10.2)\n",
            "Requirement already satisfied: regex!=2019.12.17 in /usr/local/lib/python3.7/dist-packages (from transformers) (2019.12.20)\n",
            "Requirement already satisfied: sacremoses in /usr/local/lib/python3.7/dist-packages (from transformers) (0.0.45)\n",
            "Requirement already satisfied: zipp>=0.5 in /usr/local/lib/python3.7/dist-packages (from importlib-metadata; python_version < \"3.8\"->transformers) (3.4.1)\n",
            "Requirement already satisfied: typing-extensions>=3.6.4; python_version < \"3.8\" in /usr/local/lib/python3.7/dist-packages (from importlib-metadata; python_version < \"3.8\"->transformers) (3.7.4.3)\n",
            "Requirement already satisfied: pyparsing>=2.0.2 in /usr/local/lib/python3.7/dist-packages (from packaging->transformers) (2.4.7)\n",
            "Requirement already satisfied: chardet<4,>=3.0.2 in /usr/local/lib/python3.7/dist-packages (from requests->transformers) (3.0.4)\n",
            "Requirement already satisfied: certifi>=2017.4.17 in /usr/local/lib/python3.7/dist-packages (from requests->transformers) (2020.12.5)\n",
            "Requirement already satisfied: urllib3!=1.25.0,!=1.25.1,<1.26,>=1.21.1 in /usr/local/lib/python3.7/dist-packages (from requests->transformers) (1.24.3)\n",
            "Requirement already satisfied: idna<3,>=2.5 in /usr/local/lib/python3.7/dist-packages (from requests->transformers) (2.10)\n",
            "Requirement already satisfied: click in /usr/local/lib/python3.7/dist-packages (from sacremoses->transformers) (7.1.2)\n",
            "Requirement already satisfied: joblib in /usr/local/lib/python3.7/dist-packages (from sacremoses->transformers) (1.0.1)\n",
            "Requirement already satisfied: six in /usr/local/lib/python3.7/dist-packages (from sacremoses->transformers) (1.15.0)\n",
            "Collecting wget\n",
            "  Downloading https://files.pythonhosted.org/packages/47/6a/62e288da7bcda82b935ff0c6cfe542970f04e29c756b0e147251b2fb251f/wget-3.2.zip\n",
            "Building wheels for collected packages: wget\n",
            "  Building wheel for wget (setup.py) ... \u001b[?25l\u001b[?25hdone\n",
            "  Created wheel for wget: filename=wget-3.2-cp37-none-any.whl size=9681 sha256=c1e9e2c8b23eaebb1a1e1ca532d426fa1ffc90f6336e3c7d638074b68cee22bb\n",
            "  Stored in directory: /root/.cache/pip/wheels/40/15/30/7d8f7cea2902b4db79e3fea550d7d7b85ecb27ef992b618f3f\n",
            "Successfully built wget\n",
            "Installing collected packages: wget\n",
            "Successfully installed wget-3.2\n"
          ],
          "name": "stdout"
        }
      ]
    },
    {
      "cell_type": "markdown",
      "metadata": {
        "id": "XfP2jW1rjQQE"
      },
      "source": [
        "Useful paper : https://arxiv.org/pdf/1805.12471v1.pdf\n",
        "\n",
        "Github for models : https://github.com/nyu-mll/CoLA-baselines"
      ]
    },
    {
      "cell_type": "markdown",
      "metadata": {
        "id": "vek9jwhUSffu"
      },
      "source": [
        "#Loading packages"
      ]
    },
    {
      "cell_type": "code",
      "metadata": {
        "id": "LwkejzppShYd"
      },
      "source": [
        "from tqdm.notebook import tqdm\n",
        "\n",
        "import os\n",
        "import wget\n",
        "\n",
        "import pandas as pd\n",
        "import seaborn as sns\n",
        "import numpy as np\n",
        "import matplotlib.pyplot as plt\n",
        "\n",
        "from sklearn.model_selection import train_test_split\n",
        "from sklearn.metrics import accuracy_score, precision_recall_fscore_support, matthews_corrcoef\n",
        "\n",
        "from gensim.models import fasttext, word2vec\n",
        "\n",
        "import torch\n",
        "from torch import nn\n",
        "from torch.nn import LSTM, Embedding\n",
        "from torch.optim import Adam\n",
        "import torch.nn.functional as F\n",
        "from torch.nn.utils.rnn import pad_sequence\n",
        "from torch.utils.data import TensorDataset, DataLoader\n",
        "\n",
        "import transformers\n",
        "from transformers import BertForSequenceClassification, BertTokenizer\n",
        "\n",
        "from nltk.tokenize import TreebankWordTokenizer, TweetTokenizer"
      ],
      "execution_count": null,
      "outputs": []
    },
    {
      "cell_type": "code",
      "metadata": {
        "id": "GILhjDiHuZi1"
      },
      "source": [
        "torch.manual_seed(0)\n",
        "np.random.seed(0)"
      ],
      "execution_count": null,
      "outputs": []
    },
    {
      "cell_type": "markdown",
      "metadata": {
        "id": "ZuuiQiBVUKkd"
      },
      "source": [
        "#Using GPU"
      ]
    },
    {
      "cell_type": "code",
      "metadata": {
        "id": "UnBBQM0DU59T"
      },
      "source": [
        "if torch.cuda.is_available():    \n",
        "    device = torch.device(\"cuda\")"
      ],
      "execution_count": null,
      "outputs": []
    },
    {
      "cell_type": "markdown",
      "metadata": {
        "id": "C7N6_nE1RKNZ"
      },
      "source": [
        "# I) Dataset analysis"
      ]
    },
    {
      "cell_type": "markdown",
      "metadata": {
        "id": "iIaTWOXs3RLe"
      },
      "source": [
        "We’ll use The Corpus of Linguistic Acceptability (CoLA) dataset for single sentence classification. It’s a set of sentences labeled as grammatically correct or incorrect. It was first published in May of 2018, and is one of the tests included in the “GLUE Benchmark” on which models like BERT are competing."
      ]
    },
    {
      "cell_type": "code",
      "metadata": {
        "colab": {
          "base_uri": "https://localhost:8080/"
        },
        "id": "GsPIw56YNAXC",
        "outputId": "e25e100f-6315-4dfc-e682-396535d09d5b"
      },
      "source": [
        "!wget 'https://nyu-mll.github.io/CoLA/cola_public_1.1.zip'\n",
        "\n",
        "if not os.path.exists('./cola_public/'):\n",
        "    !unzip cola_public_1.1.zip"
      ],
      "execution_count": null,
      "outputs": [
        {
          "output_type": "stream",
          "text": [
            "--2021-04-23 15:17:44--  https://nyu-mll.github.io/CoLA/cola_public_1.1.zip\n",
            "Resolving nyu-mll.github.io (nyu-mll.github.io)... 185.199.108.153, 185.199.111.153, 185.199.109.153, ...\n",
            "Connecting to nyu-mll.github.io (nyu-mll.github.io)|185.199.108.153|:443... connected.\n",
            "HTTP request sent, awaiting response... 200 OK\n",
            "Length: 255330 (249K) [application/zip]\n",
            "Saving to: ‘cola_public_1.1.zip’\n",
            "\n",
            "\rcola_public_1.1.zip   0%[                    ]       0  --.-KB/s               \rcola_public_1.1.zip 100%[===================>] 249.35K  --.-KB/s    in 0.02s   \n",
            "\n",
            "2021-04-23 15:17:44 (11.9 MB/s) - ‘cola_public_1.1.zip’ saved [255330/255330]\n",
            "\n",
            "Archive:  cola_public_1.1.zip\n",
            "   creating: cola_public/\n",
            "  inflating: cola_public/README      \n",
            "   creating: cola_public/tokenized/\n",
            "  inflating: cola_public/tokenized/in_domain_dev.tsv  \n",
            "  inflating: cola_public/tokenized/in_domain_train.tsv  \n",
            "  inflating: cola_public/tokenized/out_of_domain_dev.tsv  \n",
            "   creating: cola_public/raw/\n",
            "  inflating: cola_public/raw/in_domain_dev.tsv  \n",
            "  inflating: cola_public/raw/in_domain_train.tsv  \n",
            "  inflating: cola_public/raw/out_of_domain_dev.tsv  \n"
          ],
          "name": "stdout"
        }
      ]
    },
    {
      "cell_type": "code",
      "metadata": {
        "colab": {
          "base_uri": "https://localhost:8080/",
          "height": 204
        },
        "id": "ljJVMEY-NmzN",
        "outputId": "197107f6-1d4a-4a95-806b-fd1ade9800d8"
      },
      "source": [
        "df_train = pd.read_csv(\"./cola_public/raw/in_domain_train.tsv\", \n",
        "                 delimiter='\\t', header=None, \n",
        "                 names=['sentence_source', 'label', 'label_notes', 'sentence'])\n",
        "\n",
        "df_train.head(5)"
      ],
      "execution_count": null,
      "outputs": [
        {
          "output_type": "execute_result",
          "data": {
            "text/html": [
              "<div>\n",
              "<style scoped>\n",
              "    .dataframe tbody tr th:only-of-type {\n",
              "        vertical-align: middle;\n",
              "    }\n",
              "\n",
              "    .dataframe tbody tr th {\n",
              "        vertical-align: top;\n",
              "    }\n",
              "\n",
              "    .dataframe thead th {\n",
              "        text-align: right;\n",
              "    }\n",
              "</style>\n",
              "<table border=\"1\" class=\"dataframe\">\n",
              "  <thead>\n",
              "    <tr style=\"text-align: right;\">\n",
              "      <th></th>\n",
              "      <th>sentence_source</th>\n",
              "      <th>label</th>\n",
              "      <th>label_notes</th>\n",
              "      <th>sentence</th>\n",
              "    </tr>\n",
              "  </thead>\n",
              "  <tbody>\n",
              "    <tr>\n",
              "      <th>0</th>\n",
              "      <td>gj04</td>\n",
              "      <td>1</td>\n",
              "      <td>NaN</td>\n",
              "      <td>Our friends won't buy this analysis, let alone...</td>\n",
              "    </tr>\n",
              "    <tr>\n",
              "      <th>1</th>\n",
              "      <td>gj04</td>\n",
              "      <td>1</td>\n",
              "      <td>NaN</td>\n",
              "      <td>One more pseudo generalization and I'm giving up.</td>\n",
              "    </tr>\n",
              "    <tr>\n",
              "      <th>2</th>\n",
              "      <td>gj04</td>\n",
              "      <td>1</td>\n",
              "      <td>NaN</td>\n",
              "      <td>One more pseudo generalization or I'm giving up.</td>\n",
              "    </tr>\n",
              "    <tr>\n",
              "      <th>3</th>\n",
              "      <td>gj04</td>\n",
              "      <td>1</td>\n",
              "      <td>NaN</td>\n",
              "      <td>The more we study verbs, the crazier they get.</td>\n",
              "    </tr>\n",
              "    <tr>\n",
              "      <th>4</th>\n",
              "      <td>gj04</td>\n",
              "      <td>1</td>\n",
              "      <td>NaN</td>\n",
              "      <td>Day by day the facts are getting murkier.</td>\n",
              "    </tr>\n",
              "  </tbody>\n",
              "</table>\n",
              "</div>"
            ],
            "text/plain": [
              "  sentence_source  ...                                           sentence\n",
              "0            gj04  ...  Our friends won't buy this analysis, let alone...\n",
              "1            gj04  ...  One more pseudo generalization and I'm giving up.\n",
              "2            gj04  ...   One more pseudo generalization or I'm giving up.\n",
              "3            gj04  ...     The more we study verbs, the crazier they get.\n",
              "4            gj04  ...          Day by day the facts are getting murkier.\n",
              "\n",
              "[5 rows x 4 columns]"
            ]
          },
          "metadata": {
            "tags": []
          },
          "execution_count": 6
        }
      ]
    },
    {
      "cell_type": "code",
      "metadata": {
        "id": "Q9ZFOo9RtcAb"
      },
      "source": [
        "df_train_tokenized = pd.read_csv(\"./cola_public/tokenized/in_domain_train.tsv\", \n",
        "                 delimiter='\\t', header=None, \n",
        "                 names=['sentence_source', 'label', 'label_notes', 'sentence'])"
      ],
      "execution_count": null,
      "outputs": []
    },
    {
      "cell_type": "markdown",
      "metadata": {
        "id": "JA-48fLXSJ0r"
      },
      "source": [
        "We drop some of the sentences that includes sentences that can't be handle by pretrained embedding techniques."
      ]
    },
    {
      "cell_type": "code",
      "metadata": {
        "id": "SLle15MmxP33",
        "colab": {
          "base_uri": "https://localhost:8080/"
        },
        "outputId": "3d323d78-5c37-457a-f28b-1f8bd70ddfd9"
      },
      "source": [
        "print(df_train_tokenized.sentence[3954])\n",
        "df_train_tokenized.drop(3954, inplace=True)"
      ],
      "execution_count": null,
      "outputs": [
        {
          "output_type": "stream",
          "text": [
            "ad agencies call young people generation x-ers .\n"
          ],
          "name": "stdout"
        }
      ]
    },
    {
      "cell_type": "code",
      "metadata": {
        "colab": {
          "base_uri": "https://localhost:8080/"
        },
        "id": "msdsTQJWw_Vn",
        "outputId": "eaa8e0a1-bccb-4466-dea1-a16e442f5514"
      },
      "source": [
        "print(df_train_tokenized.sentence[7129])\n",
        "df_train_tokenized.drop(7129, inplace=True)\n",
        "print(df_train_tokenized.sentence[7130])\n",
        "df_train_tokenized.drop(7130, inplace=True)\n",
        "print(df_train_tokenized.sentence[7131])\n",
        "df_train_tokenized.drop(7131, inplace=True)\n",
        "print(df_train_tokenized.sentence[7132])\n",
        "print(df_train_tokenized.sentence[7133])"
      ],
      "execution_count": null,
      "outputs": [
        {
          "output_type": "stream",
          "text": [
            "this girl in the red coat will put \ba picture of bill it on your desk before tomorrow .\n",
            "this girl in the red coat will put a picture of bill \bon your desk there before tomorrow .\n",
            "this \bgirl in the red coat one will put a picture of bill on your desk before tomorrow .\n",
            "this girl in the red coat will put a picture of bill on your desk it before tomorrow .\n",
            "this girl in the red coat will put a picture of bill on your desk before tomorrow .\n"
          ],
          "name": "stdout"
        }
      ]
    },
    {
      "cell_type": "code",
      "metadata": {
        "id": "i1B6zDBUaPjY"
      },
      "source": [
        "sentences_train, labels_train = df_train.sentence.to_list(), df_train.label.to_list()"
      ],
      "execution_count": null,
      "outputs": []
    },
    {
      "cell_type": "markdown",
      "metadata": {
        "id": "OSM0txog6rfp"
      },
      "source": [
        "***Dataset distribution***\n",
        "\n",
        "We observe an imbalanced dataset distribution. We choose not to oversample data so as to prevent model overfitting the model on incorrect labelled sentences.\n",
        "\n"
      ]
    },
    {
      "cell_type": "code",
      "metadata": {
        "colab": {
          "base_uri": "https://localhost:8080/",
          "height": 406
        },
        "id": "o4hbYv8_N7fD",
        "outputId": "519d794c-6281-4acb-b9a4-6183e4aede9e"
      },
      "source": [
        "sns.set(rc={'figure.figsize':(8,6)}, style='white', font_scale=1.5, font='serif')\n",
        "sns.countplot(x='label', data=df_train, hue='label')\n",
        "plt.show()"
      ],
      "execution_count": null,
      "outputs": [
        {
          "output_type": "display_data",
          "data": {
            "image/png": "[encoded data removed]",
            "text/plain": [
              "<Figure size 576x432 with 1 Axes>"
            ]
          },
          "metadata": {
            "tags": []
          }
        }
      ]
    },
    {
      "cell_type": "markdown",
      "metadata": {
        "id": "os8b6DwXUuqE"
      },
      "source": [
        "### Test Dataset\n",
        "\n",
        "We observe similar distribution on In-domain test and Out-of-domain test dataset."
      ]
    },
    {
      "cell_type": "code",
      "metadata": {
        "id": "0fJ-0d5kUxdB"
      },
      "source": [
        "df_test_in = pd.read_csv(\"./cola_public/raw/in_domain_dev.tsv\", \n",
        "                    delimiter='\\t', header=None, \n",
        "                    names=['sentence_source', 'label', 'label_notes', 'sentence'])\n",
        "\n",
        "df_test_out = pd.read_csv(\"./cola_public/raw/out_of_domain_dev.tsv\", \n",
        "                    delimiter='\\t', header=None, \n",
        "                    names=['sentence_source', 'label', 'label_notes', 'sentence'])"
      ],
      "execution_count": null,
      "outputs": []
    },
    {
      "cell_type": "code",
      "metadata": {
        "colab": {
          "base_uri": "https://localhost:8080/",
          "height": 371
        },
        "id": "mjFpq2qgVS9R",
        "outputId": "c9433399-daf7-4791-fcab-fc67a9243013"
      },
      "source": [
        "fig, (ax1, ax2) = plt.subplots(1, 2, figsize = (20, 5))\n",
        "\n",
        "sns.set(rc={'figure.figsize':(8,6)}, style='white', font_scale=1.5, font='serif')\n",
        "\n",
        "sns.countplot(x='label', data=df_test_in, hue='label', ax=ax1)\n",
        "ax1.set_title('In domain test')\n",
        "sns.countplot(x='label', data=df_test_out, hue='label', ax=ax2)\n",
        "ax2.set_title('Out of domain test')\n",
        "plt.show()"
      ],
      "execution_count": null,
      "outputs": [
        {
          "output_type": "display_data",
          "data": {
            "image/png": "[encoded data removed]",
            "text/plain": [
              "<Figure size 1440x360 with 2 Axes>"
            ]
          },
          "metadata": {
            "tags": []
          }
        }
      ]
    },
    {
      "cell_type": "markdown",
      "metadata": {
        "id": "WzM2qsqeT_G5"
      },
      "source": [
        "Out-of-domain sentences seems to be more informal than the training and In-domain testing sentences."
      ]
    },
    {
      "cell_type": "code",
      "metadata": {
        "colab": {
          "base_uri": "https://localhost:8080/"
        },
        "id": "KUgUcj1mTX5U",
        "outputId": "ee7e9809-9b86-4c35-9d7a-567aaf2585aa"
      },
      "source": [
        "df_test_in.sentence.head(5)"
      ],
      "execution_count": null,
      "outputs": [
        {
          "output_type": "execute_result",
          "data": {
            "text/plain": [
              "0      The sailors rode the breeze clear of the rocks.\n",
              "1    The weights made the rope stretch over the pul...\n",
              "2           The mechanical doll wriggled itself loose.\n",
              "3          If you had eaten more, you would want less.\n",
              "4             As you eat the most, you want the least.\n",
              "Name: sentence, dtype: object"
            ]
          },
          "metadata": {
            "tags": []
          },
          "execution_count": 19
        }
      ]
    },
    {
      "cell_type": "code",
      "metadata": {
        "colab": {
          "base_uri": "https://localhost:8080/"
        },
        "id": "iV1KeI3vTaU9",
        "outputId": "825ef52c-e7c4-4b86-f041-a57237aa7b87"
      },
      "source": [
        "df_test_out.sentence.head(5)"
      ],
      "execution_count": null,
      "outputs": [
        {
          "output_type": "execute_result",
          "data": {
            "text/plain": [
              "0                      Somebody just left - guess who.\n",
              "1    They claimed they had settled on something, bu...\n",
              "2            If Sam was going, Sally would know where.\n",
              "3    They're going to serve the guests something, b...\n",
              "4                 She's reading. I can't imagine what.\n",
              "Name: sentence, dtype: object"
            ]
          },
          "metadata": {
            "tags": []
          },
          "execution_count": 20
        }
      ]
    },
    {
      "cell_type": "code",
      "metadata": {
        "id": "p6DtNQLrViV0"
      },
      "source": [
        "sentences_test_in = df_test_in.sentence.to_list()\n",
        "labels_test_in = df_test_in.label.to_list()\n",
        "\n",
        "sentences_test_out = df_test_out.sentence.to_list()\n",
        "labels_test_out = df_test_out.label.to_list()"
      ],
      "execution_count": null,
      "outputs": []
    },
    {
      "cell_type": "markdown",
      "metadata": {
        "id": "u9cIdUmArP0T"
      },
      "source": [
        "# II) Preprocessing and Embeddings\n",
        "\n"
      ]
    },
    {
      "cell_type": "markdown",
      "metadata": {
        "id": "2p-H2tzA-l-p"
      },
      "source": [
        "In this part, we aim to build preprocessing pipeline and compute corpus embeddings for LSTM classifier. We will use three word embedding techniques to study their influence : word2vec, FastText and pretrained Glove (to compete fairly against other pretrained embedding techniques).\n",
        "\n",
        "FastText is an algorithm developed by Facebook Research, designed to extend word2vec (word embedding) to use n-grams.  An n-gram represents N words prior to the current word to create a single phrase. This provides context to the input similar to the way the RNN interprets the time series aspect and the CNN encodes the spatial aspect of the data"
      ]
    },
    {
      "cell_type": "markdown",
      "metadata": {
        "id": "-JZodvn8AVRS"
      },
      "source": [
        "## A) Preprocessing\n",
        "\n",
        "We use Treewordbank tokenizer to separate all the contractions and punctuations considered as unique tokens in the sentence."
      ]
    },
    {
      "cell_type": "code",
      "metadata": {
        "id": "JBSKoUXZrTRq"
      },
      "source": [
        "tokenizer = TreebankWordTokenizer()\n",
        "\n",
        "def tokenize_sentence(sentences, tokenizer):\n",
        "  tokenized_sentences = []\n",
        "  for sentence in sentences:\n",
        "    tokens = tokenizer.tokenize(sentence)\n",
        "    tokens = list(map(lambda x: x.lower(), tokens))\n",
        "    tokenized_sentences.append(tokens)\n",
        "\n",
        "  return tokenized_sentences\n",
        "\n",
        "corpus = sentences_train + sentences_test_in + sentences_test_out\n",
        "\n",
        "tokenized_corpus = tokenize_sentence(corpus, tokenizer)"
      ],
      "execution_count": null,
      "outputs": []
    },
    {
      "cell_type": "markdown",
      "metadata": {
        "id": "pwNpmynQDlz6"
      },
      "source": [
        "We need to now the average number of words per sentence to know how many grams we will use in our models"
      ]
    },
    {
      "cell_type": "code",
      "metadata": {
        "colab": {
          "base_uri": "https://localhost:8080/"
        },
        "id": "zbiY5AxIEOtF",
        "outputId": "e8b7ad11-a76b-46de-dfb7-56403cbe5aa8"
      },
      "source": [
        "list_count=[]\n",
        "for l in tokenized_corpus:\n",
        "    list_count.append(len(l))\n",
        "\n",
        "avg=np.mean(list_count)\n",
        "avg"
      ],
      "execution_count": null,
      "outputs": [
        {
          "output_type": "execute_result",
          "data": {
            "text/plain": [
              "8.918594955180321"
            ]
          },
          "metadata": {
            "tags": []
          },
          "execution_count": 26
        }
      ]
    },
    {
      "cell_type": "code",
      "metadata": {
        "colab": {
          "base_uri": "https://localhost:8080/"
        },
        "id": "ya4gcFmu4gHC",
        "outputId": "20c80e18-6fd0-4e9b-9389-0bbaf8c8484c"
      },
      "source": [
        "import itertools\n",
        "\n",
        "print(\"Number of words in corpus : \", len(list(itertools.chain(*tokenized_corpus))))"
      ],
      "execution_count": null,
      "outputs": [
        {
          "output_type": "stream",
          "text": [
            "Number of words in corpus :  85565\n"
          ],
          "name": "stdout"
        }
      ]
    },
    {
      "cell_type": "code",
      "metadata": {
        "colab": {
          "base_uri": "https://localhost:8080/"
        },
        "id": "6tGzodjj3Ss1",
        "outputId": "94594776-3df3-4196-e829-1245d54935f1"
      },
      "source": [
        "print(\"Number of unique words in corpus : \", len(set(list(itertools.chain(*tokenized_corpus)))))"
      ],
      "execution_count": null,
      "outputs": [
        {
          "output_type": "stream",
          "text": [
            "Number of unique words in corpus :  5718\n"
          ],
          "name": "stdout"
        }
      ]
    },
    {
      "cell_type": "markdown",
      "metadata": {
        "id": "-yxkrlo0wzwM"
      },
      "source": [
        "## B) Embeddings"
      ]
    },
    {
      "cell_type": "markdown",
      "metadata": {
        "id": "etjwzTsPraY6"
      },
      "source": [
        "### Training Word2vec and FastText embeddings on corpus"
      ]
    },
    {
      "cell_type": "markdown",
      "metadata": {
        "id": "v32ImMOdDLVA"
      },
      "source": [
        "We have preprocessed our corpus. Now is the time to create word representations using FastText and Word2Vec."
      ]
    },
    {
      "cell_type": "code",
      "metadata": {
        "id": "HebpKXY9vvGq"
      },
      "source": [
        "fasttext_model = fasttext.FastText(sentences=tokenized_corpus, window=3, min_count=1, word_ngrams=2, iter=100)\n",
        "word2vec_model = word2vec.Word2Vec(sentences=tokenized_corpus, window=3, min_count=1, iter=100)"
      ],
      "execution_count": null,
      "outputs": []
    },
    {
      "cell_type": "markdown",
      "metadata": {
        "id": "37uPDlunVZIu"
      },
      "source": [
        "Example of most similar embeddings for \"get\" : it seems that the two embedding models close \"get\" to other verb which is consistent in the case of our study. FastText has also best-ranked words with similar n-grams ('budget', 'gourmet')."
      ]
    },
    {
      "cell_type": "code",
      "metadata": {
        "colab": {
          "base_uri": "https://localhost:8080/"
        },
        "id": "T92HKHRxF-Qh",
        "outputId": "66459a3d-c87f-4866-e44e-a56b700d2fc9"
      },
      "source": [
        "print('Word2vec : ', word2vec_model.similar_by_word('get'))\n",
        "print('Fast Text : ', fasttext_model.wv.similar_by_word('get'))"
      ],
      "execution_count": null,
      "outputs": [
        {
          "output_type": "stream",
          "text": [
            "Word2vec :  [('make', 0.581061840057373), ('arrive', 0.5040568709373474), ('study', 0.5033581256866455), ('incriminate', 0.4907127916812897), ('buy', 0.4609854221343994), ('come', 0.45177534222602844), ('meet', 0.4396987557411194), ('leave', 0.43767082691192627), ('find', 0.4376031458377838), ('build', 0.4358161687850952)]\n",
            "Fast Text :  [('budget', 0.6510941982269287), ('set', 0.5647508502006531), ('gourmet', 0.5430889129638672), ('serve', 0.533201277256012), ('go', 0.5153351426124573), ('gets', 0.5007809400558472), ('meet', 0.5006760358810425), ('task', 0.4741944968700409), ('omelet', 0.46800893545150757), ('see', 0.4606482684612274)]\n"
          ],
          "name": "stdout"
        },
        {
          "output_type": "stream",
          "text": [
            "/usr/local/lib/python3.7/dist-packages/ipykernel_launcher.py:1: DeprecationWarning: Call to deprecated `similar_by_word` (Method will be removed in 4.0.0, use self.wv.similar_by_word() instead).\n",
            "  \"\"\"Entry point for launching an IPython kernel.\n"
          ],
          "name": "stderr"
        }
      ]
    },
    {
      "cell_type": "markdown",
      "metadata": {
        "id": "tZOAE-XCWhz_"
      },
      "source": [
        "Example of most similar embeddings for 'car' : it seems once that the two embedding models are consistant since they close \"car\" to other nouns as well. FastText has also best-ranked words with similar n-grams which is not very consistent in this example."
      ]
    },
    {
      "cell_type": "code",
      "metadata": {
        "colab": {
          "base_uri": "https://localhost:8080/"
        },
        "id": "ZDEYWKUmWTRj",
        "outputId": "4f18fca0-caa5-4216-b992-a5baf76f2dbc"
      },
      "source": [
        "print('Word2vec : ', word2vec_model.similar_by_word('car'))\n",
        "print('Fast Text : ', fasttext_model.wv.similar_by_word('car'))"
      ],
      "execution_count": null,
      "outputs": [
        {
          "output_type": "stream",
          "text": [
            "Word2vec :  [('bicycle', 0.43036550283432007), ('ball', 0.407338947057724), ('snake', 0.4065490961074829), ('house', 0.39629197120666504), ('refrigerator', 0.391060471534729), ('vase', 0.3884238600730896), ('package', 0.3879668712615967), ('tax', 0.3801015615463257), ('contacts', 0.3799455463886261), ('dimple', 0.3747917413711548)]\n",
            "Fast Text :  [('carpet', 0.851919412612915), ('card', 0.849084734916687), ('carthage', 0.8256552219390869), ('cart', 0.8228402137756348), ('carriage', 0.8159146308898926), ('carrot', 0.8113024830818176), ('cards', 0.7912584543228149), ('carrots', 0.7878397703170776), ('oscar', 0.7864748239517212), ('carts', 0.7620292901992798)]\n"
          ],
          "name": "stdout"
        },
        {
          "output_type": "stream",
          "text": [
            "/usr/local/lib/python3.7/dist-packages/ipykernel_launcher.py:1: DeprecationWarning: Call to deprecated `similar_by_word` (Method will be removed in 4.0.0, use self.wv.similar_by_word() instead).\n",
            "  \"\"\"Entry point for launching an IPython kernel.\n"
          ],
          "name": "stderr"
        }
      ]
    },
    {
      "cell_type": "markdown",
      "metadata": {
        "id": "wYP-7T7emdHg"
      },
      "source": [
        "### Loading pretrained GloVe embeddings\n",
        "\n",
        "Here we load pretrained GloVe 100-d embeddings trained on wikipedia database."
      ]
    },
    {
      "cell_type": "code",
      "metadata": {
        "colab": {
          "base_uri": "https://localhost:8080/"
        },
        "id": "96d4p0C2h7V5",
        "outputId": "099ab419-c8ed-4383-99b1-4f16c1f496fe"
      },
      "source": [
        "import gensim.downloader\n",
        "\n",
        "print(list(gensim.downloader.info()['models'].keys()))"
      ],
      "execution_count": null,
      "outputs": [
        {
          "output_type": "stream",
          "text": [
            "['fasttext-wiki-news-subwords-300', 'conceptnet-numberbatch-17-06-300', 'word2vec-ruscorpora-300', 'word2vec-google-news-300', 'glove-wiki-gigaword-50', 'glove-wiki-gigaword-100', 'glove-wiki-gigaword-200', 'glove-wiki-gigaword-300', 'glove-twitter-25', 'glove-twitter-50', 'glove-twitter-100', 'glove-twitter-200', '__testing_word2vec-matrix-synopsis']\n"
          ],
          "name": "stdout"
        }
      ]
    },
    {
      "cell_type": "code",
      "metadata": {
        "id": "7E3f_0TQnwh9",
        "colab": {
          "base_uri": "https://localhost:8080/"
        },
        "outputId": "b88d58d7-eee7-4904-cd4c-0c3c4e7e5862"
      },
      "source": [
        "glove_model = gensim.downloader.load('glove-wiki-gigaword-100')"
      ],
      "execution_count": null,
      "outputs": [
        {
          "output_type": "stream",
          "text": [
            "[==================================================] 100.0% 128.1/128.1MB downloaded\n"
          ],
          "name": "stdout"
        }
      ]
    },
    {
      "cell_type": "code",
      "metadata": {
        "colab": {
          "base_uri": "https://localhost:8080/"
        },
        "id": "rqF34XshpOXg",
        "outputId": "c4185830-827b-4b65-cbf3-3a6dffd4542b"
      },
      "source": [
        "glove_model.most_similar('get')"
      ],
      "execution_count": null,
      "outputs": [
        {
          "output_type": "execute_result",
          "data": {
            "text/plain": [
              "[('getting', 0.8922716975212097),\n",
              " (\"n't\", 0.8879422545433044),\n",
              " ('you', 0.887437641620636),\n",
              " ('want', 0.8848960399627686),\n",
              " ('go', 0.8843335509300232),\n",
              " ('got', 0.8842746019363403),\n",
              " ('going', 0.8716604709625244),\n",
              " (\"'ll\", 0.870947539806366),\n",
              " ('come', 0.8707302212715149),\n",
              " (\"'d\", 0.8563904166221619)]"
            ]
          },
          "metadata": {
            "tags": []
          },
          "execution_count": 51
        }
      ]
    },
    {
      "cell_type": "code",
      "metadata": {
        "colab": {
          "base_uri": "https://localhost:8080/"
        },
        "id": "Y6GCJRNwXJgd",
        "outputId": "5d7375bf-bbcb-456b-d99b-a05d863ef826"
      },
      "source": [
        "glove_model.most_similar('car')"
      ],
      "execution_count": null,
      "outputs": [
        {
          "output_type": "execute_result",
          "data": {
            "text/plain": [
              "[('vehicle', 0.8630838394165039),\n",
              " ('truck', 0.8597878217697144),\n",
              " ('cars', 0.837166965007782),\n",
              " ('driver', 0.8185911178588867),\n",
              " ('driving', 0.7812635898590088),\n",
              " ('motorcycle', 0.7553156614303589),\n",
              " ('vehicles', 0.7462256550788879),\n",
              " ('parked', 0.7459464073181152),\n",
              " ('bus', 0.737270712852478),\n",
              " ('taxi', 0.7155268788337708)]"
            ]
          },
          "metadata": {
            "tags": []
          },
          "execution_count": 52
        }
      ]
    },
    {
      "cell_type": "markdown",
      "metadata": {
        "id": "f6ExtbaFXODv"
      },
      "source": [
        "We can see that GloVe embeddings are much more consistent and that the vocabulary is huge."
      ]
    },
    {
      "cell_type": "code",
      "metadata": {
        "id": "Das536L-n6TI"
      },
      "source": [
        "def encode_tokenized_sentence(tokenized_sentence, model):\n",
        "  tokens_id_list = []\n",
        "  for token in tokenized_sentence:\n",
        "    tokens_id_list.append(model.wv.vocab.get(token).index)\n",
        "\n",
        "  return tokens_id_list\n",
        "\n",
        "def encode_sentences(tokenized_sentences, model):\n",
        "\n",
        "  token_id_sentences = []\n",
        "  for i, tokenized_sentence in enumerate(tokenized_sentences):\n",
        "    token_id_sentences.append(torch.LongTensor(encode_tokenized_sentence(tokenized_sentence, model)))\n",
        "\n",
        "  input_id_sentences = pad_sequence(token_id_sentences, batch_first=True, padding_value=0)\n",
        "\n",
        "  return input_id_sentences"
      ],
      "execution_count": null,
      "outputs": []
    },
    {
      "cell_type": "markdown",
      "metadata": {
        "id": "g3R1jMqUtj4R"
      },
      "source": [
        "### Saving embedding weights"
      ]
    },
    {
      "cell_type": "code",
      "metadata": {
        "colab": {
          "base_uri": "https://localhost:8080/"
        },
        "id": "0KyyiQCs4eFi",
        "outputId": "967c5f05-3955-4e02-e8ec-d46f1e329df3"
      },
      "source": [
        "weights_fasttext = torch.FloatTensor(fasttext_model.wv.vectors)\n",
        "weights_word2vec = torch.FloatTensor(word2vec_model.wv.vectors)\n",
        "weights_glove = torch.FloatTensor(glove_model.wv.vectors)"
      ],
      "execution_count": null,
      "outputs": [
        {
          "output_type": "stream",
          "text": [
            "/usr/local/lib/python3.7/dist-packages/ipykernel_launcher.py:3: DeprecationWarning: Call to deprecated `wv` (Attribute will be removed in 4.0.0, use self instead).\n",
            "  This is separate from the ipykernel package so we can avoid doing imports until\n"
          ],
          "name": "stderr"
        }
      ]
    },
    {
      "cell_type": "markdown",
      "metadata": {
        "id": "pa0pO43DxHeI"
      },
      "source": [
        "# 3) Models\n",
        "\n",
        "We build three models to perform classifier : LSTM, ELMO, and BERT."
      ]
    },
    {
      "cell_type": "markdown",
      "metadata": {
        "id": "wzCI6dLeAa4N"
      },
      "source": [
        "## A) LSTM Classifier"
      ]
    },
    {
      "cell_type": "code",
      "metadata": {
        "id": "MmzkortB2wnr"
      },
      "source": [
        "class LSTM_classifier(nn.Module):\n",
        "\n",
        "  def __init__(self, label_size, vocab_size, embedding_dim, hidden_dim, num_layers=2,\n",
        "               bidirectional = True, dropout=0.2, from_pretrained = False, weights = None):\n",
        "    super(LSTM_classifier, self).__init__()\n",
        "\n",
        "    if from_pretrained:\n",
        "      self.word_embeddings = nn.Embedding.from_pretrained(weights)\n",
        "      \n",
        "    else:\n",
        "      self.word_embeddings = nn.Embedding(vocab_size, embedding_dim)\n",
        "\n",
        "    self.dropout = dropout\n",
        "    self.lstm = nn.LSTM(embedding_dim, hidden_dim, num_layers=2, dropout = dropout, bidirectional=bidirectional)\n",
        "    \n",
        "    self.output_layer = nn.Linear((1 + int(bidirectional)) * hidden_dim, label_size)\n",
        "  \n",
        "  def forward(self, id_sequence):\n",
        "    embedded_sequence = self.word_embeddings(id_sequence)\n",
        "    out,_ = self.lstm(embeddings)\n",
        "    x = out[:, -1, :] #many to 1 architecture\n",
        "    x = self.output_layer(x)\n",
        "\n",
        "    return F.softmax(x, dim=0)\n",
        "\n",
        "\n",
        "class LSTM_Pooling_Classifier(nn.Module):\n",
        "  \n",
        "  def __init__(self, label_size, vocab_size, embedding_dim, hidden_dim, num_layers=2,\n",
        "                 bidirectional=True, dropout=0.5, from_pretrained = False, weights = None):\n",
        "    super(LSTM_Pooling_Classifier, self).__init__()\n",
        "\n",
        "    self.embedding = nn.Embedding.from_pretrained(weights)\n",
        "    self.hidden_dim = hidden_dim\n",
        "    self.embedding_size = embedding_dim\n",
        "    \n",
        "    if from_pretrained:\n",
        "      self.word_embeddings = nn.Embedding.from_pretrained(weights)\n",
        "      \n",
        "    else:\n",
        "      self.word_embeddings = nn.Embedding(vocab_size, embedding_dim)\n",
        "    \n",
        "    self.num_layers = num_layers\n",
        "    self.dropout = nn.Dropout(p=dropout)\n",
        "      \n",
        "    self.lstm = nn.LSTM(embedding_dim, hidden_dim, num_layers=num_layers,\n",
        "                        bidirectional=bidirectional, batch_first=True, dropout=dropout)\n",
        "    \n",
        "    self.pooling = nn.Linear((1 +int(bidirectional)) * hidden_dim, label_size)\n",
        "\n",
        "  def forward(self, x):\n",
        "\n",
        "    embedded_sequence = self.embedding(x)\n",
        "    out, _ = self.lstm(embedded_sequence)\n",
        "    pool = nn.functional.max_pool1d(out.transpose(1, 2), x.shape[1])\n",
        "    pool = pool.transpose(1, 2).squeeze()\n",
        "    pool = self.dropout(pool)\n",
        "    output = F.softmax(self.pooling(pool), dim=1)\n",
        "      \n",
        "    return output.squeeze()"
      ],
      "execution_count": null,
      "outputs": []
    },
    {
      "cell_type": "markdown",
      "metadata": {
        "id": "Ugt02bsjydbV"
      },
      "source": [
        "## B) ELMO Classifier"
      ]
    },
    {
      "cell_type": "markdown",
      "metadata": {
        "id": "ctoO7rdkL_6A"
      },
      "source": [
        "Loading pretrained ELMO embeddings "
      ]
    },
    {
      "cell_type": "code",
      "metadata": {
        "colab": {
          "base_uri": "https://localhost:8080/"
        },
        "id": "XbPrkyRTKEag",
        "outputId": "ff24b838-73c8-4640-e284-50ea72da08e1"
      },
      "source": [
        "!wget https://s3-us-west-2.amazonaws.com/allennlp/models/elmo/2x4096_512_2048cnn_2xhighway/elmo_2x4096_512_2048cnn_2xhighway_options.json\n",
        "!wget https://s3-us-west-2.amazonaws.com/allennlp/models/elmo/2x4096_512_2048cnn_2xhighway/elmo_2x4096_512_2048cnn_2xhighway_weights.hdf5"
      ],
      "execution_count": null,
      "outputs": [
        {
          "output_type": "stream",
          "text": [
            "--2021-04-23 15:41:48--  https://s3-us-west-2.amazonaws.com/allennlp/models/elmo/2x4096_512_2048cnn_2xhighway/elmo_2x4096_512_2048cnn_2xhighway_options.json\n",
            "Resolving s3-us-west-2.amazonaws.com (s3-us-west-2.amazonaws.com)... 52.218.153.128\n",
            "Connecting to s3-us-west-2.amazonaws.com (s3-us-west-2.amazonaws.com)|52.218.153.128|:443... connected.\n",
            "HTTP request sent, awaiting response... 200 OK\n",
            "Length: 336 [application/json]\n",
            "Saving to: ‘elmo_2x4096_512_2048cnn_2xhighway_options.json’\n",
            "\n",
            "\r          elmo_2x40   0%[                    ]       0  --.-KB/s               \relmo_2x4096_512_204 100%[===================>]     336  --.-KB/s    in 0s      \n",
            "\n",
            "2021-04-23 15:41:48 (11.7 MB/s) - ‘elmo_2x4096_512_2048cnn_2xhighway_options.json’ saved [336/336]\n",
            "\n",
            "--2021-04-23 15:41:48--  https://s3-us-west-2.amazonaws.com/allennlp/models/elmo/2x4096_512_2048cnn_2xhighway/elmo_2x4096_512_2048cnn_2xhighway_weights.hdf5\n",
            "Resolving s3-us-west-2.amazonaws.com (s3-us-west-2.amazonaws.com)... 52.218.153.128\n",
            "Connecting to s3-us-west-2.amazonaws.com (s3-us-west-2.amazonaws.com)|52.218.153.128|:443... connected.\n",
            "HTTP request sent, awaiting response... 200 OK\n",
            "Length: 374434792 (357M) [binary/octet-stream]\n",
            "Saving to: ‘elmo_2x4096_512_2048cnn_2xhighway_weights.hdf5’\n",
            "\n",
            "elmo_2x4096_512_204 100%[===================>] 357.09M  95.3MB/s    in 3.7s    \n",
            "\n",
            "2021-04-23 15:41:51 (95.9 MB/s) - ‘elmo_2x4096_512_2048cnn_2xhighway_weights.hdf5’ saved [374434792/374434792]\n",
            "\n"
          ],
          "name": "stdout"
        }
      ]
    },
    {
      "cell_type": "code",
      "metadata": {
        "id": "5x-AepBmK3Xc"
      },
      "source": [
        "from allennlp.modules.elmo import Elmo, batch_to_ids\n",
        "\n",
        "class ELMOPoolingClassifier(nn.Module):\n",
        "    def __init__(self, label_size, dropout=0.5):\n",
        "        super(ELMOPoolingClassifier, self).__init__()\n",
        "        self.dropout = dropout\n",
        "\n",
        "        options_file = \"elmo_2x4096_512_2048cnn_2xhighway_options.json\"\n",
        "        weight_file = \"elmo_2x4096_512_2048cnn_2xhighway_weights.hdf5\"\n",
        "\n",
        "        self.elmo = Elmo(options_file, weight_file, 1, dropout=dropout, do_layer_norm=False)\n",
        "\n",
        "        #Shape : (batch, 1024, max_batch_len)\n",
        "        self.conv = nn.Conv1d(1024, 16, 3)\n",
        "        self.pooling = nn.AdaptiveMaxPool1d(128)\n",
        "        self.dropout_l = nn.Dropout(dropout)\n",
        "        self.fc = nn.Linear(2048, label_size)\n",
        "\n",
        "    def forward(self, id_sequences):\n",
        "        elmo_out = self.elmo(id_sequences)\n",
        "        x = elmo_out['elmo_representations'][0]\n",
        "        x = x.transpose(1,2)\n",
        "        x = self.conv(x)\n",
        "        x = F.relu(x)\n",
        "        x = self.pooling(x)\n",
        "        #Flattening vector\n",
        "        x = x.view(-1, 2048)\n",
        "        x = nn.Dropout(self.dropout)(x)\n",
        "        y = F.softmax(self.fc(x), dim=1)\n",
        "\n",
        "        return y"
      ],
      "execution_count": null,
      "outputs": []
    },
    {
      "cell_type": "markdown",
      "metadata": {
        "id": "2URm0y_Fy1e5"
      },
      "source": [
        "## C) Pretrained Bert Classifier"
      ]
    },
    {
      "cell_type": "markdown",
      "metadata": {
        "id": "J4Cus_qKZVzX"
      },
      "source": [
        "Loading pretrained Bert Classifier"
      ]
    },
    {
      "cell_type": "code",
      "metadata": {
        "colab": {
          "base_uri": "https://localhost:8080/",
          "height": 220,
          "referenced_widgets": [
            "450e806ebbd74508b5215b5a96bb039c",
            "e7cdb391885d4909a7dde5bdc233d827",
            "bd41e6b704d847bb82b7bf879cad9f87",
            "5287013b5aaa46febed3f6bf88e9a574",
            "5ee3e581823d4beebc5b1448ee545dda",
            "291b5733e3ca4ada9d5bb3386f9397a1",
            "2ba7928112d14b93bf91840abe2fcdd5",
            "a3cd9b2e54f546d0864a768c7883bb67",
            "75f0fc87d2e64b86973e49e9b29a5470",
            "e92aef4be00d430aa857f7554d291be7",
            "fb41728fcec041599e0f6a2801de9561",
            "dc64edab53b54ab2ab2b1b18162dbab6",
            "f33ea3ec6ece49a8bb3ba4ae2332593b",
            "64e964231d8646449e9a7618a04694b4",
            "9c85ba28eb20452397150f62e3971625",
            "8629947d3333427ba89b6ce996945c96"
          ]
        },
        "id": "ZX7asg9CzD74",
        "outputId": "7b10bf84-d6dd-49eb-9d2d-d40be82cd2d4"
      },
      "source": [
        "bert_clf = BertForSequenceClassification.from_pretrained('bert-base-uncased', num_labels = 2, output_hidden_states = False)"
      ],
      "execution_count": null,
      "outputs": [
        {
          "output_type": "display_data",
          "data": {
            "application/vnd.jupyter.widget-view+json": {
              "model_id": "450e806ebbd74508b5215b5a96bb039c",
              "version_minor": 0,
              "version_major": 2
            },
            "text/plain": [
              "HBox(children=(FloatProgress(value=0.0, description='Downloading', max=570.0, style=ProgressStyle(description_…"
            ]
          },
          "metadata": {
            "tags": []
          }
        },
        {
          "output_type": "stream",
          "text": [
            "\n"
          ],
          "name": "stdout"
        },
        {
          "output_type": "display_data",
          "data": {
            "application/vnd.jupyter.widget-view+json": {
              "model_id": "75f0fc87d2e64b86973e49e9b29a5470",
              "version_minor": 0,
              "version_major": 2
            },
            "text/plain": [
              "HBox(children=(FloatProgress(value=0.0, description='Downloading', max=440473133.0, style=ProgressStyle(descri…"
            ]
          },
          "metadata": {
            "tags": []
          }
        },
        {
          "output_type": "stream",
          "text": [
            "\n"
          ],
          "name": "stdout"
        },
        {
          "output_type": "stream",
          "text": [
            "Some weights of the model checkpoint at bert-base-uncased were not used when initializing BertForSequenceClassification: ['cls.predictions.bias', 'cls.predictions.transform.dense.weight', 'cls.predictions.transform.dense.bias', 'cls.predictions.decoder.weight', 'cls.seq_relationship.weight', 'cls.seq_relationship.bias', 'cls.predictions.transform.LayerNorm.weight', 'cls.predictions.transform.LayerNorm.bias']\n",
            "- This IS expected if you are initializing BertForSequenceClassification from the checkpoint of a model trained on another task or with another architecture (e.g. initializing a BertForSequenceClassification model from a BertForPreTraining model).\n",
            "- This IS NOT expected if you are initializing BertForSequenceClassification from the checkpoint of a model that you expect to be exactly identical (initializing a BertForSequenceClassification model from a BertForSequenceClassification model).\n",
            "Some weights of BertForSequenceClassification were not initialized from the model checkpoint at bert-base-uncased and are newly initialized: ['classifier.weight', 'classifier.bias']\n",
            "You should probably TRAIN this model on a down-stream task to be able to use it for predictions and inference.\n"
          ],
          "name": "stderr"
        }
      ]
    },
    {
      "cell_type": "markdown",
      "metadata": {
        "id": "_raulrQdzMIh"
      },
      "source": [
        "# 4) Experiments"
      ]
    },
    {
      "cell_type": "markdown",
      "metadata": {
        "id": "1Us7L0xhzVQY"
      },
      "source": [
        "## Training and testing functions"
      ]
    },
    {
      "cell_type": "markdown",
      "metadata": {
        "id": "pEkvLN1AZZ3s"
      },
      "source": [
        "Here, we define training and testing functions wich are consistent for every classifier."
      ]
    },
    {
      "cell_type": "code",
      "metadata": {
        "id": "b4oA4Gvtzb14"
      },
      "source": [
        "def train(model, train_loader, val_loader, lr=5e-5, n_epochs=10):\n",
        "\n",
        "  model.to(device)\n",
        "\n",
        "  optimizer = Adam(model.parameters(), lr=lr)\n",
        "  criterion = nn.CrossEntropyLoss()\n",
        "\n",
        "  loss_history = []\n",
        "\n",
        "  for epoch in range(n_epochs):\n",
        "\n",
        "    print(f'Epoch {epoch} ...')\n",
        "    total_loss = 0\n",
        "\n",
        "    for step, batch in enumerate(train_loader):\n",
        "\n",
        "      model.zero_grad()\n",
        "\n",
        "      #BERT case : (input, attention_mask, label)\n",
        "      if len(batch) == 3:\n",
        "        batch_input = batch[0].to(device)\n",
        "        batch_attention_mask = batch[1].to(device)\n",
        "        batch_label = batch[2].to(device)\n",
        "\n",
        "        output = model(batch_input, attention_mask = batch_attention_mask)[0]\n",
        "      \n",
        "      #LSTM and ELMO case : (input, label)\n",
        "      else:\n",
        "        batch_input = batch[0].to(device)\n",
        "        batch_label = batch[1].to(device)\n",
        "\n",
        "        output = model(batch_input)\n",
        "\n",
        "      output.to(device)\n",
        "\n",
        "      #Compute loss during training\n",
        "      loss = criterion(output, batch_label)\n",
        "\n",
        "      total_loss += loss.item()\n",
        "      batch_label_pred = torch.argmax(output, axis = 1).to('cpu').numpy()\n",
        "      batch_true_label = batch_label.to('cpu').numpy()\n",
        "      \n",
        "      #Gradient descent step\n",
        "      loss.backward()\n",
        "\n",
        "      nn.utils.clip_grad_norm_(model.parameters(), 1.0)\n",
        "      optimizer.step()\n",
        "\n",
        "    avg_train_loss = total_loss / len(train_loader) \n",
        "    loss_history.append(loss.item())\n",
        "\n",
        "    if epoch%1==0:\n",
        "      #Compute accuracy on validation set after each epoch\n",
        "      true_labels = []\n",
        "      pred_labels = []\n",
        "\n",
        "      for step_val, batch_val in (enumerate(val_loader)):\n",
        "\n",
        "        with torch.no_grad():\n",
        "          \n",
        "          #BERT case\n",
        "          if len(batch) == 3:\n",
        "            batch_input_val = batch_val[0].to(device)\n",
        "            batch_attention_masks_val = batch_val[1].to(device)\n",
        "            batch_labels_val = batch_val[2].to(device)\n",
        "\n",
        "            output = model(batch_input_val, attention_mask = batch_attention_masks_val)[0]\n",
        "\n",
        "          #LSTM and ELMO case\n",
        "          else:\n",
        "            batch_input_val = batch_val[0].to(device)\n",
        "            batch_labels_val = batch_val[1].to(device)\n",
        "\n",
        "            output = model(batch_input_val)\n",
        "\n",
        "          val_label_pred = torch.argmax(output, axis = 1).to('cpu').numpy().tolist()\n",
        "          val_true_label = batch_labels_val.to('cpu').numpy().tolist()\n",
        "\n",
        "          true_labels += val_true_label\n",
        "          pred_labels += val_label_pred\n",
        "          \n",
        "      accuracy = accuracy_score(true_labels, pred_labels)\n",
        "      precision, recall, f_score, _ = precision_recall_fscore_support(true_labels, pred_labels, labels=[0, 1])\n",
        "      mcc = matthews_corrcoef(true_labels, pred_labels)\n",
        "\n",
        "      print(f'Accuracy at epoch {epoch + 1} :  {accuracy}')\n",
        "      print(f'F0 score at epoch {epoch + 1} : {f_score[0]}')\n",
        "      print(f'F1 score at epoch {epoch + 1} : {f_score[1]}')\n",
        "      print(f'Mattthews Correlation Coeffient at epoch {epoch + 1} :  {mcc}')\n",
        "  \n",
        "  sns.set(rc={'figure.figsize':(8,6)}, style='white', font_scale=1.5, font='serif')\n",
        "  plt.xlabel('Epochs')\n",
        "  plt.ylabel('Loss')\n",
        "  plt.plot(loss_history, 'b-o')\n",
        "\n",
        "  plt.show()"
      ],
      "execution_count": null,
      "outputs": []
    },
    {
      "cell_type": "code",
      "metadata": {
        "id": "mdyGcfF0zib-"
      },
      "source": [
        "from sklearn.metrics import confusion_matrix\n",
        "\n",
        "def test(model, test_loader):\n",
        "  true_labels = []\n",
        "  pred_labels = []\n",
        "  logits_pred = []\n",
        "\n",
        "  model.eval()\n",
        "  model.to(device)\n",
        "\n",
        "  for batch in test_loader:\n",
        "    \n",
        "    with torch.no_grad():\n",
        "      \n",
        "      #BERT case\n",
        "      if len(batch) == 3:\n",
        "          batch_input = batch[0].to(device)\n",
        "          batch_attention_mask = batch[1].to(device)\n",
        "          batch_label = batch[2].to(device)\n",
        "\n",
        "          output = model(batch_input, attention_mask = batch_attention_mask)[0]\n",
        "      \n",
        "      #LSTM and ELMO case\n",
        "      else:\n",
        "        batch_input = batch[0].to(device)\n",
        "        batch_label = batch[1].to(device)\n",
        "\n",
        "        output = model(batch_input)\n",
        "      \n",
        "      label_pred = torch.argmax(output, axis=1).to('cpu').numpy()\n",
        "\n",
        "      true_label = batch_label.to('cpu').numpy()\n",
        "      logits_pred.append(output.to('cpu').numpy())\n",
        "\n",
        "      accuracy = accuracy_score(true_label, label_pred)\n",
        "      precision, recall, f_score, _ = precision_recall_fscore_support(true_label, label_pred, labels=[0, 1])\n",
        "      mcc = matthews_corrcoef(true_label, label_pred)\n",
        "      conf_matrix = confusion_matrix(true_label, label_pred)\n",
        "\n",
        "  print(f'Accuracy on test :  {accuracy}')\n",
        "  print(f'F0 score on test : {f_score[0]}')\n",
        "  print(f'F1 score on test : {f_score[1]}')\n",
        "  print(f'Mattthews Correlation Coeffient on test :  {mcc}')\n",
        "  print(f'Confusion matrix : {conf_matrix}')"
      ],
      "execution_count": null,
      "outputs": []
    },
    {
      "cell_type": "markdown",
      "metadata": {
        "id": "NIGm6qGdzQ2z"
      },
      "source": [
        "## A) LSTM Analysis"
      ]
    },
    {
      "cell_type": "markdown",
      "metadata": {
        "id": "ZexjHHjovHx_"
      },
      "source": [
        "***Choice of the embedding model***\n",
        "\n",
        "Since in the following experiments, we observe no changes with the choice embedding model, we chose here FastText embeddings."
      ]
    },
    {
      "cell_type": "code",
      "metadata": {
        "id": "YVQp9v0CvB0v"
      },
      "source": [
        "embedding_model = fasttext_model\n",
        "weights = weights_fasttext"
      ],
      "execution_count": null,
      "outputs": []
    },
    {
      "cell_type": "markdown",
      "metadata": {
        "id": "OlzXUwMCvLoX"
      },
      "source": [
        "***Defining train and validation loader***"
      ]
    },
    {
      "cell_type": "code",
      "metadata": {
        "colab": {
          "base_uri": "https://localhost:8080/"
        },
        "id": "UwvQtrIkK6k0",
        "outputId": "1a3aa9b7-b264-47a1-f456-c0c2c471b6fb"
      },
      "source": [
        "batch_size = 32\n",
        "sampler_seed = 0\n",
        "\n",
        "tokenized_sentences_train = tokenize_sentence(sentences_train, tokenizer)\n",
        "tokens_id_train = encode_sentences(tokenized_sentences_train, embedding_model)\n",
        "\n",
        "input_train, input_val, labels_training, labels_val = train_test_split(tokens_id_train, labels_train, test_size=0.2, random_state=sampler_seed)\n",
        "\n",
        "input_train = torch.tensor(input_train)\n",
        "labels_training = torch.tensor(labels_training)\n",
        "\n",
        "train_dataset = TensorDataset(input_train, labels_training)\n",
        "train_loader = DataLoader(train_dataset, batch_size = batch_size)\n",
        "\n",
        "input_val = torch.tensor(input_val)\n",
        "labels_val = torch.tensor(labels_val)\n",
        "\n",
        "val_dataset = TensorDataset(input_val, labels_val)\n",
        "val_loader = DataLoader(val_dataset, batch_size = batch_size)"
      ],
      "execution_count": null,
      "outputs": [
        {
          "output_type": "stream",
          "text": [
            "/usr/local/lib/python3.7/dist-packages/ipykernel_launcher.py:9: UserWarning: To copy construct from a tensor, it is recommended to use sourceTensor.clone().detach() or sourceTensor.clone().detach().requires_grad_(True), rather than torch.tensor(sourceTensor).\n",
            "  if __name__ == '__main__':\n",
            "/usr/local/lib/python3.7/dist-packages/ipykernel_launcher.py:15: UserWarning: To copy construct from a tensor, it is recommended to use sourceTensor.clone().detach() or sourceTensor.clone().detach().requires_grad_(True), rather than torch.tensor(sourceTensor).\n",
            "  from ipykernel import kernelapp as app\n"
          ],
          "name": "stderr"
        }
      ]
    },
    {
      "cell_type": "markdown",
      "metadata": {
        "id": "8Bf-jkBnUeh5"
      },
      "source": [
        "***Training***\n",
        "\n",
        "LSTM network : 5 layers, 128 units per layer."
      ]
    },
    {
      "cell_type": "code",
      "metadata": {
        "colab": {
          "base_uri": "https://localhost:8080/",
          "height": 1000
        },
        "id": "IxXXVijHTQLD",
        "outputId": "a4680e2d-9449-4db8-bfd6-d3008f4280e7"
      },
      "source": [
        "lstm_clf = LSTM_Pooling_Classifier(label_size=2, vocab_size=None, embedding_dim=100, hidden_dim=128, from_pretrained=True, weights=weights, num_layers=5)\n",
        "train(lstm_clf, train_loader, val_loader, lr=5e-5, n_epochs=30)"
      ],
      "execution_count": null,
      "outputs": [
        {
          "output_type": "stream",
          "text": [
            "Epoch 0 ...\n"
          ],
          "name": "stdout"
        },
        {
          "output_type": "stream",
          "text": [
            "/usr/local/lib/python3.7/dist-packages/sklearn/metrics/_classification.py:1272: UndefinedMetricWarning: Precision and F-score are ill-defined and being set to 0.0 in labels with no predicted samples. Use `zero_division` parameter to control this behavior.\n",
            "  _warn_prf(average, modifier, msg_start, len(result))\n",
            "/usr/local/lib/python3.7/dist-packages/sklearn/metrics/_classification.py:900: RuntimeWarning: invalid value encountered in double_scalars\n",
            "  mcc = cov_ytyp / np.sqrt(cov_ytyt * cov_ypyp)\n"
          ],
          "name": "stderr"
        },
        {
          "output_type": "stream",
          "text": [
            "Accuracy at epoch 1 :  0.7025131502045587\n",
            "F0 score at epoch 1 : 0.0\n",
            "F1 score at epoch 1 : 0.8252660487469963\n",
            "Mattthews Correlation Coeffient at epoch 1 :  0.0\n",
            "Epoch 1 ...\n",
            "Accuracy at epoch 2 :  0.7025131502045587\n",
            "F0 score at epoch 2 : 0.0\n",
            "F1 score at epoch 2 : 0.8252660487469963\n",
            "Mattthews Correlation Coeffient at epoch 2 :  0.0\n",
            "Epoch 2 ...\n",
            "Accuracy at epoch 3 :  0.7025131502045587\n",
            "F0 score at epoch 3 : 0.0\n",
            "F1 score at epoch 3 : 0.8252660487469963\n",
            "Mattthews Correlation Coeffient at epoch 3 :  0.0\n",
            "Epoch 3 ...\n",
            "Accuracy at epoch 4 :  0.7025131502045587\n",
            "F0 score at epoch 4 : 0.0\n",
            "F1 score at epoch 4 : 0.8252660487469963\n",
            "Mattthews Correlation Coeffient at epoch 4 :  0.0\n",
            "Epoch 4 ...\n",
            "Accuracy at epoch 5 :  0.7025131502045587\n",
            "F0 score at epoch 5 : 0.0\n",
            "F1 score at epoch 5 : 0.8252660487469963\n",
            "Mattthews Correlation Coeffient at epoch 5 :  0.0\n",
            "Epoch 5 ...\n",
            "Accuracy at epoch 6 :  0.7025131502045587\n",
            "F0 score at epoch 6 : 0.0\n",
            "F1 score at epoch 6 : 0.8252660487469963\n",
            "Mattthews Correlation Coeffient at epoch 6 :  0.0\n",
            "Epoch 6 ...\n",
            "Accuracy at epoch 7 :  0.7019286966686148\n",
            "F0 score at epoch 7 : 0.0\n",
            "F1 score at epoch 7 : 0.8248626373626374\n",
            "Mattthews Correlation Coeffient at epoch 7 :  -0.015736516524969584\n",
            "Epoch 7 ...\n",
            "Accuracy at epoch 8 :  0.7019286966686148\n",
            "F0 score at epoch 8 : 0.0\n",
            "F1 score at epoch 8 : 0.8248626373626374\n",
            "Mattthews Correlation Coeffient at epoch 8 :  -0.015736516524969584\n",
            "Epoch 8 ...\n",
            "Accuracy at epoch 9 :  0.6990064289888954\n",
            "F0 score at epoch 9 : 0.019047619047619046\n",
            "F1 score at epoch 9 : 0.8222298929927512\n",
            "Mattthews Correlation Coeffient at epoch 9 :  0.00319069913266396\n",
            "Epoch 9 ...\n",
            "Accuracy at epoch 10 :  0.6931618936294565\n",
            "F0 score at epoch 10 : 0.11764705882352942\n",
            "F1 score at epoch 10 : 0.8142907675981605\n",
            "Mattthews Correlation Coeffient at epoch 10 :  0.05509795301697319\n",
            "Epoch 10 ...\n",
            "Accuracy at epoch 11 :  0.6896551724137931\n",
            "F0 score at epoch 11 : 0.1393841166936791\n",
            "F1 score at epoch 11 : 0.8106951871657755\n",
            "Mattthews Correlation Coeffient at epoch 11 :  0.05715398662292062\n",
            "Epoch 11 ...\n",
            "Accuracy at epoch 12 :  0.6937463471654004\n",
            "F0 score at epoch 12 : 0.1381578947368421\n",
            "F1 score at epoch 12 : 0.8137882018479032\n",
            "Mattthews Correlation Coeffient at epoch 12 :  0.06871333553387016\n",
            "Epoch 12 ...\n",
            "Accuracy at epoch 13 :  0.6884862653419053\n",
            "F0 score at epoch 13 : 0.17364341085271318\n",
            "F1 score at epoch 13 : 0.8080662585523946\n",
            "Mattthews Correlation Coeffient at epoch 13 :  0.07345648516450463\n",
            "Epoch 13 ...\n",
            "Accuracy at epoch 14 :  0.6879018118059614\n",
            "F0 score at epoch 14 : 0.16562500000000002\n",
            "F1 score at epoch 14 : 0.8080517613227894\n",
            "Mattthews Correlation Coeffient at epoch 14 :  0.06745409218099105\n",
            "Epoch 14 ...\n",
            "Accuracy at epoch 15 :  0.6879018118059614\n",
            "F0 score at epoch 15 : 0.17080745341614906\n",
            "F1 score at epoch 15 : 0.8077753779697624\n",
            "Mattthews Correlation Coeffient at epoch 15 :  0.07037308420534369\n",
            "Epoch 15 ...\n",
            "Accuracy at epoch 16 :  0.690239625949737\n",
            "F0 score at epoch 16 : 0.14790996784565918\n",
            "F1 score at epoch 16 : 0.8107142857142857\n",
            "Mattthews Correlation Coeffient at epoch 16 :  0.06374875782285751\n",
            "Epoch 16 ...\n",
            "Accuracy at epoch 17 :  0.6832261835184102\n",
            "F0 score at epoch 17 : 0.1712538226299694\n",
            "F1 score at epoch 17 : 0.8041907514450867\n",
            "Mattthews Correlation Coeffient at epoch 17 :  0.059053925090196295\n",
            "Epoch 17 ...\n",
            "Accuracy at epoch 18 :  0.6855639976621859\n",
            "F0 score at epoch 18 : 0.14873417721518986\n",
            "F1 score at epoch 18 : 0.8071684587813619\n",
            "Mattthews Correlation Coeffient at epoch 18 :  0.05151989742672695\n",
            "Epoch 18 ...\n",
            "Accuracy at epoch 19 :  0.6861484511981297\n",
            "F0 score at epoch 19 : 0.1596244131455399\n",
            "F1 score at epoch 19 : 0.8070427596119296\n",
            "Mattthews Correlation Coeffient at epoch 19 :  0.05947691520454304\n",
            "Epoch 19 ...\n",
            "Accuracy at epoch 20 :  0.6797194623027469\n",
            "F0 score at epoch 20 : 0.1696969696969697\n",
            "F1 score at epoch 20 : 0.8015930485155685\n",
            "Mattthews Correlation Coeffient at epoch 20 :  0.049935305621936425\n",
            "Epoch 20 ...\n",
            "Accuracy at epoch 21 :  0.6820572764465225\n",
            "F0 score at epoch 21 : 0.17073170731707318\n",
            "F1 score at epoch 21 : 0.8033261026753435\n",
            "Mattthews Correlation Coeffient at epoch 21 :  0.055973999429890606\n",
            "Epoch 21 ...\n",
            "Accuracy at epoch 22 :  0.684395090590298\n",
            "F0 score at epoch 22 : 0.1743119266055046\n",
            "F1 score at epoch 22 : 0.8049132947976879\n",
            "Mattthews Correlation Coeffient at epoch 22 :  0.06364441465583737\n",
            "Epoch 22 ...\n",
            "Accuracy at epoch 23 :  0.6727060198714202\n",
            "F0 score at epoch 23 : 0.1907514450867052\n",
            "F1 score at epoch 23 : 0.7948717948717948\n",
            "Mattthews Correlation Coeffient at epoch 23 :  0.04781960489493563\n",
            "Epoch 23 ...\n",
            "Accuracy at epoch 24 :  0.6896551724137931\n",
            "F0 score at epoch 24 : 0.1476725521669342\n",
            "F1 score at epoch 24 : 0.8102893890675241\n",
            "Mattthews Correlation Coeffient at epoch 24 :  0.0619632980902084\n",
            "Epoch 24 ...\n",
            "Accuracy at epoch 25 :  0.6890707188778492\n",
            "F0 score at epoch 25 : 0.125\n",
            "F1 score at epoch 25 : 0.810945273631841\n",
            "Mattthews Correlation Coeffient at epoch 25 :  0.04681057979851515\n",
            "Epoch 25 ...\n",
            "Accuracy at epoch 26 :  0.6814728229105786\n",
            "F0 score at epoch 26 : 0.16793893129770993\n",
            "F1 score at epoch 26 : 0.8030357788218287\n",
            "Mattthews Correlation Coeffient at epoch 26 :  0.05293257419876775\n",
            "Epoch 26 ...\n",
            "Accuracy at epoch 27 :  0.6855639976621859\n",
            "F0 score at epoch 27 : 0.16718266253869968\n",
            "F1 score at epoch 27 : 0.8061959654178674\n",
            "Mattthews Correlation Coeffient at epoch 27 :  0.06238860833599533\n",
            "Epoch 27 ...\n",
            "Accuracy at epoch 28 :  0.6832261835184102\n",
            "F0 score at epoch 28 : 0.18126888217522658\n",
            "F1 score at epoch 28 : 0.803623188405797\n",
            "Mattthews Correlation Coeffient at epoch 28 :  0.06489530976654953\n",
            "Epoch 28 ...\n",
            "Accuracy at epoch 29 :  0.6914085330216247\n",
            "F0 score at epoch 29 : 0.15654952076677317\n",
            "F1 score at epoch 29 : 0.8111587982832619\n",
            "Mattthews Correlation Coeffient at epoch 29 :  0.0718965045206649\n",
            "Epoch 29 ...\n",
            "Accuracy at epoch 30 :  0.6925774400935125\n",
            "F0 score at epoch 30 : 0.15161290322580645\n",
            "F1 score at epoch 30 : 0.8122769450392576\n",
            "Mattthews Correlation Coeffient at epoch 30 :  0.07255916158210299\n"
          ],
          "name": "stdout"
        },
        {
          "output_type": "display_data",
          "data": {
            "image/png": "[encoded data removed]",
            "text/plain": [
              "<Figure size 576x432 with 1 Axes>"
            ]
          },
          "metadata": {
            "tags": []
          }
        }
      ]
    },
    {
      "cell_type": "markdown",
      "metadata": {
        "id": "_diEbvxYaaBR"
      },
      "source": [
        "We observe unstable decrease of the loss function and a increase in all the classification metrics."
      ]
    },
    {
      "cell_type": "markdown",
      "metadata": {
        "id": "v3L6-QyQUjP-"
      },
      "source": [
        "***Testing***"
      ]
    },
    {
      "cell_type": "code",
      "metadata": {
        "id": "ZXqtY3C0Vx7z"
      },
      "source": [
        "tokenized_sentences_test_in = tokenize_sentence(sentences_test_in, tokenizer)\n",
        "tokenized_sentences_test_out = tokenize_sentence(sentences_test_out, tokenizer)\n",
        "\n",
        "tokens_id_test_in = encode_sentences(tokenized_sentences_test_in, embedding_model)\n",
        "tokens_id_test_out = encode_sentences(tokenized_sentences_test_out, embedding_model)\n",
        "\n",
        "test_in_dataset = TensorDataset(tokens_id_test_in, torch.tensor(labels_test_in))\n",
        "test_in_loader = DataLoader(test_in_dataset, batch_size = tokens_id_test_in.shape[0])\n",
        "\n",
        "test_out_dataset = TensorDataset(tokens_id_test_out, torch.tensor(labels_test_out))\n",
        "test_out_loader = DataLoader(test_out_dataset, batch_size = tokens_id_test_out.shape[0])"
      ],
      "execution_count": null,
      "outputs": []
    },
    {
      "cell_type": "code",
      "metadata": {
        "colab": {
          "base_uri": "https://localhost:8080/"
        },
        "id": "k7sPLLiiTNn0",
        "outputId": "9868891b-e3b2-4abb-f7f7-b045e0c058cd"
      },
      "source": [
        "test(lstm_clf, test_in_loader)"
      ],
      "execution_count": null,
      "outputs": [
        {
          "output_type": "stream",
          "text": [
            "Accuracy on test :  0.7001897533206831\n",
            "F0 score on test : 0.20999999999999996\n",
            "F1 score on test : 0.8149882903981265\n",
            "Mattthews Correlation Coeffient on test :  0.14815617827919508\n",
            "Confusion matrix : [[ 21 141]\n",
            " [ 17 348]]\n"
          ],
          "name": "stdout"
        }
      ]
    },
    {
      "cell_type": "code",
      "metadata": {
        "colab": {
          "base_uri": "https://localhost:8080/"
        },
        "id": "3GFwC2AvUKI6",
        "outputId": "0e8a86fc-0b3a-42e2-d5f7-30d83ba7a302"
      },
      "source": [
        "test(lstm_clf, test_out_loader)"
      ],
      "execution_count": null,
      "outputs": [
        {
          "output_type": "stream",
          "text": [
            "Accuracy on test :  0.6647286821705426\n",
            "F0 score on test : 0.16425120772946858\n",
            "F1 score on test : 0.7903030303030303\n",
            "Mattthews Correlation Coeffient on test :  0.04250816472950028\n",
            "Confusion matrix : [[ 17 145]\n",
            " [ 28 326]]\n"
          ],
          "name": "stdout"
        }
      ]
    },
    {
      "cell_type": "markdown",
      "metadata": {
        "id": "7rB1HuczfX1p"
      },
      "source": [
        "## B) ELMO Analysis"
      ]
    },
    {
      "cell_type": "markdown",
      "metadata": {
        "id": "mrB6Rsn7v9Kn"
      },
      "source": [
        "***Training***"
      ]
    },
    {
      "cell_type": "code",
      "metadata": {
        "colab": {
          "base_uri": "https://localhost:8080/"
        },
        "id": "Nna-ohcMv-uC",
        "outputId": "eacd4c7d-c984-4698-c990-fa277a86f9d8"
      },
      "source": [
        "tokenized_sentences_train = tokenize_sentence(sentences_train, tokenizer)\n",
        "tokens_id_train = batch_to_ids(tokenized_sentences_train)\n",
        "\n",
        "sampler_seed = 0\n",
        "\n",
        "input_train, input_val, labels_training, labels_val = train_test_split(tokens_id_train, labels_train, test_size = 0.2, random_state=sampler_seed)\n",
        "\n",
        "input_train = torch.tensor(input_train)\n",
        "labels_training = torch.tensor(labels_training)\n",
        "\n",
        "train_dataset = TensorDataset(input_train, labels_training)\n",
        "train_loader = DataLoader(train_dataset, batch_size = batch_size)\n",
        "\n",
        "input_val = torch.tensor(input_val)\n",
        "labels_val = torch.tensor(labels_val)\n",
        "\n",
        "val_dataset = TensorDataset(input_val, labels_val)\n",
        "val_loader = DataLoader(val_dataset, batch_size = batch_size)"
      ],
      "execution_count": null,
      "outputs": [
        {
          "output_type": "stream",
          "text": [
            "/usr/local/lib/python3.7/dist-packages/ipykernel_launcher.py:8: UserWarning: To copy construct from a tensor, it is recommended to use sourceTensor.clone().detach() or sourceTensor.clone().detach().requires_grad_(True), rather than torch.tensor(sourceTensor).\n",
            "  \n",
            "/usr/local/lib/python3.7/dist-packages/ipykernel_launcher.py:14: UserWarning: To copy construct from a tensor, it is recommended to use sourceTensor.clone().detach() or sourceTensor.clone().detach().requires_grad_(True), rather than torch.tensor(sourceTensor).\n",
            "  \n"
          ],
          "name": "stderr"
        }
      ]
    },
    {
      "cell_type": "code",
      "metadata": {
        "colab": {
          "base_uri": "https://localhost:8080/",
          "height": 1000
        },
        "id": "RxiNV1FQqgpc",
        "outputId": "bb475e6c-730c-4a0b-c11b-703b2620f736"
      },
      "source": [
        "elmo_clf = ELMOPoolingClassifier(label_size=2, dropout=0.5)\n",
        "\n",
        "train(elmo_clf, train_loader, val_loader, lr=5e-5, n_epochs=30)"
      ],
      "execution_count": null,
      "outputs": [
        {
          "output_type": "stream",
          "text": [
            "Epoch 0 ...\n"
          ],
          "name": "stdout"
        },
        {
          "output_type": "stream",
          "text": [
            "/usr/local/lib/python3.7/dist-packages/sklearn/metrics/_classification.py:1272: UndefinedMetricWarning: Precision and F-score are ill-defined and being set to 0.0 in labels with no predicted samples. Use `zero_division` parameter to control this behavior.\n",
            "  _warn_prf(average, modifier, msg_start, len(result))\n",
            "/usr/local/lib/python3.7/dist-packages/sklearn/metrics/_classification.py:900: RuntimeWarning: invalid value encountered in double_scalars\n",
            "  mcc = cov_ytyp / np.sqrt(cov_ytyt * cov_ypyp)\n"
          ],
          "name": "stderr"
        },
        {
          "output_type": "stream",
          "text": [
            "Accuracy at epoch 1 :  0.7025131502045587\n",
            "F0 score at epoch 1 : 0.0\n",
            "F1 score at epoch 1 : 0.8252660487469963\n",
            "Mattthews Correlation Coeffient at epoch 1 :  0.0\n",
            "Epoch 1 ...\n",
            "Accuracy at epoch 2 :  0.7025131502045587\n",
            "F0 score at epoch 2 : 0.0\n",
            "F1 score at epoch 2 : 0.8252660487469963\n",
            "Mattthews Correlation Coeffient at epoch 2 :  0.0\n",
            "Epoch 2 ...\n",
            "Accuracy at epoch 3 :  0.7025131502045587\n",
            "F0 score at epoch 3 : 0.0\n",
            "F1 score at epoch 3 : 0.8252660487469963\n",
            "Mattthews Correlation Coeffient at epoch 3 :  0.0\n",
            "Epoch 3 ...\n",
            "Accuracy at epoch 4 :  0.7030976037405027\n",
            "F0 score at epoch 4 : 0.011673151750972763\n",
            "F1 score at epoch 4 : 0.8253094910591472\n",
            "Mattthews Correlation Coeffient at epoch 4 :  0.03582437574847257\n",
            "Epoch 4 ...\n",
            "Accuracy at epoch 5 :  0.7019286966686148\n",
            "F0 score at epoch 5 : 0.00390625\n",
            "F1 score at epoch 5 : 0.8247422680412371\n",
            "Mattthews Correlation Coeffient at epoch 5 :  0.003286261640568855\n",
            "Epoch 5 ...\n",
            "Accuracy at epoch 6 :  0.7019286966686148\n",
            "F0 score at epoch 6 : 0.022988505747126436\n",
            "F1 score at epoch 6 : 0.8241379310344827\n",
            "Mattthews Correlation Coeffient at epoch 6 :  0.03139946289236867\n",
            "Epoch 6 ...\n",
            "Accuracy at epoch 7 :  0.7025131502045587\n",
            "F0 score at epoch 7 : 0.023032629558541268\n",
            "F1 score at epoch 7 : 0.8245432609445019\n",
            "Mattthews Correlation Coeffient at epoch 7 :  0.03722940089827045\n",
            "Epoch 7 ...\n",
            "Accuracy at epoch 8 :  0.7019286966686148\n",
            "F0 score at epoch 8 : 0.05204460966542751\n",
            "F1 score at epoch 8 : 0.8231622746185854\n",
            "Mattthews Correlation Coeffient at epoch 8 :  0.053215009060938116\n",
            "Epoch 8 ...\n",
            "Accuracy at epoch 9 :  0.7030976037405027\n",
            "F0 score at epoch 9 : 0.0896057347670251\n",
            "F1 score at epoch 9 : 0.8226256983240222\n",
            "Mattthews Correlation Coeffient at epoch 9 :  0.07989582535954166\n",
            "Epoch 9 ...\n",
            "Accuracy at epoch 10 :  0.706019871420222\n",
            "F0 score at epoch 10 : 0.14017094017094017\n",
            "F1 score at epoch 10 : 0.822700035248502\n",
            "Mattthews Correlation Coeffient at epoch 10 :  0.11412440872732912\n",
            "Epoch 10 ...\n",
            "Accuracy at epoch 11 :  0.700759789596727\n",
            "F0 score at epoch 11 : 0.14093959731543623\n",
            "F1 score at epoch 11 : 0.8188251946213728\n",
            "Mattthews Correlation Coeffient at epoch 11 :  0.09380257296843274\n",
            "Epoch 11 ...\n",
            "Accuracy at epoch 12 :  0.712448860315605\n",
            "F0 score at epoch 12 : 0.19078947368421056\n",
            "F1 score at epoch 12 : 0.8251599147121536\n",
            "Mattthews Correlation Coeffient at epoch 12 :  0.15632435847529016\n",
            "Epoch 12 ...\n",
            "Accuracy at epoch 13 :  0.7042665108123904\n",
            "F0 score at epoch 13 : 0.17320261437908496\n",
            "F1 score at epoch 13 : 0.8199288256227759\n",
            "Mattthews Correlation Coeffient at epoch 13 :  0.12017850556706776\n",
            "Epoch 13 ...\n",
            "Accuracy at epoch 14 :  0.7054354178842782\n",
            "F0 score at epoch 14 : 0.25000000000000006\n",
            "F1 score at epoch 14 : 0.8167272727272729\n",
            "Mattthews Correlation Coeffient at epoch 14 :  0.1546343297154514\n",
            "Epoch 14 ...\n",
            "Accuracy at epoch 15 :  0.7025131502045587\n",
            "F0 score at epoch 15 : 0.2481536189069424\n",
            "F1 score at epoch 15 : 0.8145719489981785\n",
            "Mattthews Correlation Coeffient at epoch 15 :  0.1461718662239561\n",
            "Epoch 15 ...\n",
            "Accuracy at epoch 16 :  0.706604324956166\n",
            "F0 score at epoch 16 : 0.24850299401197604\n",
            "F1 score at epoch 16 : 0.8177196804647784\n",
            "Mattthews Correlation Coeffient at epoch 16 :  0.1572018682421398\n",
            "Epoch 16 ...\n",
            "Accuracy at epoch 17 :  0.6995908825248393\n",
            "F0 score at epoch 17 : 0.23511904761904762\n",
            "F1 score at epoch 17 : 0.813090909090909\n",
            "Mattthews Correlation Coeffient at epoch 17 :  0.13286076139055572\n",
            "Epoch 17 ...\n",
            "Accuracy at epoch 18 :  0.6949152542372882\n",
            "F0 score at epoch 18 : 0.26890756302521013\n",
            "F1 score at epoch 18 : 0.8072378138847859\n",
            "Mattthews Correlation Coeffient at epoch 18 :  0.13784976408140406\n",
            "Epoch 18 ...\n",
            "Accuracy at epoch 19 :  0.7188778492109877\n",
            "F0 score at epoch 19 : 0.30989956958393117\n",
            "F1 score at epoch 19 : 0.8234862385321101\n",
            "Mattthews Correlation Coeffient at epoch 19 :  0.21287183571898885\n",
            "Epoch 19 ...\n",
            "Accuracy at epoch 20 :  0.7142022209234365\n",
            "F0 score at epoch 20 : 0.3471295060080106\n",
            "F1 score at epoch 20 : 0.8170594837261503\n",
            "Mattthews Correlation Coeffient at epoch 20 :  0.215748573410057\n",
            "Epoch 20 ...\n",
            "Accuracy at epoch 21 :  0.7130333138515488\n",
            "F0 score at epoch 21 : 0.2832116788321168\n",
            "F1 score at epoch 21 : 0.8206065034709537\n",
            "Mattthews Correlation Coeffient at epoch 21 :  0.18787762554560644\n",
            "Epoch 21 ...\n",
            "Accuracy at epoch 22 :  0.7083576855639977\n",
            "F0 score at epoch 22 : 0.31550068587105623\n",
            "F1 score at epoch 22 : 0.8147047901968065\n",
            "Mattthews Correlation Coeffient at epoch 22 :  0.1892595213359267\n",
            "Epoch 22 ...\n",
            "Accuracy at epoch 23 :  0.7030976037405027\n",
            "F0 score at epoch 23 : 0.31351351351351353\n",
            "F1 score at epoch 23 : 0.8105891126025355\n",
            "Mattthews Correlation Coeffient at epoch 23 :  0.17688232731582737\n",
            "Epoch 23 ...\n",
            "Accuracy at epoch 24 :  0.6937463471654004\n",
            "F0 score at epoch 24 : 0.29380053908355797\n",
            "F1 score at epoch 24 : 0.8044776119402984\n",
            "Mattthews Correlation Coeffient at epoch 24 :  0.14793000220596583\n",
            "Epoch 24 ...\n",
            "Accuracy at epoch 25 :  0.7042665108123904\n",
            "F0 score at epoch 25 : 0.337696335078534\n",
            "F1 score at epoch 25 : 0.8096313017306245\n",
            "Mattthews Correlation Coeffient at epoch 25 :  0.1907728775913689\n",
            "Epoch 25 ...\n",
            "Accuracy at epoch 26 :  0.7048509643483343\n",
            "F0 score at epoch 26 : 0.3203230148048452\n",
            "F1 score at epoch 26 : 0.8114968271743187\n",
            "Mattthews Correlation Coeffient at epoch 26 :  0.1837650114805616\n",
            "Epoch 26 ...\n",
            "Accuracy at epoch 27 :  0.7136177673874927\n",
            "F0 score at epoch 27 : 0.3466666666666666\n",
            "F1 score at epoch 27 : 0.8166167664670659\n",
            "Mattthews Correlation Coeffient at epoch 27 :  0.21428041567708328\n",
            "Epoch 27 ...\n",
            "Accuracy at epoch 28 :  0.7001753360607832\n",
            "F0 score at epoch 28 : 0.3058186738836265\n",
            "F1 score at epoch 28 : 0.8087961237420797\n",
            "Mattthews Correlation Coeffient at epoch 28 :  0.16707761081731634\n",
            "Epoch 28 ...\n",
            "Accuracy at epoch 29 :  0.7054354178842782\n",
            "F0 score at epoch 29 : 0.34203655352480417\n",
            "F1 score at epoch 29 : 0.8102409638554217\n",
            "Mattthews Correlation Coeffient at epoch 29 :  0.1951875303741205\n",
            "Epoch 29 ...\n",
            "Accuracy at epoch 30 :  0.7083576855639977\n",
            "F0 score at epoch 30 : 0.34428383705650456\n",
            "F1 score at epoch 30 : 0.812476512589252\n",
            "Mattthews Correlation Coeffient at epoch 30 :  0.20214233401332563\n"
          ],
          "name": "stdout"
        },
        {
          "output_type": "display_data",
          "data": {
            "image/png": "[encoded data removed]",
            "text/plain": [
              "<Figure size 576x432 with 1 Axes>"
            ]
          },
          "metadata": {
            "tags": []
          }
        }
      ]
    },
    {
      "cell_type": "markdown",
      "metadata": {
        "id": "riLVTGsNalBj"
      },
      "source": [
        "Same as before, we observe an unstable loss decrease at the first epochs and an very unstable statu quo for the last epochs, but an increase in all the classification metrics. Moreover, metrics after convergence are better than LSTM layer."
      ]
    },
    {
      "cell_type": "markdown",
      "metadata": {
        "id": "7uNTpTiAj2X-"
      },
      "source": [
        "***Testing***"
      ]
    },
    {
      "cell_type": "code",
      "metadata": {
        "id": "Mvks-BtjrC_4"
      },
      "source": [
        "tokenized_sentences_test_in = tokenize_sentence(sentences_test_in, tokenizer)\n",
        "tokens_id_test_in = batch_to_ids(tokenized_sentences_test_in)\n",
        "\n",
        "tokenized_sentences_test_out = tokenize_sentence(sentences_test_out, tokenizer)\n",
        "tokens_id_test_out = batch_to_ids(tokenized_sentences_test_out)\n",
        "\n",
        "test_in_dataset = TensorDataset(tokens_id_test_in, torch.tensor(labels_test_in))\n",
        "test_in_loader = DataLoader(test_in_dataset, batch_size = tokens_id_test_in.shape[0])\n",
        "\n",
        "test_out_dataset = TensorDataset(tokens_id_test_out, torch.tensor(labels_test_out))\n",
        "test_out_loader = DataLoader(test_out_dataset, batch_size = tokens_id_test_out.shape[0])"
      ],
      "execution_count": null,
      "outputs": []
    },
    {
      "cell_type": "code",
      "metadata": {
        "colab": {
          "base_uri": "https://localhost:8080/"
        },
        "id": "AWhTJjRcjoQN",
        "outputId": "b91c2d6c-c7b8-48fc-a968-17546a668f4e"
      },
      "source": [
        "test(elmo_clf, test_in_loader)"
      ],
      "execution_count": null,
      "outputs": [
        {
          "output_type": "stream",
          "text": [
            "Accuracy on test :  0.7096774193548387\n",
            "F0 score on test : 0.4395604395604396\n",
            "F1 score on test : 0.8040973111395646\n",
            "Mattthews Correlation Coeffient on test :  0.26099884887399366\n",
            "Confusion matrix : [[ 60 102]\n",
            " [ 51 314]]\n"
          ],
          "name": "stdout"
        }
      ]
    },
    {
      "cell_type": "code",
      "metadata": {
        "colab": {
          "base_uri": "https://localhost:8080/"
        },
        "id": "GLDtppGzjtRU",
        "outputId": "4825e637-faf6-4e09-aaa9-013f970f76c0"
      },
      "source": [
        "test(elmo_clf, test_out_loader)"
      ],
      "execution_count": null,
      "outputs": [
        {
          "output_type": "stream",
          "text": [
            "Accuracy on test :  0.6666666666666666\n",
            "F0 score on test : 0.34351145038167935\n",
            "F1 score on test : 0.7766233766233765\n",
            "Mattthews Correlation Coeffient on test :  0.14372466615378499\n",
            "Confusion matrix : [[ 45 117]\n",
            " [ 55 299]]\n"
          ],
          "name": "stdout"
        }
      ]
    },
    {
      "cell_type": "markdown",
      "metadata": {
        "id": "xhmbRXVVj5ke"
      },
      "source": [
        "## C) Bert Analysis"
      ]
    },
    {
      "cell_type": "markdown",
      "metadata": {
        "id": "L-x3enHyrndK"
      },
      "source": [
        "***Specific function for Bert preprocessing***"
      ]
    },
    {
      "cell_type": "code",
      "metadata": {
        "id": "SnEjh3whj-B2"
      },
      "source": [
        "def get_bert_input(sentences, bert_tokenizer):\n",
        "  pad_length = 64\n",
        "  tokens_id = []\n",
        "  attention_masks = []\n",
        "\n",
        "  for sentence in sentences:\n",
        "    tokens_id.append(bert_tokenizer.encode(sentence, padding='max_length', add_special_tokens=True,\n",
        "                                            max_length=pad_length))\n",
        "  for id_list in tokens_id:\n",
        "    attention_masks.append([int(id > 0) for id in id_list])\n",
        "\n",
        "  return torch.tensor(tokens_id), torch.tensor(attention_masks)"
      ],
      "execution_count": null,
      "outputs": []
    },
    {
      "cell_type": "markdown",
      "metadata": {
        "id": "8f_A2zd4rsUQ"
      },
      "source": [
        "***Finetuning***"
      ]
    },
    {
      "cell_type": "code",
      "metadata": {
        "id": "EihHMvhwlSF2",
        "colab": {
          "base_uri": "https://localhost:8080/",
          "height": 164,
          "referenced_widgets": [
            "0b96345d2a9c4912b701739278b3178b",
            "71019e1c89514a0ba7c3f993a75bf14b",
            "b10604c481ef4009a8faa7901a7ef993",
            "af7f569ab646495a9b50ee76ef125234",
            "58f1ce46c08f4ef0b9871e357835cc0a",
            "361ae30a26e249c2bd8a7ab23306dc13",
            "012d56f714d8471bb37528797c049685",
            "8eed78cee0944a47aecbf16579156645",
            "a704f36ab9c5412eb4adfe8b906cad7d",
            "dd037fccce9941da96687b3240c4db1b",
            "a5120d3fa4b04ac184c888330c3efcfb",
            "8ba9040b7b5c4646aa14f39c5d559b61",
            "c5fa49769bec4bbfa87912da24295ee9",
            "087a99d57d6f45e39c364d40e5c15a23",
            "cebb9e74b2b54d1b89e00130003b8cf0",
            "c0bfd3553ae1415f92ec889723da6381",
            "362f7d9207f046eeb060362e027832d4",
            "a79374aabd174c3789e10835a6b9a669",
            "f40d6eae9ef44fa9a9a6d348c3427add",
            "badd8cee53d447658675459f5e1c4edb",
            "0b58d6436d06441a9cb0147b341f7eb0",
            "f3cfebfca11d4ccab3381b41aeea418d",
            "e51337a9a7534b78ac02c8595e23b107",
            "ec7ad16f0e5a4728ae2c6f9fe4fdc7ac"
          ]
        },
        "outputId": "58cfaf00-89d8-41d6-8300-96d8c4622b68"
      },
      "source": [
        "bert_tokenizer = BertTokenizer.from_pretrained('bert-base-uncased', do_lower_case=True, padding_side = 'right')\n",
        "tokens_id_train, attention_masks_train = get_bert_input(sentences_train, bert_tokenizer)"
      ],
      "execution_count": null,
      "outputs": [
        {
          "output_type": "display_data",
          "data": {
            "application/vnd.jupyter.widget-view+json": {
              "model_id": "0b96345d2a9c4912b701739278b3178b",
              "version_minor": 0,
              "version_major": 2
            },
            "text/plain": [
              "HBox(children=(FloatProgress(value=0.0, description='Downloading', max=231508.0, style=ProgressStyle(descripti…"
            ]
          },
          "metadata": {
            "tags": []
          }
        },
        {
          "output_type": "stream",
          "text": [
            "\n"
          ],
          "name": "stdout"
        },
        {
          "output_type": "display_data",
          "data": {
            "application/vnd.jupyter.widget-view+json": {
              "model_id": "a704f36ab9c5412eb4adfe8b906cad7d",
              "version_minor": 0,
              "version_major": 2
            },
            "text/plain": [
              "HBox(children=(FloatProgress(value=0.0, description='Downloading', max=28.0, style=ProgressStyle(description_w…"
            ]
          },
          "metadata": {
            "tags": []
          }
        },
        {
          "output_type": "stream",
          "text": [
            "\n"
          ],
          "name": "stdout"
        },
        {
          "output_type": "display_data",
          "data": {
            "application/vnd.jupyter.widget-view+json": {
              "model_id": "362f7d9207f046eeb060362e027832d4",
              "version_minor": 0,
              "version_major": 2
            },
            "text/plain": [
              "HBox(children=(FloatProgress(value=0.0, description='Downloading', max=466062.0, style=ProgressStyle(descripti…"
            ]
          },
          "metadata": {
            "tags": []
          }
        },
        {
          "output_type": "stream",
          "text": [
            "\n"
          ],
          "name": "stdout"
        }
      ]
    },
    {
      "cell_type": "code",
      "metadata": {
        "colab": {
          "base_uri": "https://localhost:8080/"
        },
        "id": "rdGJcOMulUl0",
        "outputId": "ba49c554-ddcc-4c32-b39c-e0395d2a415d"
      },
      "source": [
        "sampler_seed = 42\n",
        "input_train, input_val, labels_training, labels_val = train_test_split(tokens_id_train, labels_train, test_size = 0.2, random_state = sampler_seed)\n",
        "attention_masks_training, attention_masks_val = train_test_split(attention_masks_train, test_size = 0.2, random_state = sampler_seed)\n",
        "\n",
        "input_train = torch.tensor(input_train)\n",
        "attention_masks_training = torch.tensor(attention_masks_training)\n",
        "labels_training = torch.tensor(labels_training)\n",
        "\n",
        "train_dataset = TensorDataset(input_train, attention_masks_training, labels_training)\n",
        "train_loader = DataLoader(train_dataset, batch_size = 32)\n",
        "\n",
        "input_val = torch.tensor(input_val)\n",
        "attention_masks_val= torch.tensor(attention_masks_val)\n",
        "labels_val = torch.tensor(labels_val)\n",
        "\n",
        "val_dataset = TensorDataset(input_val, attention_masks_val, labels_val)\n",
        "val_loader = DataLoader(val_dataset, batch_size = 32)"
      ],
      "execution_count": null,
      "outputs": [
        {
          "output_type": "stream",
          "text": [
            "/usr/local/lib/python3.7/dist-packages/ipykernel_launcher.py:5: UserWarning: To copy construct from a tensor, it is recommended to use sourceTensor.clone().detach() or sourceTensor.clone().detach().requires_grad_(True), rather than torch.tensor(sourceTensor).\n",
            "  \"\"\"\n",
            "/usr/local/lib/python3.7/dist-packages/ipykernel_launcher.py:6: UserWarning: To copy construct from a tensor, it is recommended to use sourceTensor.clone().detach() or sourceTensor.clone().detach().requires_grad_(True), rather than torch.tensor(sourceTensor).\n",
            "  \n",
            "/usr/local/lib/python3.7/dist-packages/ipykernel_launcher.py:12: UserWarning: To copy construct from a tensor, it is recommended to use sourceTensor.clone().detach() or sourceTensor.clone().detach().requires_grad_(True), rather than torch.tensor(sourceTensor).\n",
            "  if sys.path[0] == '':\n",
            "/usr/local/lib/python3.7/dist-packages/ipykernel_launcher.py:13: UserWarning: To copy construct from a tensor, it is recommended to use sourceTensor.clone().detach() or sourceTensor.clone().detach().requires_grad_(True), rather than torch.tensor(sourceTensor).\n",
            "  del sys.path[0]\n"
          ],
          "name": "stderr"
        }
      ]
    },
    {
      "cell_type": "code",
      "metadata": {
        "id": "1pmQwkMpmNzz",
        "colab": {
          "base_uri": "https://localhost:8080/",
          "height": 936
        },
        "outputId": "76e9b463-942f-4b44-9226-469e2f42a808"
      },
      "source": [
        "bert_clf = BertForSequenceClassification.from_pretrained('bert-base-uncased', num_labels = 2, output_hidden_states = False)\n",
        "train(bert_clf, train_loader, val_loader, lr=5e-5, n_epochs=5)"
      ],
      "execution_count": null,
      "outputs": [
        {
          "output_type": "stream",
          "text": [
            "Some weights of the model checkpoint at bert-base-uncased were not used when initializing BertForSequenceClassification: ['cls.predictions.bias', 'cls.predictions.transform.dense.weight', 'cls.predictions.transform.dense.bias', 'cls.predictions.decoder.weight', 'cls.seq_relationship.weight', 'cls.seq_relationship.bias', 'cls.predictions.transform.LayerNorm.weight', 'cls.predictions.transform.LayerNorm.bias']\n",
            "- This IS expected if you are initializing BertForSequenceClassification from the checkpoint of a model trained on another task or with another architecture (e.g. initializing a BertForSequenceClassification model from a BertForPreTraining model).\n",
            "- This IS NOT expected if you are initializing BertForSequenceClassification from the checkpoint of a model that you expect to be exactly identical (initializing a BertForSequenceClassification model from a BertForSequenceClassification model).\n",
            "Some weights of BertForSequenceClassification were not initialized from the model checkpoint at bert-base-uncased and are newly initialized: ['classifier.weight', 'classifier.bias']\n",
            "You should probably TRAIN this model on a down-stream task to be able to use it for predictions and inference.\n"
          ],
          "name": "stderr"
        },
        {
          "output_type": "stream",
          "text": [
            "Epoch 0 ...\n",
            "Accuracy at epoch 1 :  0.81531268264173\n",
            "F0 score at epoch 1 : 0.6609442060085837\n",
            "F1 score at epoch 1 : 0.8730923694779116\n",
            "Mattthews Correlation Coeffient at epoch 1 :  0.5354167296189711\n",
            "Epoch 1 ...\n",
            "Accuracy at epoch 2 :  0.8024547048509644\n",
            "F0 score at epoch 2 : 0.6529774127310062\n",
            "F1 score at epoch 2 : 0.8619281045751634\n",
            "Mattthews Correlation Coeffient at epoch 2 :  0.5149055173061695\n",
            "Epoch 2 ...\n",
            "Accuracy at epoch 3 :  0.8012857977790766\n",
            "F0 score at epoch 3 : 0.6755725190839695\n",
            "F1 score at epoch 3 : 0.8567818028643639\n",
            "Mattthews Correlation Coeffient at epoch 3 :  0.5361534798220444\n",
            "Epoch 3 ...\n",
            "Accuracy at epoch 4 :  0.8176504967855055\n",
            "F0 score at epoch 4 : 0.6578947368421052\n",
            "F1 score at epoch 4 : 0.8756972111553786\n",
            "Mattthews Correlation Coeffient at epoch 4 :  0.5366761596063085\n",
            "Epoch 4 ...\n",
            "Accuracy at epoch 5 :  0.8129748684979544\n",
            "F0 score at epoch 5 : 0.6380090497737557\n",
            "F1 score at epoch 5 : 0.8739164696611506\n",
            "Mattthews Correlation Coeffient at epoch 5 :  0.5185547255378468\n"
          ],
          "name": "stdout"
        },
        {
          "output_type": "display_data",
          "data": {
            "image/png": "[encoded data removed]",
            "text/plain": [
              "<Figure size 576x432 with 1 Axes>"
            ]
          },
          "metadata": {
            "tags": []
          }
        }
      ]
    },
    {
      "cell_type": "markdown",
      "metadata": {
        "id": "aDavdc4qbRmO"
      },
      "source": [
        "We observe that BERT model outperforms largely other model for all classification metrics after very few epochs."
      ]
    },
    {
      "cell_type": "markdown",
      "metadata": {
        "id": "ws0DbP5wrvFa"
      },
      "source": [
        "***Testing***"
      ]
    },
    {
      "cell_type": "code",
      "metadata": {
        "id": "EDPq3UHir0vS"
      },
      "source": [
        "tokens_id_test_in, attention_masks_test_in = get_bert_input(sentences_test_in, bert_tokenizer)\n",
        "\n",
        "test_in_dataset = TensorDataset(tokens_id_test_in, attention_masks_test_in, torch.tensor(labels_test_in))\n",
        "test_in_loader = DataLoader(test_in_dataset, batch_size = tokens_id_test_in.shape[0])\n",
        "\n",
        "tokens_id_test_out, attention_masks_test_out = get_bert_input(sentences_test_out, bert_tokenizer)\n",
        "\n",
        "test_out_dataset = TensorDataset(tokens_id_test_out, attention_masks_test_out, torch.tensor(labels_test_out))\n",
        "test_out_loader = DataLoader(test_out_dataset, batch_size = tokens_id_test_out.shape[0])"
      ],
      "execution_count": null,
      "outputs": []
    },
    {
      "cell_type": "markdown",
      "metadata": {
        "id": "FOs_C9jys9UG"
      },
      "source": [
        "In domain dataset"
      ]
    },
    {
      "cell_type": "code",
      "metadata": {
        "colab": {
          "base_uri": "https://localhost:8080/"
        },
        "id": "NmKdsjSasQFY",
        "outputId": "9349aef2-3b93-4d71-e62b-5960b139a9ce"
      },
      "source": [
        "test(bert_clf, test_in_loader)"
      ],
      "execution_count": null,
      "outputs": [
        {
          "output_type": "stream",
          "text": [
            "Accuracy on test :  0.8406072106261859\n",
            "F0 score on test : 0.7103448275862069\n",
            "F1 score on test : 0.8900523560209425\n",
            "Mattthews Correlation Coeffient on test :  0.6104251576640887\n",
            "Confusion matrix : [[103  59]\n",
            " [ 25 340]]\n"
          ],
          "name": "stdout"
        }
      ]
    },
    {
      "cell_type": "markdown",
      "metadata": {
        "id": "cBrTEIals-7j"
      },
      "source": [
        "Out of domain dataset"
      ]
    },
    {
      "cell_type": "code",
      "metadata": {
        "colab": {
          "base_uri": "https://localhost:8080/"
        },
        "id": "uuJBF3uDs21l",
        "outputId": "42952371-1a56-4126-962b-54e19237348f"
      },
      "source": [
        "test(bert_clf, test_out_loader)"
      ],
      "execution_count": null,
      "outputs": [
        {
          "output_type": "stream",
          "text": [
            "Accuracy on test :  0.7965116279069767\n",
            "F0 score on test : 0.6067415730337079\n",
            "F1 score on test : 0.8627450980392158\n",
            "Mattthews Correlation Coeffient on test :  0.49823214802436\n",
            "Confusion matrix : [[ 81  81]\n",
            " [ 24 330]]\n"
          ],
          "name": "stdout"
        }
      ]
    },
    {
      "cell_type": "markdown",
      "metadata": {
        "id": "KmqfI-Wp4tGv"
      },
      "source": [
        "# 5) Qualitative analysis"
      ]
    },
    {
      "cell_type": "markdown",
      "metadata": {
        "id": "xHpjHMU5qJUk"
      },
      "source": [
        "## A) Analysis of BERT's results"
      ]
    },
    {
      "cell_type": "markdown",
      "metadata": {
        "id": "jWnHLrBSFP5H"
      },
      "source": [
        "Now, we will analyze the BERT results. We try to understand where BERT makes mistakes."
      ]
    },
    {
      "cell_type": "markdown",
      "metadata": {
        "id": "tYEL6qOoGsnv"
      },
      "source": [
        "To do so, we will look at the cases when the BERT mislabelled some sentences."
      ]
    },
    {
      "cell_type": "code",
      "metadata": {
        "id": "cJPeNI5c4tGv"
      },
      "source": [
        "def get_prediction(text_list, bert_clf):\n",
        "    # prepare our text into tokenized sequence\n",
        "    #inputs = bert_tokenizer(text, padding=True, truncation=True, max_length=64, return_tensors=\"pt\").to(device)\n",
        "    input, attention_mask = get_bert_input(text_list, bert_tokenizer)\n",
        "    # perform bert_clf to our model\n",
        "    output = bert_clf(input.to(device), attention_mask.to(device))\n",
        "    label_out = torch.argmax(output[0], axis = 1).to('cpu').numpy()\n",
        "    \n",
        "    return label_out[0]"
      ],
      "execution_count": null,
      "outputs": []
    },
    {
      "cell_type": "code",
      "metadata": {
        "id": "gtQpHJHpmlIw"
      },
      "source": [
        "df_test = df_test_in.append(df_test_out).reset_index()"
      ],
      "execution_count": null,
      "outputs": []
    },
    {
      "cell_type": "code",
      "metadata": {
        "id": "6G7zOxVZqFlY"
      },
      "source": [
        "res = df_test.copy()\n",
        "res['pred_bert'] = [get_prediction([res.sentence[i]], bert_clf) for i in range(len(res))]\n",
        "good_pred = res[res['label'] == res['pred_bert']].reset_index(drop=True)\n",
        "true_pos = res[(res['label']==1) & (res['pred_bert']==1)].reset_index(drop=True)\n",
        "true_neg = res[(res['label']==0) & (res['pred_bert']==0)].reset_index(drop=True)\n",
        "false_neg = res[(res['label']==1) & (res['pred_bert']==0)].reset_index(drop=True)\n",
        "false_pos = res[(res['label']==0) & (res['pred_bert']==1)].reset_index(drop=True)"
      ],
      "execution_count": null,
      "outputs": []
    },
    {
      "cell_type": "markdown",
      "metadata": {
        "id": "0_qYPRlKeM_C"
      },
      "source": [
        "We analyse number of words considering all type of predictions (True/False positive, True/False negative)."
      ]
    },
    {
      "cell_type": "code",
      "metadata": {
        "colab": {
          "base_uri": "https://localhost:8080/"
        },
        "id": "UqMd5lYjsrZn",
        "outputId": "99904cac-31ee-48c8-c385-d40041f52e55"
      },
      "source": [
        "good_pred_txt = \" \".join(good_pred.sentence)\n",
        "print('Average number of words for good prediction sentences : ', len(good_pred_txt.split(\" \"))/len(good_pred))"
      ],
      "execution_count": null,
      "outputs": [
        {
          "output_type": "stream",
          "text": [
            "Average number of words for good prediction sentences :  7.621266427718041\n"
          ],
          "name": "stdout"
        }
      ]
    },
    {
      "cell_type": "code",
      "metadata": {
        "colab": {
          "base_uri": "https://localhost:8080/"
        },
        "id": "l8paRdphtbBn",
        "outputId": "b603c18a-d61d-4daf-feae-f66105164865"
      },
      "source": [
        "true_pos_txt = \" \".join(true_pos.sentence)\n",
        "len(true_pos_txt.split(\" \"))/len(true_pos)\n",
        "\n",
        "print('Average number of words for True positive sentences : ', len(true_pos_txt.split(\" \"))/len(true_pos))"
      ],
      "execution_count": null,
      "outputs": [
        {
          "output_type": "stream",
          "text": [
            "Average number of words for True positive sentences :  7.855769230769231\n"
          ],
          "name": "stdout"
        }
      ]
    },
    {
      "cell_type": "code",
      "metadata": {
        "colab": {
          "base_uri": "https://localhost:8080/"
        },
        "id": "wlOCej9Stgxp",
        "outputId": "fc8db5a2-bb28-4d8e-a878-9dfecf1c79fc"
      },
      "source": [
        "true_neg_txt = \" \".join(true_neg.sentence)\n",
        "len(true_neg_txt.split(\" \"))/len(true_neg)\n",
        "\n",
        "print('Average number of words for True negative sentences : ', len(true_neg_txt.split(\" \"))/len(true_neg))"
      ],
      "execution_count": null,
      "outputs": [
        {
          "output_type": "stream",
          "text": [
            "Average number of words for True negative sentences :  6.934272300469484\n"
          ],
          "name": "stdout"
        }
      ]
    },
    {
      "cell_type": "code",
      "metadata": {
        "colab": {
          "base_uri": "https://localhost:8080/"
        },
        "id": "LcUovO0KqezT",
        "outputId": "feaabf30-7621-4711-b4d6-fa1224ce1c55"
      },
      "source": [
        "false_pos_txt = \" \".join(false_pos.sentence)\n",
        "\n",
        "print('Average number of words for False positive sentences : ', len(false_pos_txt.split(\" \"))/len(false_pos))"
      ],
      "execution_count": null,
      "outputs": [
        {
          "output_type": "stream",
          "text": [
            "Average number of words for False positive sentences :  9.567567567567568\n"
          ],
          "name": "stdout"
        }
      ]
    },
    {
      "cell_type": "code",
      "metadata": {
        "colab": {
          "base_uri": "https://localhost:8080/"
        },
        "id": "90y6phAjtI7s",
        "outputId": "17b59020-55ec-4492-cfde-0365c6941ba7"
      },
      "source": [
        "false_neg_txt = \" \".join(false_neg.sentence)\n",
        "\n",
        "print('Average number of words for False negative sentences : ', len(false_neg_txt.split(\" \"))/len(false_neg))"
      ],
      "execution_count": null,
      "outputs": [
        {
          "output_type": "stream",
          "text": [
            "Average number of words for False negative sentences :  8.642105263157895\n"
          ],
          "name": "stdout"
        }
      ]
    },
    {
      "cell_type": "markdown",
      "metadata": {
        "id": "iY2E8bWleYFS"
      },
      "source": [
        "We can see that short sentences are prominent in wrong predicted sentences."
      ]
    },
    {
      "cell_type": "markdown",
      "metadata": {
        "id": "9SZoZgZ1G--y"
      },
      "source": [
        "We will use Part Of Speech taggins to understand in what kind of sentence the BERT struggles to classify correctly."
      ]
    },
    {
      "cell_type": "code",
      "metadata": {
        "id": "6qIeP8ZAtIjB",
        "colab": {
          "base_uri": "https://localhost:8080/",
          "height": 686
        },
        "outputId": "c2a49cf2-2f54-4ca3-abd0-20549bb5d27e"
      },
      "source": [
        "import spacy\n",
        "from spacy import displacy\n",
        "from collections import Counter\n",
        "import en_core_web_sm\n",
        "\n",
        "# We apply POS on the false positive sentences and on the well-labelled sentences.\n",
        "\n",
        "nlp = spacy.load(\"en_core_web_sm\")\n",
        "false_pos_txt = \" \".join(false_pos.sentence)\n",
        "article = nlp(false_pos_txt)\n",
        "labels_false_pos = [x.pos_ for x in article]\n",
        "\n",
        "\n",
        "d_false_pos = Counter(labels_false_pos)\n",
        "\n",
        "#We consider the percentiles of word types\n",
        "df_count_false = pd.DataFrame.from_dict(d_false_pos, orient='index').reset_index()\n",
        "df_count_false['False positive'] = (df_count_false[0]/len(false_pos_txt.split(\" \")))\n",
        "df_count_false = df_count_false.sort_values(by='False positive',ascending=False)\n",
        "\n",
        "\n",
        "true_pos_txt = \" \".join(true_pos.sentence)\n",
        "article = nlp(true_pos_txt)\n",
        "labels_true_pos = [x.pos_ for x in article]\n",
        "print(len(labels_true_pos))\n",
        "\n",
        "\n",
        "d_true_pos = Counter(labels_true_pos)\n",
        "\n",
        "df_count_true = pd.DataFrame.from_dict(d_true_pos, orient='index').reset_index()\n",
        "\n",
        "\n",
        "#We consider the percentiles of word types\n",
        "df_count_true['True positive'] = (df_count_true[0]/len(true_pos_txt.split(\" \")))\n",
        "df_count_true = df_count_true.sort_values(by='True positive',ascending=False)\n",
        "\n",
        "df_comparison = df_count_false.merge(df_count_true, on='index')\n",
        "df_comparison = df_comparison[['index','False positive','True positive']]\n",
        "\n",
        "# We represent\n",
        "sns.set(rc={'figure.figsize':(12,10)}, style='white', font_scale=1.5, font='serif')\n",
        "df_hist = pd.DataFrame({'True positive': df_comparison['True positive'].astype('float32').values,\n",
        "                   'False positive': df_comparison['False positive'].astype('float32').values}, index=df_comparison['index'])\n",
        "df_hist.plot.bar(rot=90)\n",
        "plt.show()"
      ],
      "execution_count": null,
      "outputs": [
        {
          "output_type": "stream",
          "text": [
            "5699\n"
          ],
          "name": "stdout"
        },
        {
          "output_type": "display_data",
          "data": {
            "image/png": "[encoded data removed]",
            "text/plain": [
              "<Figure size 864x720 with 1 Axes>"
            ]
          },
          "metadata": {
            "tags": []
          }
        }
      ]
    },
    {
      "cell_type": "markdown",
      "metadata": {
        "id": "V_Isxe2MDdnu"
      },
      "source": [
        "This plot represents the proportion of each kind of word either in the sentences mislabelled (False_positive) or in the sentences well labelled (True_positive).\n",
        "\n",
        "From this graph we can draw three main results:\n",
        "*   There are way more pronouns (PRON) in the False_positive sentences than in the True_positive sentences. Indeed, English language has a lot of complex pronouns that could be difficult to handle, especially when it comes to pronouns related to verbs. A case in point might be \"look at\" VS \"look up to\" in which the pronouns change a lot the meaning of the verb.\n",
        "*   There are way more Proper name (PROPN) in the False_positive sentences than in the True_positive sentences. It can also be a reason of the mislabelled sentences because Proper name might be sometimes seen as a nouns if they don't have capital letters which can cause a mislabelling.\n",
        "*   There are way more nouns (NOUN) in the True_positive sentences than in the False_positive sentences. Indeed, a mistake from a mispelled noun is easier to catch than a grammatical mistake for instance. Thus it comes as no surprise that the BERT struggles to find the mistakes in sentences with few nouns."
      ]
    },
    {
      "cell_type": "code",
      "metadata": {
        "colab": {
          "base_uri": "https://localhost:8080/",
          "height": 686
        },
        "id": "30hh5iVTqoeJ",
        "outputId": "a82a5c25-5f4b-4e16-b800-e839f6348fe4"
      },
      "source": [
        "import spacy\n",
        "from spacy import displacy\n",
        "from collections import Counter\n",
        "import en_core_web_sm\n",
        "\n",
        "# We apply POS on the false positive sentences and on the well-labelled sentences.\n",
        "\n",
        "nlp = spacy.load(\"en_core_web_sm\")\n",
        "false_neg_txt = \" \".join(false_neg.sentence)\n",
        "article = nlp(false_neg_txt)\n",
        "labels_false_neg = [x.pos_ for x in article]\n",
        "\n",
        "\n",
        "d_false_neg = Counter(labels_false_neg)\n",
        "\n",
        "#We consider the number of word types per phrases\n",
        "df_count_false = pd.DataFrame.from_dict(d_false_neg, orient='index').reset_index()\n",
        "df_count_false['False negative'] = (df_count_false[0]/len(false_neg_txt.split(\" \")))\n",
        "df_count_false = df_count_false.sort_values(by='False negative',ascending=False)\n",
        "\n",
        "\n",
        "true_neg_txt = \" \".join(true_neg.sentence)\n",
        "article = nlp(true_neg_txt)\n",
        "labels_true_neg = [x.pos_ for x in article]\n",
        "print(len(labels_true_neg))\n",
        "\n",
        "\n",
        "d_true_neg = Counter(labels_true_neg)\n",
        "\n",
        "df_count_true = pd.DataFrame.from_dict(d_true_neg, orient='index').reset_index()\n",
        "\n",
        "#We consider the number of word types per phrases\n",
        "df_count_true['True negative'] = (df_count_true[0]/len(true_neg_txt.split(\" \")))\n",
        "df_count_true = df_count_true.sort_values(by='True negative',ascending=False)\n",
        "\n",
        "df_comparison = df_count_false.merge(df_count_true, on='index')\n",
        "#df_comparison = df_comparison.rename({'index' : 'Word Type'})\n",
        "df_comparison = df_comparison[['index','False negative','True negative']]\n",
        "\n",
        "# We represent\n",
        "sns.set(rc={'figure.figsize':(12,10)}, style='white', font_scale=1.5, font='serif')\n",
        "df_hist = pd.DataFrame({'True negative': df_comparison['True negative'].astype('float32').values,\n",
        "                   'False negative': df_comparison['False negative'].astype('float32').values}, index=df_comparison['index'])\n",
        "df_hist.plot.bar(rot=90)\n",
        "plt.show()"
      ],
      "execution_count": null,
      "outputs": [
        {
          "output_type": "stream",
          "text": [
            "1723\n"
          ],
          "name": "stdout"
        },
        {
          "output_type": "display_data",
          "data": {
            "image/png": "[encoded data removed]",
            "text/plain": [
              "<Figure size 864x720 with 1 Axes>"
            ]
          },
          "metadata": {
            "tags": []
          }
        }
      ]
    },
    {
      "cell_type": "markdown",
      "metadata": {
        "id": "IaR3xR-aOxZF"
      },
      "source": [
        "This plot represents the proportion of each kind of word either in the sentences mislabelled (False_negative) or in the sentences well labelled (True_negative).\n",
        "\n",
        "From this graph we can draw the following explanations:\n",
        "*   There are way more pronouns (PRON) in the False_negative sentences than in the True_negative sentences. As explained before, pronounx in English are complex to handle. What's tricky in those cases is that pronouns mistakes are not caused by mispellings but only by a wrong arrangement of the pronouns with the words they are reflecting to.\n",
        "*   There are way more particle words (PART) in the False_negative sentences than in the True_negative sentences. For being a very peculiar concept, BERT classifier struggles to classify correctly sentences in which there is a lot of particle. Indeed, particles are function words that must be associated with another word or phrase to impart meaning and that do not satisfy definitions of other universal parts of speech (e.g. adpositions, coordinating conjunctions, subordinating conjunctions or auxiliary verbs). It is a very contextual type of word which is still, relatively well managed by BERT, regarding the complexity of this kind of task.\n"
      ]
    },
    {
      "cell_type": "markdown",
      "metadata": {
        "id": "AlUnVyJ8R1nE"
      },
      "source": [
        "Let's look at some examples of misclassification.\n",
        "Using Spacy's displacy module, we look at the dependency visualizer, dep, shows part-of-speech tags and syntactic dependencies."
      ]
    },
    {
      "cell_type": "code",
      "metadata": {
        "id": "Z1OfeOoxRhex",
        "colab": {
          "base_uri": "https://localhost:8080/",
          "height": 791
        },
        "outputId": "84294135-7ca5-43f7-c669-f642afac8f34"
      },
      "source": [
        "nlp = spacy.load(\"en_core_web_sm\")\n",
        "doc=nlp(false_pos.sentence[12])\n",
        "displacy.render(doc, style='dep',jupyter=True)"
      ],
      "execution_count": null,
      "outputs": [
        {
          "output_type": "display_data",
          "data": {
            "text/html": [
              "<span class=\"tex2jax_ignore\"><svg xmlns=\"http://www.w3.org/2000/svg\" xmlns:xlink=\"http://www.w3.org/1999/xlink\" xml:lang=\"en\" id=\"70e027ee170143298d9193ff232cf887-0\" class=\"displacy\" width=\"3375\" height=\"749.5\" direction=\"ltr\" style=\"max-width: none; height: 749.5px; color: #000000; background: #ffffff; font-family: Arial; direction: ltr\">\n",
              "<text class=\"displacy-token\" fill=\"currentColor\" text-anchor=\"middle\" y=\"659.5\">\n",
              "    <tspan class=\"displacy-word\" fill=\"currentColor\" x=\"50\">I</tspan>\n",
              "    <tspan class=\"displacy-tag\" dy=\"2em\" fill=\"currentColor\" x=\"50\">PRON</tspan>\n",
              "</text>\n",
              "\n",
              "<text class=\"displacy-token\" fill=\"currentColor\" text-anchor=\"middle\" y=\"659.5\">\n",
              "    <tspan class=\"displacy-word\" fill=\"currentColor\" x=\"225\">live</tspan>\n",
              "    <tspan class=\"displacy-tag\" dy=\"2em\" fill=\"currentColor\" x=\"225\">VERB</tspan>\n",
              "</text>\n",
              "\n",
              "<text class=\"displacy-token\" fill=\"currentColor\" text-anchor=\"middle\" y=\"659.5\">\n",
              "    <tspan class=\"displacy-word\" fill=\"currentColor\" x=\"400\">at</tspan>\n",
              "    <tspan class=\"displacy-tag\" dy=\"2em\" fill=\"currentColor\" x=\"400\">ADP</tspan>\n",
              "</text>\n",
              "\n",
              "<text class=\"displacy-token\" fill=\"currentColor\" text-anchor=\"middle\" y=\"659.5\">\n",
              "    <tspan class=\"displacy-word\" fill=\"currentColor\" x=\"575\">the</tspan>\n",
              "    <tspan class=\"displacy-tag\" dy=\"2em\" fill=\"currentColor\" x=\"575\">DET</tspan>\n",
              "</text>\n",
              "\n",
              "<text class=\"displacy-token\" fill=\"currentColor\" text-anchor=\"middle\" y=\"659.5\">\n",
              "    <tspan class=\"displacy-word\" fill=\"currentColor\" x=\"750\">place</tspan>\n",
              "    <tspan class=\"displacy-tag\" dy=\"2em\" fill=\"currentColor\" x=\"750\">NOUN</tspan>\n",
              "</text>\n",
              "\n",
              "<text class=\"displacy-token\" fill=\"currentColor\" text-anchor=\"middle\" y=\"659.5\">\n",
              "    <tspan class=\"displacy-word\" fill=\"currentColor\" x=\"925\">where</tspan>\n",
              "    <tspan class=\"displacy-tag\" dy=\"2em\" fill=\"currentColor\" x=\"925\">ADV</tspan>\n",
              "</text>\n",
              "\n",
              "<text class=\"displacy-token\" fill=\"currentColor\" text-anchor=\"middle\" y=\"659.5\">\n",
              "    <tspan class=\"displacy-word\" fill=\"currentColor\" x=\"1100\">Route</tspan>\n",
              "    <tspan class=\"displacy-tag\" dy=\"2em\" fill=\"currentColor\" x=\"1100\">PROPN</tspan>\n",
              "</text>\n",
              "\n",
              "<text class=\"displacy-token\" fill=\"currentColor\" text-anchor=\"middle\" y=\"659.5\">\n",
              "    <tspan class=\"displacy-word\" fill=\"currentColor\" x=\"1275\">150</tspan>\n",
              "    <tspan class=\"displacy-tag\" dy=\"2em\" fill=\"currentColor\" x=\"1275\">NUM</tspan>\n",
              "</text>\n",
              "\n",
              "<text class=\"displacy-token\" fill=\"currentColor\" text-anchor=\"middle\" y=\"659.5\">\n",
              "    <tspan class=\"displacy-word\" fill=\"currentColor\" x=\"1450\">crosses</tspan>\n",
              "    <tspan class=\"displacy-tag\" dy=\"2em\" fill=\"currentColor\" x=\"1450\">VERB</tspan>\n",
              "</text>\n",
              "\n",
              "<text class=\"displacy-token\" fill=\"currentColor\" text-anchor=\"middle\" y=\"659.5\">\n",
              "    <tspan class=\"displacy-word\" fill=\"currentColor\" x=\"1625\">the</tspan>\n",
              "    <tspan class=\"displacy-tag\" dy=\"2em\" fill=\"currentColor\" x=\"1625\">DET</tspan>\n",
              "</text>\n",
              "\n",
              "<text class=\"displacy-token\" fill=\"currentColor\" text-anchor=\"middle\" y=\"659.5\">\n",
              "    <tspan class=\"displacy-word\" fill=\"currentColor\" x=\"1800\">Hudson</tspan>\n",
              "    <tspan class=\"displacy-tag\" dy=\"2em\" fill=\"currentColor\" x=\"1800\">PROPN</tspan>\n",
              "</text>\n",
              "\n",
              "<text class=\"displacy-token\" fill=\"currentColor\" text-anchor=\"middle\" y=\"659.5\">\n",
              "    <tspan class=\"displacy-word\" fill=\"currentColor\" x=\"1975\">River</tspan>\n",
              "    <tspan class=\"displacy-tag\" dy=\"2em\" fill=\"currentColor\" x=\"1975\">PROPN</tspan>\n",
              "</text>\n",
              "\n",
              "<text class=\"displacy-token\" fill=\"currentColor\" text-anchor=\"middle\" y=\"659.5\">\n",
              "    <tspan class=\"displacy-word\" fill=\"currentColor\" x=\"2150\">and</tspan>\n",
              "    <tspan class=\"displacy-tag\" dy=\"2em\" fill=\"currentColor\" x=\"2150\">CCONJ</tspan>\n",
              "</text>\n",
              "\n",
              "<text class=\"displacy-token\" fill=\"currentColor\" text-anchor=\"middle\" y=\"659.5\">\n",
              "    <tspan class=\"displacy-word\" fill=\"currentColor\" x=\"2325\">my</tspan>\n",
              "    <tspan class=\"displacy-tag\" dy=\"2em\" fill=\"currentColor\" x=\"2325\">DET</tspan>\n",
              "</text>\n",
              "\n",
              "<text class=\"displacy-token\" fill=\"currentColor\" text-anchor=\"middle\" y=\"659.5\">\n",
              "    <tspan class=\"displacy-word\" fill=\"currentColor\" x=\"2500\">dad</tspan>\n",
              "    <tspan class=\"displacy-tag\" dy=\"2em\" fill=\"currentColor\" x=\"2500\">NOUN</tspan>\n",
              "</text>\n",
              "\n",
              "<text class=\"displacy-token\" fill=\"currentColor\" text-anchor=\"middle\" y=\"659.5\">\n",
              "    <tspan class=\"displacy-word\" fill=\"currentColor\" x=\"2675\">lives</tspan>\n",
              "    <tspan class=\"displacy-tag\" dy=\"2em\" fill=\"currentColor\" x=\"2675\">VERB</tspan>\n",
              "</text>\n",
              "\n",
              "<text class=\"displacy-token\" fill=\"currentColor\" text-anchor=\"middle\" y=\"659.5\">\n",
              "    <tspan class=\"displacy-word\" fill=\"currentColor\" x=\"2850\">at</tspan>\n",
              "    <tspan class=\"displacy-tag\" dy=\"2em\" fill=\"currentColor\" x=\"2850\">ADP</tspan>\n",
              "</text>\n",
              "\n",
              "<text class=\"displacy-token\" fill=\"currentColor\" text-anchor=\"middle\" y=\"659.5\">\n",
              "    <tspan class=\"displacy-word\" fill=\"currentColor\" x=\"3025\">it</tspan>\n",
              "    <tspan class=\"displacy-tag\" dy=\"2em\" fill=\"currentColor\" x=\"3025\">PRON</tspan>\n",
              "</text>\n",
              "\n",
              "<text class=\"displacy-token\" fill=\"currentColor\" text-anchor=\"middle\" y=\"659.5\">\n",
              "    <tspan class=\"displacy-word\" fill=\"currentColor\" x=\"3200\">too.</tspan>\n",
              "    <tspan class=\"displacy-tag\" dy=\"2em\" fill=\"currentColor\" x=\"3200\">ADV</tspan>\n",
              "</text>\n",
              "\n",
              "<g class=\"displacy-arrow\">\n",
              "    <path class=\"displacy-arc\" id=\"arrow-70e027ee170143298d9193ff232cf887-0-0\" stroke-width=\"2px\" d=\"M70,614.5 C70,527.0 195.0,527.0 195.0,614.5\" fill=\"none\" stroke=\"currentColor\"/>\n",
              "    <text dy=\"1.25em\" style=\"font-size: 0.8em; letter-spacing: 1px\">\n",
              "        <textPath xlink:href=\"#arrow-70e027ee170143298d9193ff232cf887-0-0\" class=\"displacy-label\" startOffset=\"50%\" side=\"left\" fill=\"currentColor\" text-anchor=\"middle\">nsubj</textPath>\n",
              "    </text>\n",
              "    <path class=\"displacy-arrowhead\" d=\"M70,616.5 L62,604.5 78,604.5\" fill=\"currentColor\"/>\n",
              "</g>\n",
              "\n",
              "<g class=\"displacy-arrow\">\n",
              "    <path class=\"displacy-arc\" id=\"arrow-70e027ee170143298d9193ff232cf887-0-1\" stroke-width=\"2px\" d=\"M245,614.5 C245,527.0 370.0,527.0 370.0,614.5\" fill=\"none\" stroke=\"currentColor\"/>\n",
              "    <text dy=\"1.25em\" style=\"font-size: 0.8em; letter-spacing: 1px\">\n",
              "        <textPath xlink:href=\"#arrow-70e027ee170143298d9193ff232cf887-0-1\" class=\"displacy-label\" startOffset=\"50%\" side=\"left\" fill=\"currentColor\" text-anchor=\"middle\">prep</textPath>\n",
              "    </text>\n",
              "    <path class=\"displacy-arrowhead\" d=\"M370.0,616.5 L378.0,604.5 362.0,604.5\" fill=\"currentColor\"/>\n",
              "</g>\n",
              "\n",
              "<g class=\"displacy-arrow\">\n",
              "    <path class=\"displacy-arc\" id=\"arrow-70e027ee170143298d9193ff232cf887-0-2\" stroke-width=\"2px\" d=\"M595,614.5 C595,527.0 720.0,527.0 720.0,614.5\" fill=\"none\" stroke=\"currentColor\"/>\n",
              "    <text dy=\"1.25em\" style=\"font-size: 0.8em; letter-spacing: 1px\">\n",
              "        <textPath xlink:href=\"#arrow-70e027ee170143298d9193ff232cf887-0-2\" class=\"displacy-label\" startOffset=\"50%\" side=\"left\" fill=\"currentColor\" text-anchor=\"middle\">det</textPath>\n",
              "    </text>\n",
              "    <path class=\"displacy-arrowhead\" d=\"M595,616.5 L587,604.5 603,604.5\" fill=\"currentColor\"/>\n",
              "</g>\n",
              "\n",
              "<g class=\"displacy-arrow\">\n",
              "    <path class=\"displacy-arc\" id=\"arrow-70e027ee170143298d9193ff232cf887-0-3\" stroke-width=\"2px\" d=\"M420,614.5 C420,439.5 725.0,439.5 725.0,614.5\" fill=\"none\" stroke=\"currentColor\"/>\n",
              "    <text dy=\"1.25em\" style=\"font-size: 0.8em; letter-spacing: 1px\">\n",
              "        <textPath xlink:href=\"#arrow-70e027ee170143298d9193ff232cf887-0-3\" class=\"displacy-label\" startOffset=\"50%\" side=\"left\" fill=\"currentColor\" text-anchor=\"middle\">pobj</textPath>\n",
              "    </text>\n",
              "    <path class=\"displacy-arrowhead\" d=\"M725.0,616.5 L733.0,604.5 717.0,604.5\" fill=\"currentColor\"/>\n",
              "</g>\n",
              "\n",
              "<g class=\"displacy-arrow\">\n",
              "    <path class=\"displacy-arc\" id=\"arrow-70e027ee170143298d9193ff232cf887-0-4\" stroke-width=\"2px\" d=\"M945,614.5 C945,89.5 2670.0,89.5 2670.0,614.5\" fill=\"none\" stroke=\"currentColor\"/>\n",
              "    <text dy=\"1.25em\" style=\"font-size: 0.8em; letter-spacing: 1px\">\n",
              "        <textPath xlink:href=\"#arrow-70e027ee170143298d9193ff232cf887-0-4\" class=\"displacy-label\" startOffset=\"50%\" side=\"left\" fill=\"currentColor\" text-anchor=\"middle\">advmod</textPath>\n",
              "    </text>\n",
              "    <path class=\"displacy-arrowhead\" d=\"M945,616.5 L937,604.5 953,604.5\" fill=\"currentColor\"/>\n",
              "</g>\n",
              "\n",
              "<g class=\"displacy-arrow\">\n",
              "    <path class=\"displacy-arc\" id=\"arrow-70e027ee170143298d9193ff232cf887-0-5\" stroke-width=\"2px\" d=\"M1120,614.5 C1120,439.5 1425.0,439.5 1425.0,614.5\" fill=\"none\" stroke=\"currentColor\"/>\n",
              "    <text dy=\"1.25em\" style=\"font-size: 0.8em; letter-spacing: 1px\">\n",
              "        <textPath xlink:href=\"#arrow-70e027ee170143298d9193ff232cf887-0-5\" class=\"displacy-label\" startOffset=\"50%\" side=\"left\" fill=\"currentColor\" text-anchor=\"middle\">nmod</textPath>\n",
              "    </text>\n",
              "    <path class=\"displacy-arrowhead\" d=\"M1120,616.5 L1112,604.5 1128,604.5\" fill=\"currentColor\"/>\n",
              "</g>\n",
              "\n",
              "<g class=\"displacy-arrow\">\n",
              "    <path class=\"displacy-arc\" id=\"arrow-70e027ee170143298d9193ff232cf887-0-6\" stroke-width=\"2px\" d=\"M1295,614.5 C1295,527.0 1420.0,527.0 1420.0,614.5\" fill=\"none\" stroke=\"currentColor\"/>\n",
              "    <text dy=\"1.25em\" style=\"font-size: 0.8em; letter-spacing: 1px\">\n",
              "        <textPath xlink:href=\"#arrow-70e027ee170143298d9193ff232cf887-0-6\" class=\"displacy-label\" startOffset=\"50%\" side=\"left\" fill=\"currentColor\" text-anchor=\"middle\">nummod</textPath>\n",
              "    </text>\n",
              "    <path class=\"displacy-arrowhead\" d=\"M1295,616.5 L1287,604.5 1303,604.5\" fill=\"currentColor\"/>\n",
              "</g>\n",
              "\n",
              "<g class=\"displacy-arrow\">\n",
              "    <path class=\"displacy-arc\" id=\"arrow-70e027ee170143298d9193ff232cf887-0-7\" stroke-width=\"2px\" d=\"M1470,614.5 C1470,177.0 2665.0,177.0 2665.0,614.5\" fill=\"none\" stroke=\"currentColor\"/>\n",
              "    <text dy=\"1.25em\" style=\"font-size: 0.8em; letter-spacing: 1px\">\n",
              "        <textPath xlink:href=\"#arrow-70e027ee170143298d9193ff232cf887-0-7\" class=\"displacy-label\" startOffset=\"50%\" side=\"left\" fill=\"currentColor\" text-anchor=\"middle\">nsubj</textPath>\n",
              "    </text>\n",
              "    <path class=\"displacy-arrowhead\" d=\"M1470,616.5 L1462,604.5 1478,604.5\" fill=\"currentColor\"/>\n",
              "</g>\n",
              "\n",
              "<g class=\"displacy-arrow\">\n",
              "    <path class=\"displacy-arc\" id=\"arrow-70e027ee170143298d9193ff232cf887-0-8\" stroke-width=\"2px\" d=\"M1645,614.5 C1645,439.5 1950.0,439.5 1950.0,614.5\" fill=\"none\" stroke=\"currentColor\"/>\n",
              "    <text dy=\"1.25em\" style=\"font-size: 0.8em; letter-spacing: 1px\">\n",
              "        <textPath xlink:href=\"#arrow-70e027ee170143298d9193ff232cf887-0-8\" class=\"displacy-label\" startOffset=\"50%\" side=\"left\" fill=\"currentColor\" text-anchor=\"middle\">det</textPath>\n",
              "    </text>\n",
              "    <path class=\"displacy-arrowhead\" d=\"M1645,616.5 L1637,604.5 1653,604.5\" fill=\"currentColor\"/>\n",
              "</g>\n",
              "\n",
              "<g class=\"displacy-arrow\">\n",
              "    <path class=\"displacy-arc\" id=\"arrow-70e027ee170143298d9193ff232cf887-0-9\" stroke-width=\"2px\" d=\"M1820,614.5 C1820,527.0 1945.0,527.0 1945.0,614.5\" fill=\"none\" stroke=\"currentColor\"/>\n",
              "    <text dy=\"1.25em\" style=\"font-size: 0.8em; letter-spacing: 1px\">\n",
              "        <textPath xlink:href=\"#arrow-70e027ee170143298d9193ff232cf887-0-9\" class=\"displacy-label\" startOffset=\"50%\" side=\"left\" fill=\"currentColor\" text-anchor=\"middle\">compound</textPath>\n",
              "    </text>\n",
              "    <path class=\"displacy-arrowhead\" d=\"M1820,616.5 L1812,604.5 1828,604.5\" fill=\"currentColor\"/>\n",
              "</g>\n",
              "\n",
              "<g class=\"displacy-arrow\">\n",
              "    <path class=\"displacy-arc\" id=\"arrow-70e027ee170143298d9193ff232cf887-0-10\" stroke-width=\"2px\" d=\"M1995,614.5 C1995,264.5 2660.0,264.5 2660.0,614.5\" fill=\"none\" stroke=\"currentColor\"/>\n",
              "    <text dy=\"1.25em\" style=\"font-size: 0.8em; letter-spacing: 1px\">\n",
              "        <textPath xlink:href=\"#arrow-70e027ee170143298d9193ff232cf887-0-10\" class=\"displacy-label\" startOffset=\"50%\" side=\"left\" fill=\"currentColor\" text-anchor=\"middle\">nsubj</textPath>\n",
              "    </text>\n",
              "    <path class=\"displacy-arrowhead\" d=\"M1995,616.5 L1987,604.5 2003,604.5\" fill=\"currentColor\"/>\n",
              "</g>\n",
              "\n",
              "<g class=\"displacy-arrow\">\n",
              "    <path class=\"displacy-arc\" id=\"arrow-70e027ee170143298d9193ff232cf887-0-11\" stroke-width=\"2px\" d=\"M1995,614.5 C1995,527.0 2120.0,527.0 2120.0,614.5\" fill=\"none\" stroke=\"currentColor\"/>\n",
              "    <text dy=\"1.25em\" style=\"font-size: 0.8em; letter-spacing: 1px\">\n",
              "        <textPath xlink:href=\"#arrow-70e027ee170143298d9193ff232cf887-0-11\" class=\"displacy-label\" startOffset=\"50%\" side=\"left\" fill=\"currentColor\" text-anchor=\"middle\">cc</textPath>\n",
              "    </text>\n",
              "    <path class=\"displacy-arrowhead\" d=\"M2120.0,616.5 L2128.0,604.5 2112.0,604.5\" fill=\"currentColor\"/>\n",
              "</g>\n",
              "\n",
              "<g class=\"displacy-arrow\">\n",
              "    <path class=\"displacy-arc\" id=\"arrow-70e027ee170143298d9193ff232cf887-0-12\" stroke-width=\"2px\" d=\"M2345,614.5 C2345,527.0 2470.0,527.0 2470.0,614.5\" fill=\"none\" stroke=\"currentColor\"/>\n",
              "    <text dy=\"1.25em\" style=\"font-size: 0.8em; letter-spacing: 1px\">\n",
              "        <textPath xlink:href=\"#arrow-70e027ee170143298d9193ff232cf887-0-12\" class=\"displacy-label\" startOffset=\"50%\" side=\"left\" fill=\"currentColor\" text-anchor=\"middle\">poss</textPath>\n",
              "    </text>\n",
              "    <path class=\"displacy-arrowhead\" d=\"M2345,616.5 L2337,604.5 2353,604.5\" fill=\"currentColor\"/>\n",
              "</g>\n",
              "\n",
              "<g class=\"displacy-arrow\">\n",
              "    <path class=\"displacy-arc\" id=\"arrow-70e027ee170143298d9193ff232cf887-0-13\" stroke-width=\"2px\" d=\"M1995,614.5 C1995,352.0 2480.0,352.0 2480.0,614.5\" fill=\"none\" stroke=\"currentColor\"/>\n",
              "    <text dy=\"1.25em\" style=\"font-size: 0.8em; letter-spacing: 1px\">\n",
              "        <textPath xlink:href=\"#arrow-70e027ee170143298d9193ff232cf887-0-13\" class=\"displacy-label\" startOffset=\"50%\" side=\"left\" fill=\"currentColor\" text-anchor=\"middle\">conj</textPath>\n",
              "    </text>\n",
              "    <path class=\"displacy-arrowhead\" d=\"M2480.0,616.5 L2488.0,604.5 2472.0,604.5\" fill=\"currentColor\"/>\n",
              "</g>\n",
              "\n",
              "<g class=\"displacy-arrow\">\n",
              "    <path class=\"displacy-arc\" id=\"arrow-70e027ee170143298d9193ff232cf887-0-14\" stroke-width=\"2px\" d=\"M770,614.5 C770,2.0 2675.0,2.0 2675.0,614.5\" fill=\"none\" stroke=\"currentColor\"/>\n",
              "    <text dy=\"1.25em\" style=\"font-size: 0.8em; letter-spacing: 1px\">\n",
              "        <textPath xlink:href=\"#arrow-70e027ee170143298d9193ff232cf887-0-14\" class=\"displacy-label\" startOffset=\"50%\" side=\"left\" fill=\"currentColor\" text-anchor=\"middle\">relcl</textPath>\n",
              "    </text>\n",
              "    <path class=\"displacy-arrowhead\" d=\"M2675.0,616.5 L2683.0,604.5 2667.0,604.5\" fill=\"currentColor\"/>\n",
              "</g>\n",
              "\n",
              "<g class=\"displacy-arrow\">\n",
              "    <path class=\"displacy-arc\" id=\"arrow-70e027ee170143298d9193ff232cf887-0-15\" stroke-width=\"2px\" d=\"M2695,614.5 C2695,527.0 2820.0,527.0 2820.0,614.5\" fill=\"none\" stroke=\"currentColor\"/>\n",
              "    <text dy=\"1.25em\" style=\"font-size: 0.8em; letter-spacing: 1px\">\n",
              "        <textPath xlink:href=\"#arrow-70e027ee170143298d9193ff232cf887-0-15\" class=\"displacy-label\" startOffset=\"50%\" side=\"left\" fill=\"currentColor\" text-anchor=\"middle\">prep</textPath>\n",
              "    </text>\n",
              "    <path class=\"displacy-arrowhead\" d=\"M2820.0,616.5 L2828.0,604.5 2812.0,604.5\" fill=\"currentColor\"/>\n",
              "</g>\n",
              "\n",
              "<g class=\"displacy-arrow\">\n",
              "    <path class=\"displacy-arc\" id=\"arrow-70e027ee170143298d9193ff232cf887-0-16\" stroke-width=\"2px\" d=\"M2870,614.5 C2870,527.0 2995.0,527.0 2995.0,614.5\" fill=\"none\" stroke=\"currentColor\"/>\n",
              "    <text dy=\"1.25em\" style=\"font-size: 0.8em; letter-spacing: 1px\">\n",
              "        <textPath xlink:href=\"#arrow-70e027ee170143298d9193ff232cf887-0-16\" class=\"displacy-label\" startOffset=\"50%\" side=\"left\" fill=\"currentColor\" text-anchor=\"middle\">pobj</textPath>\n",
              "    </text>\n",
              "    <path class=\"displacy-arrowhead\" d=\"M2995.0,616.5 L3003.0,604.5 2987.0,604.5\" fill=\"currentColor\"/>\n",
              "</g>\n",
              "\n",
              "<g class=\"displacy-arrow\">\n",
              "    <path class=\"displacy-arc\" id=\"arrow-70e027ee170143298d9193ff232cf887-0-17\" stroke-width=\"2px\" d=\"M2695,614.5 C2695,352.0 3180.0,352.0 3180.0,614.5\" fill=\"none\" stroke=\"currentColor\"/>\n",
              "    <text dy=\"1.25em\" style=\"font-size: 0.8em; letter-spacing: 1px\">\n",
              "        <textPath xlink:href=\"#arrow-70e027ee170143298d9193ff232cf887-0-17\" class=\"displacy-label\" startOffset=\"50%\" side=\"left\" fill=\"currentColor\" text-anchor=\"middle\">advmod</textPath>\n",
              "    </text>\n",
              "    <path class=\"displacy-arrowhead\" d=\"M3180.0,616.5 L3188.0,604.5 3172.0,604.5\" fill=\"currentColor\"/>\n",
              "</g>\n",
              "</svg></span>"
            ],
            "text/plain": [
              "<IPython.core.display.HTML object>"
            ]
          },
          "metadata": {
            "tags": []
          }
        }
      ]
    },
    {
      "cell_type": "markdown",
      "metadata": {
        "id": "AQFzAt1hU6Tg"
      },
      "source": [
        "In this case, we can clearly see that the mistake is \"at it\" which should be \"there\" instead. Still, \"to live at\" is correct but \"to live at it\" is not which might explain why BERT classified this sentence as positive. "
      ]
    },
    {
      "cell_type": "code",
      "metadata": {
        "id": "N68Y2Zg8Ur1C",
        "colab": {
          "base_uri": "https://localhost:8080/",
          "height": 421
        },
        "outputId": "f310c848-6de4-4266-cb5f-3d5967e72ab5"
      },
      "source": [
        "nlp = spacy.load(\"en_core_web_sm\")\n",
        "doc = nlp(false_neg.sentence[32])\n",
        "displacy.render(doc, style='dep',jupyter=True)"
      ],
      "execution_count": null,
      "outputs": [
        {
          "output_type": "display_data",
          "data": {
            "text/html": [
              "<span class=\"tex2jax_ignore\"><svg xmlns=\"http://www.w3.org/2000/svg\" xmlns:xlink=\"http://www.w3.org/1999/xlink\" xml:lang=\"en\" id=\"8a73e27c36aa4d15a0f1d4aefbdf35a8-0\" class=\"displacy\" width=\"1450\" height=\"399.5\" direction=\"ltr\" style=\"max-width: none; height: 399.5px; color: #000000; background: #ffffff; font-family: Arial; direction: ltr\">\n",
              "<text class=\"displacy-token\" fill=\"currentColor\" text-anchor=\"middle\" y=\"309.5\">\n",
              "    <tspan class=\"displacy-word\" fill=\"currentColor\" x=\"50\">She</tspan>\n",
              "    <tspan class=\"displacy-tag\" dy=\"2em\" fill=\"currentColor\" x=\"50\">PRON</tspan>\n",
              "</text>\n",
              "\n",
              "<text class=\"displacy-token\" fill=\"currentColor\" text-anchor=\"middle\" y=\"309.5\">\n",
              "    <tspan class=\"displacy-word\" fill=\"currentColor\" x=\"225\">asked</tspan>\n",
              "    <tspan class=\"displacy-tag\" dy=\"2em\" fill=\"currentColor\" x=\"225\">VERB</tspan>\n",
              "</text>\n",
              "\n",
              "<text class=\"displacy-token\" fill=\"currentColor\" text-anchor=\"middle\" y=\"309.5\">\n",
              "    <tspan class=\"displacy-word\" fill=\"currentColor\" x=\"400\">was</tspan>\n",
              "    <tspan class=\"displacy-tag\" dy=\"2em\" fill=\"currentColor\" x=\"400\">AUX</tspan>\n",
              "</text>\n",
              "\n",
              "<text class=\"displacy-token\" fill=\"currentColor\" text-anchor=\"middle\" y=\"309.5\">\n",
              "    <tspan class=\"displacy-word\" fill=\"currentColor\" x=\"575\">Alison</tspan>\n",
              "    <tspan class=\"displacy-tag\" dy=\"2em\" fill=\"currentColor\" x=\"575\">PROPN</tspan>\n",
              "</text>\n",
              "\n",
              "<text class=\"displacy-token\" fill=\"currentColor\" text-anchor=\"middle\" y=\"309.5\">\n",
              "    <tspan class=\"displacy-word\" fill=\"currentColor\" x=\"750\">coming</tspan>\n",
              "    <tspan class=\"displacy-tag\" dy=\"2em\" fill=\"currentColor\" x=\"750\">VERB</tspan>\n",
              "</text>\n",
              "\n",
              "<text class=\"displacy-token\" fill=\"currentColor\" text-anchor=\"middle\" y=\"309.5\">\n",
              "    <tspan class=\"displacy-word\" fill=\"currentColor\" x=\"925\">to</tspan>\n",
              "    <tspan class=\"displacy-tag\" dy=\"2em\" fill=\"currentColor\" x=\"925\">ADP</tspan>\n",
              "</text>\n",
              "\n",
              "<text class=\"displacy-token\" fill=\"currentColor\" text-anchor=\"middle\" y=\"309.5\">\n",
              "    <tspan class=\"displacy-word\" fill=\"currentColor\" x=\"1100\">the</tspan>\n",
              "    <tspan class=\"displacy-tag\" dy=\"2em\" fill=\"currentColor\" x=\"1100\">DET</tspan>\n",
              "</text>\n",
              "\n",
              "<text class=\"displacy-token\" fill=\"currentColor\" text-anchor=\"middle\" y=\"309.5\">\n",
              "    <tspan class=\"displacy-word\" fill=\"currentColor\" x=\"1275\">party.</tspan>\n",
              "    <tspan class=\"displacy-tag\" dy=\"2em\" fill=\"currentColor\" x=\"1275\">NOUN</tspan>\n",
              "</text>\n",
              "\n",
              "<g class=\"displacy-arrow\">\n",
              "    <path class=\"displacy-arc\" id=\"arrow-8a73e27c36aa4d15a0f1d4aefbdf35a8-0-0\" stroke-width=\"2px\" d=\"M70,264.5 C70,177.0 215.0,177.0 215.0,264.5\" fill=\"none\" stroke=\"currentColor\"/>\n",
              "    <text dy=\"1.25em\" style=\"font-size: 0.8em; letter-spacing: 1px\">\n",
              "        <textPath xlink:href=\"#arrow-8a73e27c36aa4d15a0f1d4aefbdf35a8-0-0\" class=\"displacy-label\" startOffset=\"50%\" side=\"left\" fill=\"currentColor\" text-anchor=\"middle\">nsubj</textPath>\n",
              "    </text>\n",
              "    <path class=\"displacy-arrowhead\" d=\"M70,266.5 L62,254.5 78,254.5\" fill=\"currentColor\"/>\n",
              "</g>\n",
              "\n",
              "<g class=\"displacy-arrow\">\n",
              "    <path class=\"displacy-arc\" id=\"arrow-8a73e27c36aa4d15a0f1d4aefbdf35a8-0-1\" stroke-width=\"2px\" d=\"M420,264.5 C420,89.5 745.0,89.5 745.0,264.5\" fill=\"none\" stroke=\"currentColor\"/>\n",
              "    <text dy=\"1.25em\" style=\"font-size: 0.8em; letter-spacing: 1px\">\n",
              "        <textPath xlink:href=\"#arrow-8a73e27c36aa4d15a0f1d4aefbdf35a8-0-1\" class=\"displacy-label\" startOffset=\"50%\" side=\"left\" fill=\"currentColor\" text-anchor=\"middle\">aux</textPath>\n",
              "    </text>\n",
              "    <path class=\"displacy-arrowhead\" d=\"M420,266.5 L412,254.5 428,254.5\" fill=\"currentColor\"/>\n",
              "</g>\n",
              "\n",
              "<g class=\"displacy-arrow\">\n",
              "    <path class=\"displacy-arc\" id=\"arrow-8a73e27c36aa4d15a0f1d4aefbdf35a8-0-2\" stroke-width=\"2px\" d=\"M595,264.5 C595,177.0 740.0,177.0 740.0,264.5\" fill=\"none\" stroke=\"currentColor\"/>\n",
              "    <text dy=\"1.25em\" style=\"font-size: 0.8em; letter-spacing: 1px\">\n",
              "        <textPath xlink:href=\"#arrow-8a73e27c36aa4d15a0f1d4aefbdf35a8-0-2\" class=\"displacy-label\" startOffset=\"50%\" side=\"left\" fill=\"currentColor\" text-anchor=\"middle\">nsubj</textPath>\n",
              "    </text>\n",
              "    <path class=\"displacy-arrowhead\" d=\"M595,266.5 L587,254.5 603,254.5\" fill=\"currentColor\"/>\n",
              "</g>\n",
              "\n",
              "<g class=\"displacy-arrow\">\n",
              "    <path class=\"displacy-arc\" id=\"arrow-8a73e27c36aa4d15a0f1d4aefbdf35a8-0-3\" stroke-width=\"2px\" d=\"M245,264.5 C245,2.0 750.0,2.0 750.0,264.5\" fill=\"none\" stroke=\"currentColor\"/>\n",
              "    <text dy=\"1.25em\" style=\"font-size: 0.8em; letter-spacing: 1px\">\n",
              "        <textPath xlink:href=\"#arrow-8a73e27c36aa4d15a0f1d4aefbdf35a8-0-3\" class=\"displacy-label\" startOffset=\"50%\" side=\"left\" fill=\"currentColor\" text-anchor=\"middle\">ccomp</textPath>\n",
              "    </text>\n",
              "    <path class=\"displacy-arrowhead\" d=\"M750.0,266.5 L758.0,254.5 742.0,254.5\" fill=\"currentColor\"/>\n",
              "</g>\n",
              "\n",
              "<g class=\"displacy-arrow\">\n",
              "    <path class=\"displacy-arc\" id=\"arrow-8a73e27c36aa4d15a0f1d4aefbdf35a8-0-4\" stroke-width=\"2px\" d=\"M770,264.5 C770,177.0 915.0,177.0 915.0,264.5\" fill=\"none\" stroke=\"currentColor\"/>\n",
              "    <text dy=\"1.25em\" style=\"font-size: 0.8em; letter-spacing: 1px\">\n",
              "        <textPath xlink:href=\"#arrow-8a73e27c36aa4d15a0f1d4aefbdf35a8-0-4\" class=\"displacy-label\" startOffset=\"50%\" side=\"left\" fill=\"currentColor\" text-anchor=\"middle\">prep</textPath>\n",
              "    </text>\n",
              "    <path class=\"displacy-arrowhead\" d=\"M915.0,266.5 L923.0,254.5 907.0,254.5\" fill=\"currentColor\"/>\n",
              "</g>\n",
              "\n",
              "<g class=\"displacy-arrow\">\n",
              "    <path class=\"displacy-arc\" id=\"arrow-8a73e27c36aa4d15a0f1d4aefbdf35a8-0-5\" stroke-width=\"2px\" d=\"M1120,264.5 C1120,177.0 1265.0,177.0 1265.0,264.5\" fill=\"none\" stroke=\"currentColor\"/>\n",
              "    <text dy=\"1.25em\" style=\"font-size: 0.8em; letter-spacing: 1px\">\n",
              "        <textPath xlink:href=\"#arrow-8a73e27c36aa4d15a0f1d4aefbdf35a8-0-5\" class=\"displacy-label\" startOffset=\"50%\" side=\"left\" fill=\"currentColor\" text-anchor=\"middle\">det</textPath>\n",
              "    </text>\n",
              "    <path class=\"displacy-arrowhead\" d=\"M1120,266.5 L1112,254.5 1128,254.5\" fill=\"currentColor\"/>\n",
              "</g>\n",
              "\n",
              "<g class=\"displacy-arrow\">\n",
              "    <path class=\"displacy-arc\" id=\"arrow-8a73e27c36aa4d15a0f1d4aefbdf35a8-0-6\" stroke-width=\"2px\" d=\"M945,264.5 C945,89.5 1270.0,89.5 1270.0,264.5\" fill=\"none\" stroke=\"currentColor\"/>\n",
              "    <text dy=\"1.25em\" style=\"font-size: 0.8em; letter-spacing: 1px\">\n",
              "        <textPath xlink:href=\"#arrow-8a73e27c36aa4d15a0f1d4aefbdf35a8-0-6\" class=\"displacy-label\" startOffset=\"50%\" side=\"left\" fill=\"currentColor\" text-anchor=\"middle\">pobj</textPath>\n",
              "    </text>\n",
              "    <path class=\"displacy-arrowhead\" d=\"M1270.0,266.5 L1278.0,254.5 1262.0,254.5\" fill=\"currentColor\"/>\n",
              "</g>\n",
              "</svg></span>"
            ],
            "text/plain": [
              "<IPython.core.display.HTML object>"
            ]
          },
          "metadata": {
            "tags": []
          }
        }
      ]
    },
    {
      "cell_type": "markdown",
      "metadata": {
        "id": "Tyq5LdmTVqPL"
      },
      "source": [
        "This sentence is tricky because it includes an indirect question. The part \"was Alison...\" might be the part that BERT classified as incorrect."
      ]
    }
  ]
}